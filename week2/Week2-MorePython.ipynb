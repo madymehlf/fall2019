{
 "cells": [
  {
   "cell_type": "markdown",
   "metadata": {
    "slideshow": {
     "slide_type": "slide"
    }
   },
   "source": [
    "# Week 2\n",
    "## What else you need to know about Python syntaxis and functions"
   ]
  },
  {
   "cell_type": "markdown",
   "metadata": {
    "slideshow": {
     "slide_type": "slide"
    }
   },
   "source": []
  },
  {
   "cell_type": "code",
   "execution_count": 1,
   "metadata": {
    "collapsed": true,
    "slideshow": {
     "slide_type": "skip"
    }
   },
   "outputs": [
    {
     "name": "stdout",
     "output_type": "stream",
     "text": [
      "[2, 3, 5, 7, 11, 13, 17, 19, 23, 29, 31, 37, 41, 43, 47, 53, 59, 61, 67, 71, 73, 79, 83, 89, 97]\n"
     ]
    }
   ],
   "source": [
    "primes = []\n",
    "i = 2\n",
    "while len(primes) < 25:\n",
    "    for p in primes:\n",
    "        if i % p == 0:\n",
    "            break\n",
    "    else:\n",
    "        primes.append(i)\n",
    "    i += 1\n",
    "\n",
    "print(primes)"
   ]
  },
  {
   "cell_type": "code",
   "execution_count": null,
   "metadata": {
    "collapsed": true,
    "slideshow": {
     "slide_type": "skip"
    }
   },
   "outputs": [],
   "source": []
  },
  {
   "cell_type": "code",
   "execution_count": 2,
   "metadata": {
    "slideshow": {
     "slide_type": "slide"
    }
   },
   "outputs": [
    {
     "name": "stdout",
     "output_type": "stream",
     "text": [
      "0\n",
      "1\n",
      "2\n",
      "3\n",
      "4\n",
      "Squared from list:\n",
      "[0, 1, 4, 9, 16]\n",
      "Squared from iterable:\n",
      "<generator object <genexpr> at 0x105aa85c8>\n"
     ]
    }
   ],
   "source": [
    "# list and generator comprehensions\n",
    "\n",
    "def square(val):\n",
    "    print(val)\n",
    "    return val ** 2\n",
    "\n",
    "squared_numbers = [square(i) for i in range(5)]\n",
    "print('Squared from list:')\n",
    "print(squared_numbers)\n",
    "\n",
    "squared_numbers = (square(i) for i in range(5))\n",
    "print('Squared from iterable:')\n",
    "print(squared_numbers)"
   ]
  },
  {
   "cell_type": "markdown",
   "metadata": {},
   "source": [
    "this is synonomous with the following code \n"
   ]
  },
  {
   "cell_type": "code",
   "execution_count": null,
   "metadata": {},
   "outputs": [],
   "source": [
    "list(map(square, range(5)))"
   ]
  },
  {
   "cell_type": "markdown",
   "metadata": {},
   "source": [
    "generators can be used in a function and be unpacked \n",
    "retain state and have a memory n dcreate a generator expressqin, ise a list (parens instead of square brackets) "
   ]
  },
  {
   "cell_type": "code",
   "execution_count": null,
   "metadata": {},
   "outputs": [],
   "source": [
    "next(squared_numbers)\n",
    "\n",
    "# or \n",
    "\n",
    "for i in squared_numbers: \n",
    "    print(i)"
   ]
  },
  {
   "cell_type": "code",
   "execution_count": 3,
   "metadata": {
    "collapsed": true,
    "slideshow": {
     "slide_type": "slide"
    }
   },
   "outputs": [
    {
     "name": "stdout",
     "output_type": "stream",
     "text": [
      "before\n",
      "decorated\n",
      "after\n"
     ]
    }
   ],
   "source": [
    "# Decorators\n",
    "def decorator(inner):\n",
    "    def inner_decorator():\n",
    "        print('before')\n",
    "        inner()\n",
    "        print('after')\n",
    "    return inner_decorator\n",
    "\n",
    "def decorated():\n",
    "    print('decorated')\n",
    "\n",
    "f = decorator(decorated)\n",
    "f()"
   ]
  },
  {
   "cell_type": "markdown",
   "metadata": {},
   "source": [
    "decorator changes the behavior \n",
    "it will do something before and after the decorator function rusn "
   ]
  },
  {
   "cell_type": "code",
   "execution_count": 4,
   "metadata": {
    "collapsed": true,
    "slideshow": {
     "slide_type": "fragment"
    }
   },
   "outputs": [
    {
     "name": "stdout",
     "output_type": "stream",
     "text": [
      "before\n",
      "decorated\n",
      "after\n"
     ]
    }
   ],
   "source": [
    "@decorator\n",
    "def decorated():\n",
    "    print('decorated')\n",
    "    \n",
    "decorated()"
   ]
  },
  {
   "cell_type": "markdown",
   "metadata": {},
   "source": [
    "helps for object oriented programming helps define the class \n",
    "\n",
    "if you dask to run program in parallel \n",
    "\n",
    "\n",
    "shell tools for python is called click \n",
    "this used decorators to help define the command line interface "
   ]
  },
  {
   "cell_type": "code",
   "execution_count": null,
   "metadata": {
    "collapsed": true,
    "slideshow": {
     "slide_type": "slide"
    }
   },
   "outputs": [],
   "source": [
    "import time\n",
    "\n",
    "@functools.lru_cache()\n",
    "def slow_compute(n):\n",
    "    time.sleep(1)\n",
    "    print(n)\n",
    "\n",
    "start = time.time()\n",
    "slow_compute(1)\n",
    "print('First time function runs with these arguments takes ', time.time() - start)\n",
    "\n",
    "start = time.time()\n",
    "slow_compute(1)\n",
    "print('Second time function runs with these arguments takes ', time.time() - start)\n",
    "\n",
    "start = time.time()\n",
    "slow_compute(2)\n",
    "print('Changing the arguments causes slow_compute to be run again and takes ', time.time() - start)"
   ]
  },
  {
   "cell_type": "code",
   "execution_count": 28,
   "metadata": {
    "slideshow": {
     "slide_type": "slide"
    }
   },
   "outputs": [
    {
     "name": "stdout",
     "output_type": "stream",
     "text": [
      "[1, 4, 9]\n"
     ]
    }
   ],
   "source": [
    "def f(x):\n",
    "    return x*x\n",
    "\n",
    "print(list(map(f, [1, 2, 3])))\n",
    "#these are the same 2 things \n",
    "print([f(i) for i in [1,2,3]])"
   ]
  },
  {
   "cell_type": "code",
   "execution_count": 30,
   "metadata": {
    "slideshow": {
     "slide_type": "fragment"
    }
   },
   "outputs": [
    {
     "name": "stdout",
     "output_type": "stream",
     "text": [
      "[1, 4, 9]\n"
     ]
    }
   ],
   "source": [
    "from multiprocessing import Pool\n",
    "\n",
    "with Pool(5) as p:\n",
    "    print(p.map(f, [1, 2, 3]))"
   ]
  },
  {
   "cell_type": "code",
   "execution_count": 49,
   "metadata": {
    "slideshow": {
     "slide_type": "slide"
    }
   },
   "outputs": [
    {
     "data": {
      "text/plain": [
       "10"
      ]
     },
     "execution_count": 49,
     "metadata": {},
     "output_type": "execute_result"
    }
   ],
   "source": [
    "import functools\n",
    "\n",
    "def plus(val, n):\n",
    "    return val + n\n",
    "\n",
    "f = functools.partial(plus, 5)\n",
    "f(5)"
   ]
  },
  {
   "cell_type": "code",
   "execution_count": null,
   "metadata": {},
   "outputs": [],
   "source": [
    "# filter example\n"
   ]
  }
 ],
 "metadata": {
  "celltoolbar": "Slideshow",
  "kernelspec": {
   "display_name": "Python 3",
   "language": "python",
   "name": "python3"
  },
  "language_info": {
   "codemirror_mode": {
    "name": "ipython",
    "version": 3
   },
   "file_extension": ".py",
   "mimetype": "text/x-python",
   "name": "python",
   "nbconvert_exporter": "python",
   "pygments_lexer": "ipython3",
   "version": "3.7.3"
  }
 },
 "nbformat": 4,
 "nbformat_minor": 2
}
