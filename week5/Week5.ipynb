{
 "cells": [
  {
   "cell_type": "markdown",
   "metadata": {
    "slideshow": {
     "slide_type": "slide"
    }
   },
   "source": [
    "# Supervised Learning\n",
    "## Overfitting and Regularization\n",
    "\n",
    "Alexander Goncearenco\n",
    "\n",
    "March 7, 2019"
   ]
  },
  {
   "cell_type": "markdown",
   "metadata": {},
   "source": [
    "### Recap supervised learning and regression"
   ]
  },
  {
   "cell_type": "code",
   "execution_count": 14,
   "metadata": {},
   "outputs": [],
   "source": [
    "from sklearn.datasets import load_boston\n",
    "\n",
    "boston = load_boston()\n",
    "X = boston.data\n",
    "y = boston.target\n",
    "\n",
    "# boston.DESCR.splitlines()\n",
    "# ?load_boston"
   ]
  },
  {
   "cell_type": "code",
   "execution_count": 2,
   "metadata": {},
   "outputs": [
    {
     "data": {
      "text/plain": [
       "('X:', (506, 13), 'y:', (506,))"
      ]
     },
     "execution_count": 2,
     "metadata": {},
     "output_type": "execute_result"
    }
   ],
   "source": [
    "\"X:\", X.shape, \"y:\", y.shape"
   ]
  },
  {
   "cell_type": "code",
   "execution_count": 3,
   "metadata": {},
   "outputs": [
    {
     "data": {
      "text/plain": [
       "0.7406426641094095"
      ]
     },
     "execution_count": 3,
     "metadata": {},
     "output_type": "execute_result"
    }
   ],
   "source": [
    "from sklearn.linear_model import LinearRegression\n",
    "\n",
    "lr_house_price = LinearRegression().fit(X, y)\n",
    "lr_house_price.score(X, y)\n",
    "\n",
    "#retruns r^2 the closer to 1 the better our prediction is "
   ]
  },
  {
   "cell_type": "code",
   "execution_count": 7,
   "metadata": {},
   "outputs": [],
   "source": [
    "predicted_price = lr_house_price.predict(X)"
   ]
  },
  {
   "cell_type": "code",
   "execution_count": 8,
   "metadata": {},
   "outputs": [
    {
     "data": {
      "text/plain": [
       "(506,)"
      ]
     },
     "execution_count": 8,
     "metadata": {},
     "output_type": "execute_result"
    }
   ],
   "source": [
    "predicted_price.shape"
   ]
  },
  {
   "cell_type": "code",
   "execution_count": 13,
   "metadata": {},
   "outputs": [
    {
     "ename": "ModuleNotFoundError",
     "evalue": "No module named 'seaborn'",
     "output_type": "error",
     "traceback": [
      "\u001b[0;31m---------------------------------------------------------------------------\u001b[0m",
      "\u001b[0;31mModuleNotFoundError\u001b[0m                       Traceback (most recent call last)",
      "\u001b[0;32m<ipython-input-13-c03fe1a5e49e>\u001b[0m in \u001b[0;36m<module>\u001b[0;34m\u001b[0m\n\u001b[1;32m      2\u001b[0m \u001b[0;34m\u001b[0m\u001b[0m\n\u001b[1;32m      3\u001b[0m \u001b[0;32mimport\u001b[0m \u001b[0mpandas\u001b[0m \u001b[0;32mas\u001b[0m \u001b[0mpd\u001b[0m\u001b[0;34m\u001b[0m\u001b[0;34m\u001b[0m\u001b[0m\n\u001b[0;32m----> 4\u001b[0;31m \u001b[0;32mimport\u001b[0m \u001b[0mseaborn\u001b[0m \u001b[0;32mas\u001b[0m \u001b[0msb\u001b[0m\u001b[0;34m\u001b[0m\u001b[0;34m\u001b[0m\u001b[0m\n\u001b[0m\u001b[1;32m      5\u001b[0m \u001b[0;34m\u001b[0m\u001b[0m\n\u001b[1;32m      6\u001b[0m \u001b[0md\u001b[0m \u001b[0;34m=\u001b[0m \u001b[0mpd\u001b[0m\u001b[0;34m.\u001b[0m\u001b[0mDataFrame\u001b[0m\u001b[0;34m(\u001b[0m\u001b[0mX\u001b[0m\u001b[0;34m)\u001b[0m\u001b[0;34m\u001b[0m\u001b[0;34m\u001b[0m\u001b[0m\n",
      "\u001b[0;31mModuleNotFoundError\u001b[0m: No module named 'seaborn'"
     ]
    }
   ],
   "source": [
    "%matplotlib inline\n",
    "\n",
    "import pandas as pd\n",
    "import seaborn as sb\n",
    "\n",
    "d = pd.DataFrame(X)\n",
    "d['predicted_price'] = pd.Series(predicted_price)\n",
    "d['actual_price'] = pd.Series(y)"
   ]
  },
  {
   "cell_type": "code",
   "execution_count": 8,
   "metadata": {},
   "outputs": [
    {
     "data": {
      "text/html": [
       "<div>\n",
       "<style scoped>\n",
       "    .dataframe tbody tr th:only-of-type {\n",
       "        vertical-align: middle;\n",
       "    }\n",
       "\n",
       "    .dataframe tbody tr th {\n",
       "        vertical-align: top;\n",
       "    }\n",
       "\n",
       "    .dataframe thead th {\n",
       "        text-align: right;\n",
       "    }\n",
       "</style>\n",
       "<table border=\"1\" class=\"dataframe\">\n",
       "  <thead>\n",
       "    <tr style=\"text-align: right;\">\n",
       "      <th></th>\n",
       "      <th>0</th>\n",
       "      <th>1</th>\n",
       "      <th>2</th>\n",
       "      <th>3</th>\n",
       "      <th>4</th>\n",
       "      <th>5</th>\n",
       "      <th>6</th>\n",
       "      <th>7</th>\n",
       "      <th>8</th>\n",
       "      <th>9</th>\n",
       "      <th>10</th>\n",
       "      <th>11</th>\n",
       "      <th>12</th>\n",
       "      <th>predicted_price</th>\n",
       "      <th>actual_price</th>\n",
       "    </tr>\n",
       "  </thead>\n",
       "  <tbody>\n",
       "    <tr>\n",
       "      <th>0</th>\n",
       "      <td>0.00632</td>\n",
       "      <td>18.0</td>\n",
       "      <td>2.31</td>\n",
       "      <td>0.0</td>\n",
       "      <td>0.538</td>\n",
       "      <td>6.575</td>\n",
       "      <td>65.2</td>\n",
       "      <td>4.0900</td>\n",
       "      <td>1.0</td>\n",
       "      <td>296.0</td>\n",
       "      <td>15.3</td>\n",
       "      <td>396.90</td>\n",
       "      <td>4.98</td>\n",
       "      <td>30.003843</td>\n",
       "      <td>24.0</td>\n",
       "    </tr>\n",
       "    <tr>\n",
       "      <th>1</th>\n",
       "      <td>0.02731</td>\n",
       "      <td>0.0</td>\n",
       "      <td>7.07</td>\n",
       "      <td>0.0</td>\n",
       "      <td>0.469</td>\n",
       "      <td>6.421</td>\n",
       "      <td>78.9</td>\n",
       "      <td>4.9671</td>\n",
       "      <td>2.0</td>\n",
       "      <td>242.0</td>\n",
       "      <td>17.8</td>\n",
       "      <td>396.90</td>\n",
       "      <td>9.14</td>\n",
       "      <td>25.025562</td>\n",
       "      <td>21.6</td>\n",
       "    </tr>\n",
       "    <tr>\n",
       "      <th>2</th>\n",
       "      <td>0.02729</td>\n",
       "      <td>0.0</td>\n",
       "      <td>7.07</td>\n",
       "      <td>0.0</td>\n",
       "      <td>0.469</td>\n",
       "      <td>7.185</td>\n",
       "      <td>61.1</td>\n",
       "      <td>4.9671</td>\n",
       "      <td>2.0</td>\n",
       "      <td>242.0</td>\n",
       "      <td>17.8</td>\n",
       "      <td>392.83</td>\n",
       "      <td>4.03</td>\n",
       "      <td>30.567597</td>\n",
       "      <td>34.7</td>\n",
       "    </tr>\n",
       "    <tr>\n",
       "      <th>3</th>\n",
       "      <td>0.03237</td>\n",
       "      <td>0.0</td>\n",
       "      <td>2.18</td>\n",
       "      <td>0.0</td>\n",
       "      <td>0.458</td>\n",
       "      <td>6.998</td>\n",
       "      <td>45.8</td>\n",
       "      <td>6.0622</td>\n",
       "      <td>3.0</td>\n",
       "      <td>222.0</td>\n",
       "      <td>18.7</td>\n",
       "      <td>394.63</td>\n",
       "      <td>2.94</td>\n",
       "      <td>28.607036</td>\n",
       "      <td>33.4</td>\n",
       "    </tr>\n",
       "    <tr>\n",
       "      <th>4</th>\n",
       "      <td>0.06905</td>\n",
       "      <td>0.0</td>\n",
       "      <td>2.18</td>\n",
       "      <td>0.0</td>\n",
       "      <td>0.458</td>\n",
       "      <td>7.147</td>\n",
       "      <td>54.2</td>\n",
       "      <td>6.0622</td>\n",
       "      <td>3.0</td>\n",
       "      <td>222.0</td>\n",
       "      <td>18.7</td>\n",
       "      <td>396.90</td>\n",
       "      <td>5.33</td>\n",
       "      <td>27.943524</td>\n",
       "      <td>36.2</td>\n",
       "    </tr>\n",
       "  </tbody>\n",
       "</table>\n",
       "</div>"
      ],
      "text/plain": [
       "         0     1     2    3      4      5     6       7    8      9    10  \\\n",
       "0  0.00632  18.0  2.31  0.0  0.538  6.575  65.2  4.0900  1.0  296.0  15.3   \n",
       "1  0.02731   0.0  7.07  0.0  0.469  6.421  78.9  4.9671  2.0  242.0  17.8   \n",
       "2  0.02729   0.0  7.07  0.0  0.469  7.185  61.1  4.9671  2.0  242.0  17.8   \n",
       "3  0.03237   0.0  2.18  0.0  0.458  6.998  45.8  6.0622  3.0  222.0  18.7   \n",
       "4  0.06905   0.0  2.18  0.0  0.458  7.147  54.2  6.0622  3.0  222.0  18.7   \n",
       "\n",
       "       11    12  predicted_price  actual_price  \n",
       "0  396.90  4.98        30.003843          24.0  \n",
       "1  396.90  9.14        25.025562          21.6  \n",
       "2  392.83  4.03        30.567597          34.7  \n",
       "3  394.63  2.94        28.607036          33.4  \n",
       "4  396.90  5.33        27.943524          36.2  "
      ]
     },
     "execution_count": 8,
     "metadata": {},
     "output_type": "execute_result"
    }
   ],
   "source": [
    "d.head()"
   ]
  },
  {
   "cell_type": "markdown",
   "metadata": {},
   "source": [
    "### How we evaluate performance of models?"
   ]
  },
  {
   "cell_type": "markdown",
   "metadata": {},
   "source": [
    "$SE= (\\hat y-y)^2$ this returns a bunch of squared errors "
   ]
  },
  {
   "cell_type": "code",
   "execution_count": 9,
   "metadata": {},
   "outputs": [
    {
     "data": {
      "text/html": [
       "<div>\n",
       "<style scoped>\n",
       "    .dataframe tbody tr th:only-of-type {\n",
       "        vertical-align: middle;\n",
       "    }\n",
       "\n",
       "    .dataframe tbody tr th {\n",
       "        vertical-align: top;\n",
       "    }\n",
       "\n",
       "    .dataframe thead th {\n",
       "        text-align: right;\n",
       "    }\n",
       "</style>\n",
       "<table border=\"1\" class=\"dataframe\">\n",
       "  <thead>\n",
       "    <tr style=\"text-align: right;\">\n",
       "      <th></th>\n",
       "      <th>0</th>\n",
       "      <th>1</th>\n",
       "      <th>2</th>\n",
       "      <th>3</th>\n",
       "      <th>4</th>\n",
       "      <th>5</th>\n",
       "      <th>6</th>\n",
       "      <th>7</th>\n",
       "      <th>8</th>\n",
       "      <th>9</th>\n",
       "      <th>10</th>\n",
       "      <th>11</th>\n",
       "      <th>12</th>\n",
       "      <th>predicted_price</th>\n",
       "      <th>actual_price</th>\n",
       "      <th>squared_error</th>\n",
       "    </tr>\n",
       "  </thead>\n",
       "  <tbody>\n",
       "    <tr>\n",
       "      <th>0</th>\n",
       "      <td>0.00632</td>\n",
       "      <td>18.0</td>\n",
       "      <td>2.31</td>\n",
       "      <td>0.0</td>\n",
       "      <td>0.538</td>\n",
       "      <td>6.575</td>\n",
       "      <td>65.2</td>\n",
       "      <td>4.0900</td>\n",
       "      <td>1.0</td>\n",
       "      <td>296.0</td>\n",
       "      <td>15.3</td>\n",
       "      <td>396.90</td>\n",
       "      <td>4.98</td>\n",
       "      <td>30.003843</td>\n",
       "      <td>24.0</td>\n",
       "      <td>36.046135</td>\n",
       "    </tr>\n",
       "    <tr>\n",
       "      <th>1</th>\n",
       "      <td>0.02731</td>\n",
       "      <td>0.0</td>\n",
       "      <td>7.07</td>\n",
       "      <td>0.0</td>\n",
       "      <td>0.469</td>\n",
       "      <td>6.421</td>\n",
       "      <td>78.9</td>\n",
       "      <td>4.9671</td>\n",
       "      <td>2.0</td>\n",
       "      <td>242.0</td>\n",
       "      <td>17.8</td>\n",
       "      <td>396.90</td>\n",
       "      <td>9.14</td>\n",
       "      <td>25.025562</td>\n",
       "      <td>21.6</td>\n",
       "      <td>11.734478</td>\n",
       "    </tr>\n",
       "    <tr>\n",
       "      <th>2</th>\n",
       "      <td>0.02729</td>\n",
       "      <td>0.0</td>\n",
       "      <td>7.07</td>\n",
       "      <td>0.0</td>\n",
       "      <td>0.469</td>\n",
       "      <td>7.185</td>\n",
       "      <td>61.1</td>\n",
       "      <td>4.9671</td>\n",
       "      <td>2.0</td>\n",
       "      <td>242.0</td>\n",
       "      <td>17.8</td>\n",
       "      <td>392.83</td>\n",
       "      <td>4.03</td>\n",
       "      <td>30.567597</td>\n",
       "      <td>34.7</td>\n",
       "      <td>17.076757</td>\n",
       "    </tr>\n",
       "    <tr>\n",
       "      <th>3</th>\n",
       "      <td>0.03237</td>\n",
       "      <td>0.0</td>\n",
       "      <td>2.18</td>\n",
       "      <td>0.0</td>\n",
       "      <td>0.458</td>\n",
       "      <td>6.998</td>\n",
       "      <td>45.8</td>\n",
       "      <td>6.0622</td>\n",
       "      <td>3.0</td>\n",
       "      <td>222.0</td>\n",
       "      <td>18.7</td>\n",
       "      <td>394.63</td>\n",
       "      <td>2.94</td>\n",
       "      <td>28.607036</td>\n",
       "      <td>33.4</td>\n",
       "      <td>22.972499</td>\n",
       "    </tr>\n",
       "    <tr>\n",
       "      <th>4</th>\n",
       "      <td>0.06905</td>\n",
       "      <td>0.0</td>\n",
       "      <td>2.18</td>\n",
       "      <td>0.0</td>\n",
       "      <td>0.458</td>\n",
       "      <td>7.147</td>\n",
       "      <td>54.2</td>\n",
       "      <td>6.0622</td>\n",
       "      <td>3.0</td>\n",
       "      <td>222.0</td>\n",
       "      <td>18.7</td>\n",
       "      <td>396.90</td>\n",
       "      <td>5.33</td>\n",
       "      <td>27.943524</td>\n",
       "      <td>36.2</td>\n",
       "      <td>68.169392</td>\n",
       "    </tr>\n",
       "  </tbody>\n",
       "</table>\n",
       "</div>"
      ],
      "text/plain": [
       "         0     1     2    3      4      5     6       7    8      9    10  \\\n",
       "0  0.00632  18.0  2.31  0.0  0.538  6.575  65.2  4.0900  1.0  296.0  15.3   \n",
       "1  0.02731   0.0  7.07  0.0  0.469  6.421  78.9  4.9671  2.0  242.0  17.8   \n",
       "2  0.02729   0.0  7.07  0.0  0.469  7.185  61.1  4.9671  2.0  242.0  17.8   \n",
       "3  0.03237   0.0  2.18  0.0  0.458  6.998  45.8  6.0622  3.0  222.0  18.7   \n",
       "4  0.06905   0.0  2.18  0.0  0.458  7.147  54.2  6.0622  3.0  222.0  18.7   \n",
       "\n",
       "       11    12  predicted_price  actual_price  squared_error  \n",
       "0  396.90  4.98        30.003843          24.0      36.046135  \n",
       "1  396.90  9.14        25.025562          21.6      11.734478  \n",
       "2  392.83  4.03        30.567597          34.7      17.076757  \n",
       "3  394.63  2.94        28.607036          33.4      22.972499  \n",
       "4  396.90  5.33        27.943524          36.2      68.169392  "
      ]
     },
     "execution_count": 9,
     "metadata": {},
     "output_type": "execute_result"
    }
   ],
   "source": [
    "# Squared error for each example:\n",
    "#returns a vector \n",
    "d['squared_error'] = (d['predicted_price'] - d['actual_price'])**2\n",
    "d.head()"
   ]
  },
  {
   "cell_type": "code",
   "execution_count": 10,
   "metadata": {},
   "outputs": [
    {
     "data": {
      "text/plain": [
       "-21.894831181729202"
      ]
     },
     "execution_count": 10,
     "metadata": {},
     "output_type": "execute_result"
    }
   ],
   "source": [
    "# Overall performance: mean squared error:\n",
    "\n",
    "-d['squared_error'].mean()"
   ]
  },
  {
   "cell_type": "code",
   "execution_count": 12,
   "metadata": {},
   "outputs": [
    {
     "ename": "NameError",
     "evalue": "name 'd' is not defined",
     "output_type": "error",
     "traceback": [
      "\u001b[0;31m---------------------------------------------------------------------------\u001b[0m",
      "\u001b[0;31mNameError\u001b[0m                                 Traceback (most recent call last)",
      "\u001b[0;32m<ipython-input-12-2b4d6979b18d>\u001b[0m in \u001b[0;36m<module>\u001b[0;34m\u001b[0m\n\u001b[1;32m      2\u001b[0m \u001b[0;34m\u001b[0m\u001b[0m\n\u001b[1;32m      3\u001b[0m \u001b[0;32mfrom\u001b[0m \u001b[0msklearn\u001b[0m\u001b[0;34m.\u001b[0m\u001b[0mmetrics\u001b[0m \u001b[0;32mimport\u001b[0m \u001b[0mmean_squared_error\u001b[0m\u001b[0;34m\u001b[0m\u001b[0;34m\u001b[0m\u001b[0m\n\u001b[0;32m----> 4\u001b[0;31m \u001b[0mmean_squared_error\u001b[0m\u001b[0;34m(\u001b[0m\u001b[0md\u001b[0m\u001b[0;34m[\u001b[0m\u001b[0;34m'actual_price'\u001b[0m\u001b[0;34m]\u001b[0m\u001b[0;34m,\u001b[0m \u001b[0md\u001b[0m\u001b[0;34m[\u001b[0m\u001b[0;34m'predicted_price'\u001b[0m\u001b[0;34m]\u001b[0m\u001b[0;34m)\u001b[0m\u001b[0;34m\u001b[0m\u001b[0;34m\u001b[0m\u001b[0m\n\u001b[0m",
      "\u001b[0;31mNameError\u001b[0m: name 'd' is not defined"
     ]
    }
   ],
   "source": [
    "# It is the same as mean_squared_error in scikit-learn\n",
    "\n",
    "from sklearn.metrics import mean_squared_error\n",
    "mean_squared_error(d['actual_price'], d['predicted_price'])"
   ]
  },
  {
   "cell_type": "code",
   "execution_count": 10,
   "metadata": {},
   "outputs": [],
   "source": [
    "import numpy as np"
   ]
  },
  {
   "cell_type": "code",
   "execution_count": 11,
   "metadata": {},
   "outputs": [
    {
     "ename": "NameError",
     "evalue": "name 'mean_squared_error' is not defined",
     "output_type": "error",
     "traceback": [
      "\u001b[0;31m---------------------------------------------------------------------------\u001b[0m",
      "\u001b[0;31mNameError\u001b[0m                                 Traceback (most recent call last)",
      "\u001b[0;32m<ipython-input-11-fe5c164b68fe>\u001b[0m in \u001b[0;36m<module>\u001b[0;34m\u001b[0m\n\u001b[1;32m      1\u001b[0m \u001b[0;31m# Sometimes Root Mean Squared Error (RMSE) is used\u001b[0m\u001b[0;34m\u001b[0m\u001b[0;34m\u001b[0m\u001b[0;34m\u001b[0m\u001b[0m\n\u001b[1;32m      2\u001b[0m \u001b[0;31m# RMSE preserves the scale of the units (e.g. price in dollars)\u001b[0m\u001b[0;34m\u001b[0m\u001b[0;34m\u001b[0m\u001b[0;34m\u001b[0m\u001b[0m\n\u001b[0;32m----> 3\u001b[0;31m \u001b[0mnp\u001b[0m\u001b[0;34m.\u001b[0m\u001b[0msqrt\u001b[0m\u001b[0;34m(\u001b[0m\u001b[0mmean_squared_error\u001b[0m\u001b[0;34m(\u001b[0m\u001b[0md\u001b[0m\u001b[0;34m[\u001b[0m\u001b[0;34m'actual_price'\u001b[0m\u001b[0;34m]\u001b[0m\u001b[0;34m,\u001b[0m \u001b[0md\u001b[0m\u001b[0;34m[\u001b[0m\u001b[0;34m'predicted_price'\u001b[0m\u001b[0;34m]\u001b[0m\u001b[0;34m)\u001b[0m\u001b[0;34m)\u001b[0m\u001b[0;34m\u001b[0m\u001b[0;34m\u001b[0m\u001b[0m\n\u001b[0m",
      "\u001b[0;31mNameError\u001b[0m: name 'mean_squared_error' is not defined"
     ]
    }
   ],
   "source": [
    "# Sometimes Root Mean Squared Error (RMSE) is used\n",
    "# RMSE preserves the scale of the units (e.g. price in dollars)\n",
    "np.sqrt(mean_squared_error(d['actual_price'], d['predicted_price']))"
   ]
  },
  {
   "cell_type": "markdown",
   "metadata": {},
   "source": [
    "## But will the model be able to predict the future cases?"
   ]
  },
  {
   "cell_type": "markdown",
   "metadata": {},
   "source": [
    "Remember what happens when we train and predict using KNearestNeighbors(K=1)?"
   ]
  },
  {
   "cell_type": "markdown",
   "metadata": {},
   "source": [
    "the model carries with it and uses my info to predict me of course this is gonna be right N_neighbors=1"
   ]
  },
  {
   "cell_type": "code",
   "execution_count": 18,
   "metadata": {},
   "outputs": [
    {
     "data": {
      "text/plain": [
       "12.133522727272727"
      ]
     },
     "execution_count": 18,
     "metadata": {},
     "output_type": "execute_result"
    }
   ],
   "source": [
    "from sklearn.neighbors import KNeighborsRegressor\n",
    "#fit returns the train model \n",
    "#predict is a method of the model \n",
    "predicted_price = KNeighborsRegressor(n_neighbors=2).fit(X, y).predict(X)\n",
    "actual_price = y\n",
    "mean_squared_error(actual_price, predicted_price)"
   ]
  },
  {
   "cell_type": "markdown",
   "metadata": {},
   "source": [
    "if we change this to 2 can't just use my info you have to use my info, when its 2 you take the mean of the salries and avergae this \n",
    "why is 1 bad? it overfits the data, can't expect your perfect clone make the decisions about the data \n",
    "\n",
    "testing the model on data it hasnt seen before when you use 2 \n"
   ]
  },
  {
   "cell_type": "markdown",
   "metadata": {},
   "source": [
    "### Solution: split the dataset\n",
    "\n",
    "The learning algorithm uses examples only from the training set and it cannot use examples from any of the holdout sets.\n",
    "\n",
    "* Training set (70% - 95%)\n",
    "\n",
    "* Holdout sets: (5% - 30%)\n",
    "    - Validation set\n",
    "    - Test set\n",
    "    \n",
    "\n",
    "We want good performance on a holdout set, using the data the model has not seen before!"
   ]
  },
  {
   "cell_type": "markdown",
   "metadata": {},
   "source": [
    "for the first fold take 90 leave 10 \n",
    "then switch 10 for sset aside then 90 for testing \n",
    "\n",
    "split the dtaaa 10x\n",
    "\n",
    "1st 10% test \n",
    "2nd the 90% is the tets \n",
    "\n",
    "5 fold 80-20 \n",
    "\n",
    "we keep testing until we get no overlap \n"
   ]
  },
  {
   "cell_type": "markdown",
   "metadata": {},
   "source": [
    "#### Why do we need two holdout sets?\n",
    "\n",
    "We need validation set to choose the learning algorithm and its hyperparameters."
   ]
  },
  {
   "cell_type": "code",
   "execution_count": 19,
   "metadata": {},
   "outputs": [],
   "source": [
    "from sklearn.model_selection import train_test_split"
   ]
  },
  {
   "cell_type": "code",
   "execution_count": 20,
   "metadata": {},
   "outputs": [],
   "source": [
    "X_train, X_test, y_train, y_test = train_test_split(X, y, test_size=0.33, random_state=42)"
   ]
  },
  {
   "cell_type": "code",
   "execution_count": 21,
   "metadata": {},
   "outputs": [
    {
     "data": {
      "text/plain": [
       "((339, 13), (339,))"
      ]
     },
     "execution_count": 21,
     "metadata": {},
     "output_type": "execute_result"
    }
   ],
   "source": [
    "X_train.shape, y_train.shape"
   ]
  },
  {
   "cell_type": "code",
   "execution_count": 22,
   "metadata": {},
   "outputs": [
    {
     "data": {
      "text/plain": [
       "((167, 13), (167,))"
      ]
     },
     "execution_count": 22,
     "metadata": {},
     "output_type": "execute_result"
    }
   ],
   "source": [
    "X_test.shape, y_test.shape"
   ]
  },
  {
   "cell_type": "code",
   "execution_count": 23,
   "metadata": {},
   "outputs": [
    {
     "data": {
      "text/plain": [
       "20.724023437339717"
      ]
     },
     "execution_count": 23,
     "metadata": {},
     "output_type": "execute_result"
    }
   ],
   "source": [
    "# Linear Regression\n",
    "\n",
    "predicted_price = LinearRegression().fit(X_train, y_train).predict(X_test)\n",
    "mean_squared_error(y_test, predicted_price)"
   ]
  },
  {
   "cell_type": "code",
   "execution_count": 25,
   "metadata": {},
   "outputs": [
    {
     "data": {
      "text/plain": [
       "29.192468396540256"
      ]
     },
     "execution_count": 25,
     "metadata": {},
     "output_type": "execute_result"
    }
   ],
   "source": [
    "# KNN Regression(K=1)\n",
    "\n",
    "predicted_price = KNeighborsRegressor(n_neighbors=3).fit(X_train, y_train).predict(X_test)\n",
    "mean_squared_error(y_test, predicted_price)\n",
    "\n",
    "#k=1 is almost never the optimal k to have "
   ]
  },
  {
   "cell_type": "code",
   "execution_count": 28,
   "metadata": {},
   "outputs": [
    {
     "data": {
      "text/plain": [
       "29.192468396540256"
      ]
     },
     "execution_count": 28,
     "metadata": {},
     "output_type": "execute_result"
    }
   ],
   "source": [
    "from sklearn.ensemble import RandomForestRegressor\n",
    "\n",
    "predicted_price= KNeighborsRegressor(n_neighbors=3).fit(X_train, y_train).predict(X_test)\n",
    "mean_squared_error(y_test, predicted_price)"
   ]
  },
  {
   "cell_type": "code",
   "execution_count": 29,
   "metadata": {},
   "outputs": [
    {
     "ename": "ImportError",
     "evalue": "cannot import name 'DecisionTreeRegressor' from 'sklearn.ensemble' (/srv/conda/envs/notebook/lib/python3.7/site-packages/sklearn/ensemble/__init__.py)",
     "output_type": "error",
     "traceback": [
      "\u001b[0;31m---------------------------------------------------------------------------\u001b[0m",
      "\u001b[0;31mImportError\u001b[0m                               Traceback (most recent call last)",
      "\u001b[0;32m<ipython-input-29-4e468caaa81f>\u001b[0m in \u001b[0;36m<module>\u001b[0;34m\u001b[0m\n\u001b[0;32m----> 1\u001b[0;31m \u001b[0;32mfrom\u001b[0m \u001b[0msklearn\u001b[0m\u001b[0;34m.\u001b[0m\u001b[0mensemble\u001b[0m \u001b[0;32mimport\u001b[0m \u001b[0mDecisionTreeRegressor\u001b[0m\u001b[0;34m\u001b[0m\u001b[0;34m\u001b[0m\u001b[0m\n\u001b[0m\u001b[1;32m      2\u001b[0m \u001b[0;34m\u001b[0m\u001b[0m\n\u001b[1;32m      3\u001b[0m \u001b[0mpredicted_price\u001b[0m\u001b[0;34m=\u001b[0m \u001b[0mDecisionTreeRegressor\u001b[0m\u001b[0;34m(\u001b[0m\u001b[0;34m)\u001b[0m\u001b[0;34m.\u001b[0m\u001b[0mfit\u001b[0m\u001b[0;34m(\u001b[0m\u001b[0mX_train\u001b[0m\u001b[0;34m,\u001b[0m \u001b[0my_train\u001b[0m\u001b[0;34m)\u001b[0m\u001b[0;34m.\u001b[0m\u001b[0mpredict\u001b[0m\u001b[0;34m(\u001b[0m\u001b[0mX_test\u001b[0m\u001b[0;34m)\u001b[0m\u001b[0;34m\u001b[0m\u001b[0;34m\u001b[0m\u001b[0m\n\u001b[1;32m      4\u001b[0m \u001b[0mmean_squared_error\u001b[0m\u001b[0;34m(\u001b[0m\u001b[0my_test\u001b[0m\u001b[0;34m,\u001b[0m \u001b[0mpredicted_price\u001b[0m\u001b[0;34m)\u001b[0m\u001b[0;34m\u001b[0m\u001b[0;34m\u001b[0m\u001b[0m\n",
      "\u001b[0;31mImportError\u001b[0m: cannot import name 'DecisionTreeRegressor' from 'sklearn.ensemble' (/srv/conda/envs/notebook/lib/python3.7/site-packages/sklearn/ensemble/__init__.py)"
     ]
    }
   ],
   "source": [
    "from sklearn.ensemble import DecisionTreeRegressor\n",
    "\n",
    "predicted_price= DecisionTreeRegressor().fit(X_train, y_train).predict(X_test)\n",
    "mean_squared_error(y_test, predicted_price)"
   ]
  },
  {
   "cell_type": "markdown",
   "metadata": {},
   "source": [
    "### Overfitting and Underfitting\n",
    "\n",
    "\n",
    "* Overfitting - model performs well on the training set but performs poorly on the test set\n",
    "\n",
    "* Underfitting - model does not perform well on the training set but its performance on test set is not much different\n"
   ]
  },
  {
   "cell_type": "code",
   "execution_count": 31,
   "metadata": {},
   "outputs": [],
   "source": [
    "from sklearn.preprocessing import PolynomialFeatures\n",
    "from sklearn.pipeline import Pipeline\n",
    "#this sets up a bunch of steps in a pipeline \n",
    "\n",
    "X12 = X[:, 12].reshape(-1, 1) # only one feature only but maintain 2D array shape\n",
    "X12_train, X12_test, y_train, y_test = train_test_split(X12, y, test_size=0.33, random_state=42)"
   ]
  },
  {
   "cell_type": "code",
   "execution_count": 32,
   "metadata": {},
   "outputs": [
    {
     "data": {
      "text/plain": [
       "array([[ 4.98],\n",
       "       [ 9.14],\n",
       "       [ 4.03],\n",
       "       [ 2.94],\n",
       "       [ 5.33],\n",
       "       [ 5.21],\n",
       "       [12.43],\n",
       "       [19.15],\n",
       "       [29.93],\n",
       "       [17.1 ],\n",
       "       [20.45],\n",
       "       [13.27],\n",
       "       [15.71],\n",
       "       [ 8.26],\n",
       "       [10.26],\n",
       "       [ 8.47],\n",
       "       [ 6.58],\n",
       "       [14.67],\n",
       "       [11.69],\n",
       "       [11.28],\n",
       "       [21.02],\n",
       "       [13.83],\n",
       "       [18.72],\n",
       "       [19.88],\n",
       "       [16.3 ],\n",
       "       [16.51],\n",
       "       [14.81],\n",
       "       [17.28],\n",
       "       [12.8 ],\n",
       "       [11.98],\n",
       "       [22.6 ],\n",
       "       [13.04],\n",
       "       [27.71],\n",
       "       [18.35],\n",
       "       [20.34],\n",
       "       [ 9.68],\n",
       "       [11.41],\n",
       "       [ 8.77],\n",
       "       [10.13],\n",
       "       [ 4.32],\n",
       "       [ 1.98],\n",
       "       [ 4.84],\n",
       "       [ 5.81],\n",
       "       [ 7.44],\n",
       "       [ 9.55],\n",
       "       [10.21],\n",
       "       [14.15],\n",
       "       [18.8 ],\n",
       "       [30.81],\n",
       "       [16.2 ],\n",
       "       [13.45],\n",
       "       [ 9.43],\n",
       "       [ 5.28],\n",
       "       [ 8.43],\n",
       "       [14.8 ],\n",
       "       [ 4.81],\n",
       "       [ 5.77],\n",
       "       [ 3.95],\n",
       "       [ 6.86],\n",
       "       [ 9.22],\n",
       "       [13.15],\n",
       "       [14.44],\n",
       "       [ 6.73],\n",
       "       [ 9.5 ],\n",
       "       [ 8.05],\n",
       "       [ 4.67],\n",
       "       [10.24],\n",
       "       [ 8.1 ],\n",
       "       [13.09],\n",
       "       [ 8.79],\n",
       "       [ 6.72],\n",
       "       [ 9.88],\n",
       "       [ 5.52],\n",
       "       [ 7.54],\n",
       "       [ 6.78],\n",
       "       [ 8.94],\n",
       "       [11.97],\n",
       "       [10.27],\n",
       "       [12.34],\n",
       "       [ 9.1 ],\n",
       "       [ 5.29],\n",
       "       [ 7.22],\n",
       "       [ 6.72],\n",
       "       [ 7.51],\n",
       "       [ 9.62],\n",
       "       [ 6.53],\n",
       "       [12.86],\n",
       "       [ 8.44],\n",
       "       [ 5.5 ],\n",
       "       [ 5.7 ],\n",
       "       [ 8.81],\n",
       "       [ 8.2 ],\n",
       "       [ 8.16],\n",
       "       [ 6.21],\n",
       "       [10.59],\n",
       "       [ 6.65],\n",
       "       [11.34],\n",
       "       [ 4.21],\n",
       "       [ 3.57],\n",
       "       [ 6.19],\n",
       "       [ 9.42],\n",
       "       [ 7.67],\n",
       "       [10.63],\n",
       "       [13.44],\n",
       "       [12.33],\n",
       "       [16.47],\n",
       "       [18.66],\n",
       "       [14.09],\n",
       "       [12.27],\n",
       "       [15.55],\n",
       "       [13.  ],\n",
       "       [10.16],\n",
       "       [16.21],\n",
       "       [17.09],\n",
       "       [10.45],\n",
       "       [15.76],\n",
       "       [12.04],\n",
       "       [10.3 ],\n",
       "       [15.37],\n",
       "       [13.61],\n",
       "       [14.37],\n",
       "       [14.27],\n",
       "       [17.93],\n",
       "       [25.41],\n",
       "       [17.58],\n",
       "       [14.81],\n",
       "       [27.26],\n",
       "       [17.19],\n",
       "       [15.39],\n",
       "       [18.34],\n",
       "       [12.6 ],\n",
       "       [12.26],\n",
       "       [11.12],\n",
       "       [15.03],\n",
       "       [17.31],\n",
       "       [16.96],\n",
       "       [16.9 ],\n",
       "       [14.59],\n",
       "       [21.32],\n",
       "       [18.46],\n",
       "       [24.16],\n",
       "       [34.41],\n",
       "       [26.82],\n",
       "       [26.42],\n",
       "       [29.29],\n",
       "       [27.8 ],\n",
       "       [16.65],\n",
       "       [29.53],\n",
       "       [28.32],\n",
       "       [21.45],\n",
       "       [14.1 ],\n",
       "       [13.28],\n",
       "       [12.12],\n",
       "       [15.79],\n",
       "       [15.12],\n",
       "       [15.02],\n",
       "       [16.14],\n",
       "       [ 4.59],\n",
       "       [ 6.43],\n",
       "       [ 7.39],\n",
       "       [ 5.5 ],\n",
       "       [ 1.73],\n",
       "       [ 1.92],\n",
       "       [ 3.32],\n",
       "       [11.64],\n",
       "       [ 9.81],\n",
       "       [ 3.7 ],\n",
       "       [12.14],\n",
       "       [11.1 ],\n",
       "       [11.32],\n",
       "       [14.43],\n",
       "       [12.03],\n",
       "       [14.69],\n",
       "       [ 9.04],\n",
       "       [ 9.64],\n",
       "       [ 5.33],\n",
       "       [10.11],\n",
       "       [ 6.29],\n",
       "       [ 6.92],\n",
       "       [ 5.04],\n",
       "       [ 7.56],\n",
       "       [ 9.45],\n",
       "       [ 4.82],\n",
       "       [ 5.68],\n",
       "       [13.98],\n",
       "       [13.15],\n",
       "       [ 4.45],\n",
       "       [ 6.68],\n",
       "       [ 4.56],\n",
       "       [ 5.39],\n",
       "       [ 5.1 ],\n",
       "       [ 4.69],\n",
       "       [ 2.87],\n",
       "       [ 5.03],\n",
       "       [ 4.38],\n",
       "       [ 2.97],\n",
       "       [ 4.08],\n",
       "       [ 8.61],\n",
       "       [ 6.62],\n",
       "       [ 4.56],\n",
       "       [ 4.45],\n",
       "       [ 7.43],\n",
       "       [ 3.11],\n",
       "       [ 3.81],\n",
       "       [ 2.88],\n",
       "       [10.87],\n",
       "       [10.97],\n",
       "       [18.06],\n",
       "       [14.66],\n",
       "       [23.09],\n",
       "       [17.27],\n",
       "       [23.98],\n",
       "       [16.03],\n",
       "       [ 9.38],\n",
       "       [29.55],\n",
       "       [ 9.47],\n",
       "       [13.51],\n",
       "       [ 9.69],\n",
       "       [17.92],\n",
       "       [10.5 ],\n",
       "       [ 9.71],\n",
       "       [21.46],\n",
       "       [ 9.93],\n",
       "       [ 7.6 ],\n",
       "       [ 4.14],\n",
       "       [ 4.63],\n",
       "       [ 3.13],\n",
       "       [ 6.36],\n",
       "       [ 3.92],\n",
       "       [ 3.76],\n",
       "       [11.65],\n",
       "       [ 5.25],\n",
       "       [ 2.47],\n",
       "       [ 3.95],\n",
       "       [ 8.05],\n",
       "       [10.88],\n",
       "       [ 9.54],\n",
       "       [ 4.73],\n",
       "       [ 6.36],\n",
       "       [ 7.37],\n",
       "       [11.38],\n",
       "       [12.4 ],\n",
       "       [11.22],\n",
       "       [ 5.19],\n",
       "       [12.5 ],\n",
       "       [18.46],\n",
       "       [ 9.16],\n",
       "       [10.15],\n",
       "       [ 9.52],\n",
       "       [ 6.56],\n",
       "       [ 5.9 ],\n",
       "       [ 3.59],\n",
       "       [ 3.53],\n",
       "       [ 3.54],\n",
       "       [ 6.57],\n",
       "       [ 9.25],\n",
       "       [ 3.11],\n",
       "       [ 5.12],\n",
       "       [ 7.79],\n",
       "       [ 6.9 ],\n",
       "       [ 9.59],\n",
       "       [ 7.26],\n",
       "       [ 5.91],\n",
       "       [11.25],\n",
       "       [ 8.1 ],\n",
       "       [10.45],\n",
       "       [14.79],\n",
       "       [ 7.44],\n",
       "       [ 3.16],\n",
       "       [13.65],\n",
       "       [13.  ],\n",
       "       [ 6.59],\n",
       "       [ 7.73],\n",
       "       [ 6.58],\n",
       "       [ 3.53],\n",
       "       [ 2.98],\n",
       "       [ 6.05],\n",
       "       [ 4.16],\n",
       "       [ 7.19],\n",
       "       [ 4.85],\n",
       "       [ 3.76],\n",
       "       [ 4.59],\n",
       "       [ 3.01],\n",
       "       [ 3.16],\n",
       "       [ 7.85],\n",
       "       [ 8.23],\n",
       "       [12.93],\n",
       "       [ 7.14],\n",
       "       [ 7.6 ],\n",
       "       [ 9.51],\n",
       "       [ 3.33],\n",
       "       [ 3.56],\n",
       "       [ 4.7 ],\n",
       "       [ 8.58],\n",
       "       [10.4 ],\n",
       "       [ 6.27],\n",
       "       [ 7.39],\n",
       "       [15.84],\n",
       "       [ 4.97],\n",
       "       [ 4.74],\n",
       "       [ 6.07],\n",
       "       [ 9.5 ],\n",
       "       [ 8.67],\n",
       "       [ 4.86],\n",
       "       [ 6.93],\n",
       "       [ 8.93],\n",
       "       [ 6.47],\n",
       "       [ 7.53],\n",
       "       [ 4.54],\n",
       "       [ 9.97],\n",
       "       [12.64],\n",
       "       [ 5.98],\n",
       "       [11.72],\n",
       "       [ 7.9 ],\n",
       "       [ 9.28],\n",
       "       [11.5 ],\n",
       "       [18.33],\n",
       "       [15.94],\n",
       "       [10.36],\n",
       "       [12.73],\n",
       "       [ 7.2 ],\n",
       "       [ 6.87],\n",
       "       [ 7.7 ],\n",
       "       [11.74],\n",
       "       [ 6.12],\n",
       "       [ 5.08],\n",
       "       [ 6.15],\n",
       "       [12.79],\n",
       "       [ 9.97],\n",
       "       [ 7.34],\n",
       "       [ 9.09],\n",
       "       [12.43],\n",
       "       [ 7.83],\n",
       "       [ 5.68],\n",
       "       [ 6.75],\n",
       "       [ 8.01],\n",
       "       [ 9.8 ],\n",
       "       [10.56],\n",
       "       [ 8.51],\n",
       "       [ 9.74],\n",
       "       [ 9.29],\n",
       "       [ 5.49],\n",
       "       [ 8.65],\n",
       "       [ 7.18],\n",
       "       [ 4.61],\n",
       "       [10.53],\n",
       "       [12.67],\n",
       "       [ 6.36],\n",
       "       [ 5.99],\n",
       "       [ 5.89],\n",
       "       [ 5.98],\n",
       "       [ 5.49],\n",
       "       [ 7.79],\n",
       "       [ 4.5 ],\n",
       "       [ 8.05],\n",
       "       [ 5.57],\n",
       "       [17.6 ],\n",
       "       [13.27],\n",
       "       [11.48],\n",
       "       [12.67],\n",
       "       [ 7.79],\n",
       "       [14.19],\n",
       "       [10.19],\n",
       "       [14.64],\n",
       "       [ 5.29],\n",
       "       [ 7.12],\n",
       "       [14.  ],\n",
       "       [13.33],\n",
       "       [ 3.26],\n",
       "       [ 3.73],\n",
       "       [ 2.96],\n",
       "       [ 9.53],\n",
       "       [ 8.88],\n",
       "       [34.77],\n",
       "       [37.97],\n",
       "       [13.44],\n",
       "       [23.24],\n",
       "       [21.24],\n",
       "       [23.69],\n",
       "       [21.78],\n",
       "       [17.21],\n",
       "       [21.08],\n",
       "       [23.6 ],\n",
       "       [24.56],\n",
       "       [30.63],\n",
       "       [30.81],\n",
       "       [28.28],\n",
       "       [31.99],\n",
       "       [30.62],\n",
       "       [20.85],\n",
       "       [17.11],\n",
       "       [18.76],\n",
       "       [25.68],\n",
       "       [15.17],\n",
       "       [16.35],\n",
       "       [17.12],\n",
       "       [19.37],\n",
       "       [19.92],\n",
       "       [30.59],\n",
       "       [29.97],\n",
       "       [26.77],\n",
       "       [20.32],\n",
       "       [20.31],\n",
       "       [19.77],\n",
       "       [27.38],\n",
       "       [22.98],\n",
       "       [23.34],\n",
       "       [12.13],\n",
       "       [26.4 ],\n",
       "       [19.78],\n",
       "       [10.11],\n",
       "       [21.22],\n",
       "       [34.37],\n",
       "       [20.08],\n",
       "       [36.98],\n",
       "       [29.05],\n",
       "       [25.79],\n",
       "       [26.64],\n",
       "       [20.62],\n",
       "       [22.74],\n",
       "       [15.02],\n",
       "       [15.7 ],\n",
       "       [14.1 ],\n",
       "       [23.29],\n",
       "       [17.16],\n",
       "       [24.39],\n",
       "       [15.69],\n",
       "       [14.52],\n",
       "       [21.52],\n",
       "       [24.08],\n",
       "       [17.64],\n",
       "       [19.69],\n",
       "       [12.03],\n",
       "       [16.22],\n",
       "       [15.17],\n",
       "       [23.27],\n",
       "       [18.05],\n",
       "       [26.45],\n",
       "       [34.02],\n",
       "       [22.88],\n",
       "       [22.11],\n",
       "       [19.52],\n",
       "       [16.59],\n",
       "       [18.85],\n",
       "       [23.79],\n",
       "       [23.98],\n",
       "       [17.79],\n",
       "       [16.44],\n",
       "       [18.13],\n",
       "       [19.31],\n",
       "       [17.44],\n",
       "       [17.73],\n",
       "       [17.27],\n",
       "       [16.74],\n",
       "       [18.71],\n",
       "       [18.13],\n",
       "       [19.01],\n",
       "       [16.94],\n",
       "       [16.23],\n",
       "       [14.7 ],\n",
       "       [16.42],\n",
       "       [14.65],\n",
       "       [13.99],\n",
       "       [10.29],\n",
       "       [13.22],\n",
       "       [14.13],\n",
       "       [17.15],\n",
       "       [21.32],\n",
       "       [18.13],\n",
       "       [14.76],\n",
       "       [16.29],\n",
       "       [12.87],\n",
       "       [14.36],\n",
       "       [11.66],\n",
       "       [18.14],\n",
       "       [24.1 ],\n",
       "       [18.68],\n",
       "       [24.91],\n",
       "       [18.03],\n",
       "       [13.11],\n",
       "       [10.74],\n",
       "       [ 7.74],\n",
       "       [ 7.01],\n",
       "       [10.42],\n",
       "       [13.34],\n",
       "       [10.58],\n",
       "       [14.98],\n",
       "       [11.45],\n",
       "       [18.06],\n",
       "       [23.97],\n",
       "       [29.68],\n",
       "       [18.07],\n",
       "       [13.35],\n",
       "       [12.01],\n",
       "       [13.59],\n",
       "       [17.6 ],\n",
       "       [21.14],\n",
       "       [14.1 ],\n",
       "       [12.92],\n",
       "       [15.1 ],\n",
       "       [14.33],\n",
       "       [ 9.67],\n",
       "       [ 9.08],\n",
       "       [ 5.64],\n",
       "       [ 6.48],\n",
       "       [ 7.88]])"
      ]
     },
     "execution_count": 32,
     "metadata": {},
     "output_type": "execute_result"
    }
   ],
   "source": [
    "X12"
   ]
  },
  {
   "cell_type": "code",
   "execution_count": 33,
   "metadata": {},
   "outputs": [
    {
     "data": {
      "text/plain": [
       "(506,)"
      ]
     },
     "execution_count": 33,
     "metadata": {},
     "output_type": "execute_result"
    }
   ],
   "source": [
    "X12.flatten().shape"
   ]
  },
  {
   "cell_type": "code",
   "execution_count": 34,
   "metadata": {},
   "outputs": [
    {
     "data": {
      "text/plain": [
       "<function ndarray.flatten>"
      ]
     },
     "execution_count": 34,
     "metadata": {},
     "output_type": "execute_result"
    }
   ],
   "source": [
    "X12.flatten"
   ]
  },
  {
   "cell_type": "markdown",
   "metadata": {},
   "source": [
    "### Examples of underfitting and overfitting:\n",
    "\n",
    "m1 - Linear Regression\n",
    "\n",
    "m2 - Polynomial regression of the second degree\n",
    "\n",
    "m5 - Polynomial regression of the fifth degree"
   ]
  },
  {
   "cell_type": "markdown",
   "metadata": {},
   "source": [
    "#### Model m1:\n",
    "\n",
    "$$ y = \\beta_1 x + \\beta_0 $$"
   ]
  },
  {
   "cell_type": "code",
   "execution_count": 42,
   "metadata": {},
   "outputs": [],
   "source": [
    "m1 = LinearRegression(fit_intercept=True)\n",
    "m1.fit(X12_train, y_train)\n",
    "m1_train_predicted = m1.predict(X12_train)\n",
    "m1_test_predicted = m1.predict(X12_test)"
   ]
  },
  {
   "cell_type": "markdown",
   "metadata": {},
   "source": [
    "we only use 1 predictor unlike we did in the previous code up above \n",
    "\n",
    "if its not importasnt predictor it get a low coefficent in the model so linear regression takes care of that for us \n"
   ]
  },
  {
   "cell_type": "code",
   "execution_count": 22,
   "metadata": {},
   "outputs": [
    {
     "data": {
      "text/plain": [
       "38.71120361270592"
      ]
     },
     "execution_count": 22,
     "metadata": {},
     "output_type": "execute_result"
    }
   ],
   "source": [
    "mean_squared_error(y_train, m1_train_predicted)"
   ]
  },
  {
   "cell_type": "code",
   "execution_count": 23,
   "metadata": {},
   "outputs": [
    {
     "data": {
      "text/plain": [
       "38.410075117662345"
      ]
     },
     "execution_count": 23,
     "metadata": {},
     "output_type": "execute_result"
    }
   ],
   "source": [
    "mean_squared_error(y_test, m1_test_predicted)"
   ]
  },
  {
   "cell_type": "code",
   "execution_count": 40,
   "metadata": {},
   "outputs": [],
   "source": [
    "import seaborn as sb"
   ]
  },
  {
   "cell_type": "code",
   "execution_count": 38,
   "metadata": {},
   "outputs": [
    {
     "name": "stdout",
     "output_type": "stream",
     "text": [
      "Collecting seaborn\n",
      "\u001b[?25l  Downloading https://files.pythonhosted.org/packages/a8/76/220ba4420459d9c4c9c9587c6ce607bf56c25b3d3d2de62056efe482dadc/seaborn-0.9.0-py3-none-any.whl (208kB)\n",
      "\u001b[K     |████████████████████████████████| 215kB 3.3MB/s \n",
      "\u001b[?25hRequirement already satisfied: pandas>=0.15.2 in /srv/conda/envs/notebook/lib/python3.7/site-packages (from seaborn) (0.25.3)\n",
      "Requirement already satisfied: scipy>=0.14.0 in /srv/conda/envs/notebook/lib/python3.7/site-packages (from seaborn) (1.3.2)\n",
      "Requirement already satisfied: matplotlib>=1.4.3 in /srv/conda/envs/notebook/lib/python3.7/site-packages (from seaborn) (3.1.2)\n",
      "Requirement already satisfied: numpy>=1.9.3 in /srv/conda/envs/notebook/lib/python3.7/site-packages (from seaborn) (1.17.3)\n",
      "Requirement already satisfied: pytz>=2017.2 in /srv/conda/envs/notebook/lib/python3.7/site-packages (from pandas>=0.15.2->seaborn) (2019.3)\n",
      "Requirement already satisfied: python-dateutil>=2.6.1 in /srv/conda/envs/notebook/lib/python3.7/site-packages (from pandas>=0.15.2->seaborn) (2.8.0)\n",
      "Requirement already satisfied: kiwisolver>=1.0.1 in /srv/conda/envs/notebook/lib/python3.7/site-packages (from matplotlib>=1.4.3->seaborn) (1.1.0)\n",
      "Requirement already satisfied: pyparsing!=2.0.4,!=2.1.2,!=2.1.6,>=2.0.1 in /srv/conda/envs/notebook/lib/python3.7/site-packages (from matplotlib>=1.4.3->seaborn) (2.4.5)\n",
      "Requirement already satisfied: cycler>=0.10 in /srv/conda/envs/notebook/lib/python3.7/site-packages (from matplotlib>=1.4.3->seaborn) (0.10.0)\n",
      "Requirement already satisfied: six>=1.5 in /srv/conda/envs/notebook/lib/python3.7/site-packages (from python-dateutil>=2.6.1->pandas>=0.15.2->seaborn) (1.12.0)\n",
      "Requirement already satisfied: setuptools in /srv/conda/envs/notebook/lib/python3.7/site-packages (from kiwisolver>=1.0.1->matplotlib>=1.4.3->seaborn) (41.2.0)\n",
      "Installing collected packages: seaborn\n",
      "Successfully installed seaborn-0.9.0\n",
      "Note: you may need to restart the kernel to use updated packages.\n"
     ]
    }
   ],
   "source": [
    "pip install seaborn"
   ]
  },
  {
   "cell_type": "code",
   "execution_count": 35,
   "metadata": {},
   "outputs": [
    {
     "ename": "NameError",
     "evalue": "name 'sb' is not defined",
     "output_type": "error",
     "traceback": [
      "\u001b[0;31m---------------------------------------------------------------------------\u001b[0m",
      "\u001b[0;31mNameError\u001b[0m                                 Traceback (most recent call last)",
      "\u001b[0;32m<ipython-input-35-27830679e74d>\u001b[0m in \u001b[0;36m<module>\u001b[0;34m\u001b[0m\n\u001b[0;32m----> 1\u001b[0;31m \u001b[0msb\u001b[0m\u001b[0;34m.\u001b[0m\u001b[0mscatterplot\u001b[0m\u001b[0;34m(\u001b[0m\u001b[0mX12_train\u001b[0m\u001b[0;34m.\u001b[0m\u001b[0mflatten\u001b[0m\u001b[0;34m(\u001b[0m\u001b[0;34m)\u001b[0m\u001b[0;34m,\u001b[0m \u001b[0my_train\u001b[0m\u001b[0;34m)\u001b[0m\u001b[0;34m\u001b[0m\u001b[0;34m\u001b[0m\u001b[0m\n\u001b[0m\u001b[1;32m      2\u001b[0m \u001b[0msb\u001b[0m\u001b[0;34m.\u001b[0m\u001b[0mscatterplot\u001b[0m\u001b[0;34m(\u001b[0m\u001b[0mX12_train\u001b[0m\u001b[0;34m.\u001b[0m\u001b[0mflatten\u001b[0m\u001b[0;34m(\u001b[0m\u001b[0;34m)\u001b[0m\u001b[0;34m,\u001b[0m \u001b[0mm1_train_predicted\u001b[0m\u001b[0;34m)\u001b[0m\u001b[0;34m\u001b[0m\u001b[0;34m\u001b[0m\u001b[0m\n",
      "\u001b[0;31mNameError\u001b[0m: name 'sb' is not defined"
     ]
    }
   ],
   "source": [
    "sb.scatterplot(X12_train.flatten(), y_train)\n",
    "sb.scatterplot(X12_train.flatten(), m1_train_predicted)"
   ]
  },
  {
   "cell_type": "code",
   "execution_count": 43,
   "metadata": {
    "scrolled": false
   },
   "outputs": [
    {
     "data": {
      "text/plain": [
       "<matplotlib.axes._subplots.AxesSubplot at 0x7f82796f0a90>"
      ]
     },
     "execution_count": 43,
     "metadata": {},
     "output_type": "execute_result"
    },
    {
     "data": {
      "image/png": "[encoded data removed]",
      "text/plain": [
       "<Figure size 432x288 with 1 Axes>"
      ]
     },
     "metadata": {
      "needs_background": "light"
     },
     "output_type": "display_data"
    }
   ],
   "source": [
    "sb.scatterplot(X12_test.flatten(), y_test)\n",
    "sb.scatterplot(X12_test.flatten(), m1_test_predicted)"
   ]
  },
  {
   "cell_type": "markdown",
   "metadata": {},
   "source": [
    "#### Model m2:\n",
    "\n",
    "$$ y = \\beta_1 x + \\beta_2 x^2 +  \\beta_0 $$"
   ]
  },
  {
   "cell_type": "markdown",
   "metadata": {},
   "source": [
    "we now use this to do a second degree polynomial \n",
    "\n",
    "x can now be squared which is like a second variable \n",
    "\n",
    "x1 "
   ]
  },
  {
   "cell_type": "code",
   "execution_count": 26,
   "metadata": {},
   "outputs": [],
   "source": [
    "m2 = Pipeline([('poly', PolynomialFeatures(degree=2)),\n",
    "                  ('linear', LinearRegression(fit_intercept=True))])\n",
    "m2.fit(X12_train, y_train)\n",
    "m2_train_predicted = m2.predict(X12_train)\n",
    "m2_test_predicted = m2.predict(X12_test)"
   ]
  },
  {
   "cell_type": "code",
   "execution_count": 27,
   "metadata": {},
   "outputs": [
    {
     "data": {
      "text/plain": [
       "29.442905187577004"
      ]
     },
     "execution_count": 27,
     "metadata": {},
     "output_type": "execute_result"
    }
   ],
   "source": [
    "mean_squared_error(y_train, m2_train_predicted) #this is the training error"
   ]
  },
  {
   "cell_type": "code",
   "execution_count": 28,
   "metadata": {},
   "outputs": [
    {
     "data": {
      "text/plain": [
       "32.51162005950131"
      ]
     },
     "execution_count": 28,
     "metadata": {},
     "output_type": "execute_result"
    }
   ],
   "source": [
    "mean_squared_error(y_test, m2_test_predicted)"
   ]
  },
  {
   "cell_type": "code",
   "execution_count": 29,
   "metadata": {},
   "outputs": [
    {
     "data": {
      "text/plain": [
       "<matplotlib.axes._subplots.AxesSubplot at 0x1a2166cc50>"
      ]
     },
     "execution_count": 29,
     "metadata": {},
     "output_type": "execute_result"
    },
    {
     "data": {
      "image/png": "[encoded data removed]",
      "text/plain": [
       "<Figure size 432x288 with 1 Axes>"
      ]
     },
     "metadata": {},
     "output_type": "display_data"
    }
   ],
   "source": [
    "sb.scatterplot(X12_train.flatten(), y_train)\n",
    "sb.scatterplot(X12_train.flatten(), m2_train_predicted)"
   ]
  },
  {
   "cell_type": "code",
   "execution_count": 30,
   "metadata": {
    "scrolled": false
   },
   "outputs": [
    {
     "data": {
      "text/plain": [
       "<matplotlib.axes._subplots.AxesSubplot at 0x1a21651518>"
      ]
     },
     "execution_count": 30,
     "metadata": {},
     "output_type": "execute_result"
    },
    {
     "data": {
      "image/png": "[encoded data removed]",
      "text/plain": [
       "<Figure size 432x288 with 1 Axes>"
      ]
     },
     "metadata": {},
     "output_type": "display_data"
    }
   ],
   "source": [
    "sb.scatterplot(X12_test.flatten(), y_test)\n",
    "sb.scatterplot(X12_test.flatten(), m2_test_predicted)"
   ]
  },
  {
   "cell_type": "markdown",
   "metadata": {},
   "source": [
    "#### Model m10:\n",
    "\n",
    "$$ y = \\beta_1 x + \\beta_2 x^2 +  \\beta_3 x^3 +  ... + \\beta_{10} x^{10} + \\beta_0 $$"
   ]
  },
  {
   "cell_type": "code",
   "execution_count": 37,
   "metadata": {},
   "outputs": [],
   "source": [
    "m10 = Pipeline([('poly', PolynomialFeatures(degree=10)),\n",
    "                  ('linear', LinearRegression(fit_intercept=True))])\n",
    "m10.fit(X12_train, y_train)\n",
    "m10_train_predicted = m10.predict(X12_train)\n",
    "m10_test_predicted = m10.predict(X12_test)"
   ]
  },
  {
   "cell_type": "code",
   "execution_count": 38,
   "metadata": {},
   "outputs": [
    {
     "data": {
      "text/plain": [
       "25.73897546019498"
      ]
     },
     "execution_count": 38,
     "metadata": {},
     "output_type": "execute_result"
    }
   ],
   "source": [
    "mean_squared_error(y_train, m10_train_predicted)"
   ]
  },
  {
   "cell_type": "code",
   "execution_count": 39,
   "metadata": {},
   "outputs": [
    {
     "data": {
      "text/plain": [
       "29.210589562808984"
      ]
     },
     "execution_count": 39,
     "metadata": {},
     "output_type": "execute_result"
    }
   ],
   "source": [
    "mean_squared_error(y_test, m10_test_predicted)"
   ]
  },
  {
   "cell_type": "code",
   "execution_count": 40,
   "metadata": {},
   "outputs": [
    {
     "data": {
      "text/plain": [
       "<matplotlib.axes._subplots.AxesSubplot at 0x1a217c9c50>"
      ]
     },
     "execution_count": 40,
     "metadata": {},
     "output_type": "execute_result"
    },
    {
     "data": {
      "image/png": "[encoded data removed]",
      "text/plain": [
       "<Figure size 432x288 with 1 Axes>"
      ]
     },
     "metadata": {},
     "output_type": "display_data"
    }
   ],
   "source": [
    "sb.scatterplot(X12_train.flatten(), y_train)\n",
    "sb.scatterplot(X12_train.flatten(), m10_train_predicted)"
   ]
  },
  {
   "cell_type": "code",
   "execution_count": 41,
   "metadata": {
    "scrolled": false
   },
   "outputs": [
    {
     "data": {
      "text/plain": [
       "<matplotlib.axes._subplots.AxesSubplot at 0x1a21a1dc88>"
      ]
     },
     "execution_count": 41,
     "metadata": {},
     "output_type": "execute_result"
    },
    {
     "data": {
      "image/png": "[encoded data removed]",
      "text/plain": [
       "<Figure size 432x288 with 1 Axes>"
      ]
     },
     "metadata": {},
     "output_type": "display_data"
    }
   ],
   "source": [
    "sb.scatterplot(X12_test.flatten(), y_test)\n",
    "sb.scatterplot(X12_test.flatten(), m10_test_predicted)"
   ]
  },
  {
   "cell_type": "markdown",
   "metadata": {},
   "source": [
    "### Let us summarize the models' errors"
   ]
  },
  {
   "cell_type": "code",
   "execution_count": 42,
   "metadata": {},
   "outputs": [
    {
     "name": "stdout",
     "output_type": "stream",
     "text": [
      "M1 train 39.0\n",
      "M1 test 38.0\n",
      "M2 train 29.0\n",
      "M2 test 33.0\n",
      "M10 train 26.0\n",
      "M10 test 29.0\n"
     ]
    }
   ],
   "source": [
    "print(\"M1 train\", round(mean_squared_error(y_train, m1_train_predicted)))\n",
    "print(\"M1 test\", round(mean_squared_error(y_test, m1_test_predicted)))\n",
    "      \n",
    "print(\"M2 train\", round(mean_squared_error(y_train, m2_train_predicted)))\n",
    "print(\"M2 test\", round(mean_squared_error(y_test, m2_test_predicted)))\n",
    "\n",
    "print(\"M10 train\", round(mean_squared_error(y_train, m10_train_predicted)))\n",
    "print(\"M10 test\", round(mean_squared_error(y_test, m10_test_predicted)))"
   ]
  },
  {
   "cell_type": "markdown",
   "metadata": {},
   "source": [
    "We will talk about model selection and feature selection in mode detail in one of the next classes."
   ]
  },
  {
   "cell_type": "code",
   "execution_count": null,
   "metadata": {},
   "outputs": [],
   "source": []
  },
  {
   "cell_type": "markdown",
   "metadata": {},
   "source": [
    "### Is there only one way to split the dataset? Cross-validation"
   ]
  },
  {
   "cell_type": "markdown",
   "metadata": {},
   "source": [
    "Cross-validation is reusing the dataset and creates multiple train-holdout subset pairs.\n",
    "\n",
    "The major assumption is that our whole dataset is a representative sample. By taking the random subsamples from the whole dataset we can estimate the performance of the model on previously unseen data."
   ]
  },
  {
   "cell_type": "markdown",
   "metadata": {},
   "source": [
    "#### LeaveOneOut\n",
    "\n",
    "LeaveOneOut (or LOO) is a simple cross-validation. Each learning set is created by taking all the samples except one, the test set being the sample left out. Thus, for  n samples, we have  n different training sets and  n different tests set. This cross-validation procedure does not waste much data as only one sample is removed from the training set"
   ]
  },
  {
   "cell_type": "markdown",
   "metadata": {},
   "source": [
    "##### KFold\n",
    "KFold divides all the samples in  k groups of samples, called folds (if  k = n, this is equivalent to the Leave One Out strategy), of equal sizes (if possible). The prediction function is learned using \n",
    "k−1folds, and the fold left out is used for test.\n",
    "\n",
    "![](https://scikit-learn.org/stable/_images/sphx_glr_plot_cv_indices_0041.png)"
   ]
  },
  {
   "cell_type": "markdown",
   "metadata": {},
   "source": [
    "#### ShuffleSplit\n",
    "\n",
    "The ShuffleSplit iterator will generate a user defined number of independent train / test dataset splits. Samples are first shuffled and then split into a pair of train and test sets.\n",
    "\n",
    "![](https://scikit-learn.org/stable/_images/sphx_glr_plot_cv_indices_0061.png)"
   ]
  },
  {
   "cell_type": "markdown",
   "metadata": {},
   "source": [
    "#### TimeSeriesSplit\n",
    "\n",
    "TimeSeriesSplit is a variation of k-fold which returns first \n",
    "k folds as train set and the (k+1)th fold as test set. Note that unlike standard cross-validation methods, successive training sets are supersets of those that come before them. Also, it adds all surplus data to the first training partition, which is always used to train the model.\n",
    "\n",
    "![](https://scikit-learn.org/stable/_images/sphx_glr_plot_cv_indices_0101.png)"
   ]
  },
  {
   "cell_type": "code",
   "execution_count": 43,
   "metadata": {},
   "outputs": [
    {
     "data": {
      "text/plain": [
       "0.716098217736928"
      ]
     },
     "execution_count": 43,
     "metadata": {},
     "output_type": "execute_result"
    }
   ],
   "source": [
    "KNeighborsRegressor().fit(X, y).score(X, y)"
   ]
  },
  {
   "cell_type": "code",
   "execution_count": 44,
   "metadata": {},
   "outputs": [
    {
     "data": {
      "text/plain": [
       "0.7079649368669324"
      ]
     },
     "execution_count": 44,
     "metadata": {},
     "output_type": "execute_result"
    },
    {
     "data": {
      "image/png": "[encoded data removed]",
      "text/plain": [
       "<Figure size 432x288 with 1 Axes>"
      ]
     },
     "metadata": {},
     "output_type": "display_data"
    }
   ],
   "source": [
    "from sklearn.model_selection import ShuffleSplit\n",
    "from sklearn.model_selection import cross_val_score\n",
    "\n",
    "reg = LinearRegression()\n",
    "cv = ShuffleSplit(n_splits=100, test_size=0.1, random_state=0)\n",
    "\n",
    "# here we try to maximize the score, that is why neg_mean_squared_error\n",
    "# essentially, score = - cost_function\n",
    "s = cross_val_score(reg, X, y, cv=cv)\n",
    "pd.Series(s).hist()\n",
    "s.mean() # R^2"
   ]
  },
  {
   "cell_type": "code",
   "execution_count": 45,
   "metadata": {
    "scrolled": true
   },
   "outputs": [
    {
     "data": {
      "text/plain": [
       "['accuracy',\n",
       " 'adjusted_mutual_info_score',\n",
       " 'adjusted_rand_score',\n",
       " 'average_precision',\n",
       " 'balanced_accuracy',\n",
       " 'brier_score_loss',\n",
       " 'completeness_score',\n",
       " 'explained_variance',\n",
       " 'f1',\n",
       " 'f1_macro',\n",
       " 'f1_micro',\n",
       " 'f1_samples',\n",
       " 'f1_weighted',\n",
       " 'fowlkes_mallows_score',\n",
       " 'homogeneity_score',\n",
       " 'mutual_info_score',\n",
       " 'neg_log_loss',\n",
       " 'neg_mean_absolute_error',\n",
       " 'neg_mean_squared_error',\n",
       " 'neg_mean_squared_log_error',\n",
       " 'neg_median_absolute_error',\n",
       " 'normalized_mutual_info_score',\n",
       " 'precision',\n",
       " 'precision_macro',\n",
       " 'precision_micro',\n",
       " 'precision_samples',\n",
       " 'precision_weighted',\n",
       " 'r2',\n",
       " 'recall',\n",
       " 'recall_macro',\n",
       " 'recall_micro',\n",
       " 'recall_samples',\n",
       " 'recall_weighted',\n",
       " 'roc_auc',\n",
       " 'v_measure_score']"
      ]
     },
     "execution_count": 45,
     "metadata": {},
     "output_type": "execute_result"
    }
   ],
   "source": [
    "import sklearn.metrics\n",
    "sorted(sklearn.metrics.SCORERS.keys())"
   ]
  },
  {
   "cell_type": "markdown",
   "metadata": {},
   "source": [
    "### Bias - Variance Tradeoff\n",
    "\n",
    "The **bias** is an error from erroneous assumptions in the learning algorithm. High bias can cause an algorithm to miss the relevant relations between features and target outputs (underfitting).\n",
    "\n",
    "\n",
    "The **variance** is an error from sensitivity to small fluctuations in the training set. High variance can cause an algorithm to model the random noise in the training data, rather than the intended outputs (overfitting)."
   ]
  },
  {
   "cell_type": "markdown",
   "metadata": {
    "slideshow": {
     "slide_type": "slide"
    }
   },
   "source": [
    "### Let's plot some learning curves"
   ]
  },
  {
   "cell_type": "code",
   "execution_count": 46,
   "metadata": {
    "scrolled": true,
    "slideshow": {
     "slide_type": "slide"
    }
   },
   "outputs": [],
   "source": [
    "#From http://scikit-learn.org/stable/auto_examples/model_selection/plot_learning_curve.html\n",
    "\n",
    "import numpy as np\n",
    "import matplotlib.pyplot as plt\n",
    "from sklearn.naive_bayes import GaussianNB\n",
    "from sklearn.svm import SVC\n",
    "from sklearn.datasets import load_digits\n",
    "from sklearn.model_selection import learning_curve\n",
    "from sklearn.model_selection import ShuffleSplit\n",
    "\n",
    "def plot_learning_curve(estimator, title, X, y, ylim=None, cv=None,\n",
    "                        n_jobs=None, train_sizes=np.linspace(.3, 1.0, 10)):\n",
    "    plt.figure()\n",
    "    plt.title(title)\n",
    "    if ylim is not None:\n",
    "        plt.ylim(*ylim)\n",
    "    plt.xlabel(\"Training examples\")\n",
    "    plt.ylabel(\"Score\")\n",
    "    train_sizes, train_scores, test_scores = learning_curve(\n",
    "        estimator, X, y, cv=cv, n_jobs=n_jobs, train_sizes=train_sizes, scoring=\"neg_mean_squared_error\")\n",
    "    train_scores_mean = np.mean(train_scores, axis=1)\n",
    "    train_scores_std = np.std(train_scores, axis=1)\n",
    "    test_scores_mean = np.mean(test_scores, axis=1)\n",
    "    test_scores_std = np.std(test_scores, axis=1)\n",
    "    plt.grid()\n",
    "\n",
    "    plt.fill_between(train_sizes, train_scores_mean - train_scores_std,\n",
    "                     train_scores_mean + train_scores_std, alpha=0.1,\n",
    "                     color=\"r\")\n",
    "    plt.fill_between(train_sizes, test_scores_mean - test_scores_std,\n",
    "                     test_scores_mean + test_scores_std, alpha=0.1, color=\"g\")\n",
    "    plt.plot(train_sizes, train_scores_mean, 'o-', color=\"r\",\n",
    "             label=\"Training score\")\n",
    "    plt.plot(train_sizes, test_scores_mean, 'o-', color=\"g\",\n",
    "             label=\"Cross-validation score\")\n",
    "\n",
    "    plt.legend(loc=\"best\")\n",
    "    return plt"
   ]
  },
  {
   "cell_type": "code",
   "execution_count": 47,
   "metadata": {
    "scrolled": true,
    "slideshow": {
     "slide_type": "slide"
    }
   },
   "outputs": [
    {
     "data": {
      "image/png": "[encoded data removed]",
      "text/plain": [
       "<Figure size 432x288 with 1 Axes>"
      ]
     },
     "metadata": {},
     "output_type": "display_data"
    }
   ],
   "source": [
    "# http://scikit-learn.org/stable/auto_examples/model_selection/plot_learning_curve.html\n",
    "title = \"Learning Curves\"\n",
    "\n",
    "# Create the CV iterator\n",
    "cv_iterator = KFold(n_splits=5, shuffle=True, random_state=10)\n",
    "model = LinearRegression()\n",
    "model = KNeighborsRegressor(n_neighbors=2)\n",
    "plot_learning_curve(model, title, X, y, cv=cv_iterator, n_jobs=4)\n",
    "#if we change neighbors to 1- the training set is good but \n",
    "plt.show()"
   ]
  },
  {
   "cell_type": "markdown",
   "metadata": {},
   "source": [
    "good fit means both have platued but the most important is getting a good test score\n",
    "\n",
    "linear regression does better for this problem compared to the other k values "
   ]
  },
  {
   "cell_type": "markdown",
   "metadata": {
    "slideshow": {
     "slide_type": "slide"
    }
   },
   "source": [
    "#### Lasso Regression\n",
    "\n",
    "“when you have two competing theories that make exactly the same predictions, the simpler one is the better.” - William of Ockham\n",
    "\n",
    "So for a regression model LASSO (least absolute shrinkage and selection operator), or more commonly referred to as L1 regularization, could be used to penalize for the large number of parameters.\n",
    "\n",
    "* L1 regularization (the last term of the equation) favors a sparse model with  features having coefficients equal to zero or close to zero:\n",
    "\n",
    "$$ Loss =  ||y - Xw||^2_2 + \\alpha * ||w||_1$$\n",
    "\n",
    "L1 norm $||w||_1$ is simply a sum of absolute values of coefficients and $\\alpha$ regulates the strength of regularization. A zero coefficient for a feature essentially mean that the feature is eliminated.\n",
    "\n"
   ]
  },
  {
   "cell_type": "markdown",
   "metadata": {},
   "source": [
    "includes the addition of a penalty score "
   ]
  },
  {
   "cell_type": "code",
   "execution_count": 1,
   "metadata": {
    "scrolled": true,
    "slideshow": {
     "slide_type": "slide"
    }
   },
   "outputs": [
    {
     "ename": "NameError",
     "evalue": "name 'X' is not defined",
     "output_type": "error",
     "traceback": [
      "\u001b[0;31m---------------------------------------------------------------------------\u001b[0m",
      "\u001b[0;31mNameError\u001b[0m                                 Traceback (most recent call last)",
      "\u001b[0;32m<ipython-input-1-fa7b927befb0>\u001b[0m in \u001b[0;36m<module>\u001b[0;34m\u001b[0m\n\u001b[1;32m      4\u001b[0m \u001b[0;31m#constant multipliee by the penalty and asses the strenght of the variation\u001b[0m\u001b[0;34m\u001b[0m\u001b[0;34m\u001b[0m\u001b[0;34m\u001b[0m\u001b[0m\n\u001b[1;32m      5\u001b[0m \u001b[0mllr\u001b[0m \u001b[0;34m=\u001b[0m \u001b[0mLasso\u001b[0m\u001b[0;34m(\u001b[0m\u001b[0malpha\u001b[0m\u001b[0;34m=\u001b[0m\u001b[0;36m0.5\u001b[0m\u001b[0;34m)\u001b[0m\u001b[0;34m\u001b[0m\u001b[0;34m\u001b[0m\u001b[0m\n\u001b[0;32m----> 6\u001b[0;31m \u001b[0mllr\u001b[0m\u001b[0;34m.\u001b[0m\u001b[0mfit\u001b[0m\u001b[0;34m(\u001b[0m\u001b[0mX\u001b[0m\u001b[0;34m,\u001b[0m \u001b[0my\u001b[0m\u001b[0;34m)\u001b[0m\u001b[0;34m\u001b[0m\u001b[0;34m\u001b[0m\u001b[0m\n\u001b[0m\u001b[1;32m      7\u001b[0m \u001b[0mpreds\u001b[0m \u001b[0;34m=\u001b[0m \u001b[0mllr\u001b[0m\u001b[0;34m.\u001b[0m\u001b[0mpredict\u001b[0m\u001b[0;34m(\u001b[0m\u001b[0mX\u001b[0m\u001b[0;34m)\u001b[0m\u001b[0;34m\u001b[0m\u001b[0;34m\u001b[0m\u001b[0m\n\u001b[1;32m      8\u001b[0m \u001b[0;34m\u001b[0m\u001b[0m\n",
      "\u001b[0;31mNameError\u001b[0m: name 'X' is not defined"
     ]
    }
   ],
   "source": [
    "from sklearn.linear_model import Lasso, LinearRegression\n",
    "from sklearn.model_selection import cross_val_score, KFold\n",
    "from sklearn.metrics import mean_squared_error\n",
    "#constant multipliee by the penalty and asses the strenght of the variation \n",
    "llr = Lasso(alpha=0.5)\n",
    "llr.fit(X, y)\n",
    "preds = llr.predict(X)\n",
    "\n",
    "# Create the CV iterator\n",
    "cv_iterator = KFold(n_splits=5, shuffle=True, random_state=10)\n",
    "\n",
    "# Note: default in sklearn: higher return values are better than lower return values\n",
    "cross_val_score(llr, X, y, cv=cv_iterator, scoring=\"neg_mean_squared_error\")\n",
    "cross_val_score(llr, X, y, cv=5, scoring=\"neg_mean_squared_error\")\n",
    "abs(np.mean(cross_val_score(llr, X, y, cv=5, scoring=\"neg_mean_squared_error\")))"
   ]
  },
  {
   "cell_type": "markdown",
   "metadata": {},
   "source": [
    "cross val scores gives us the scores back from the function and helps with cross validtion "
   ]
  },
  {
   "cell_type": "code",
   "execution_count": null,
   "metadata": {},
   "outputs": [],
   "source": [
    "Lasso #alpha is the regularization strength "
   ]
  },
  {
   "cell_type": "code",
   "execution_count": 49,
   "metadata": {
    "scrolled": true,
    "slideshow": {
     "slide_type": "slide"
    }
   },
   "outputs": [
    {
     "data": {
      "image/png": "[encoded data removed]",
      "text/plain": [
       "<Figure size 432x288 with 1 Axes>"
      ]
     },
     "metadata": {},
     "output_type": "display_data"
    }
   ],
   "source": [
    "# http://scikit-learn.org/stable/auto_examples/model_selection/plot_learning_curve.html\n",
    "title = \"Learning Curves\"\n",
    "\n",
    "# Create the CV iterator\n",
    "cv_iterator = KFold(n_splits=5, shuffle=True, random_state=10)\n",
    "llr = Lasso(alpha=0.5)\n",
    "\n",
    "plot_learning_curve(llr, title, X, y, cv=cv_iterator, n_jobs=4)\n",
    "\n",
    "plt.show()"
   ]
  },
  {
   "cell_type": "markdown",
   "metadata": {},
   "source": [
    "Ridge regression addresses some of the problems of Ordinary Least Squares by imposing a penalty on the size of coefficients. The ridge coefficients minimize a penalized residual sum of squares,\n",
    " \n",
    "\n",
    "$$ Loss = ||y - Xw||^2_2 + \\alpha * ||w||^2_2$$\n",
    "\n",
    "Here, \n",
    "α\n",
    "≥\n",
    "0\n",
    " is a complexity parameter that controls the amount of shrinkage: the larger the value of \n",
    "α\n",
    ", the greater the amount of shrinkage and thus the coefficients become more robust to collinearity."
   ]
  },
  {
   "cell_type": "markdown",
   "metadata": {},
   "source": [
    "we get out the # of folds from function - lasso\n",
    "\n",
    "ridge- \n",
    "\n"
   ]
  },
  {
   "cell_type": "code",
   "execution_count": 50,
   "metadata": {},
   "outputs": [
    {
     "data": {
      "image/png": "[encoded data removed]",
      "text/plain": [
       "<Figure size 432x288 with 1 Axes>"
      ]
     },
     "metadata": {},
     "output_type": "display_data"
    }
   ],
   "source": [
    "from sklearn.linear_model import Ridge\n",
    "\n",
    "title = \"Learning Curves\"\n",
    "\n",
    "# Create the CV iterator\n",
    "cv_iterator = KFold(n_splits=5, shuffle=True, random_state=10)\n",
    "llr = Ridge(alpha=0.5)\n",
    "\n",
    "plot_learning_curve(llr, title, X, y, cv=cv_iterator, n_jobs=4)\n",
    "\n",
    "plt.show()\n",
    "\n",
    "#how many samples to get in this sweet spot (100 samples)"
   ]
  },
  {
   "cell_type": "markdown",
   "metadata": {
    "slideshow": {
     "slide_type": "slide"
    }
   },
   "source": [
    "## Optimizing hyperparameters with GridSearchCV\n"
   ]
  },
  {
   "cell_type": "code",
   "execution_count": 84,
   "metadata": {},
   "outputs": [
    {
     "data": {
      "text/plain": [
       "GridSearchCV(cv=KFold(n_splits=5, random_state=None, shuffle=False),\n",
       "       error_score='raise-deprecating',\n",
       "       estimator=KNeighborsRegressor(algorithm='auto', leaf_size=30, metric='minkowski',\n",
       "          metric_params=None, n_jobs=None, n_neighbors=5, p=2,\n",
       "          weights='uniform'),\n",
       "       fit_params=None, iid=False, n_jobs=None,\n",
       "       param_grid={'n_neighbors': [1, 3, 5, 7, 9]},\n",
       "       pre_dispatch='2*n_jobs', refit=True, return_train_score='warn',\n",
       "       scoring=None, verbose=0)"
      ]
     },
     "execution_count": 84,
     "metadata": {},
     "output_type": "execute_result"
    }
   ],
   "source": [
    "from sklearn.model_selection import GridSearchCV\n",
    "\n",
    "# Hyperparameter optimization:\n",
    "# (Hyper)parameter grid\n",
    "p_grid = {\n",
    "    \"n_neighbors\": [1, 3, 5, 7, 9]\n",
    "}\n",
    "\n",
    "# Note that GridSearchCV requires a cross-validation scenario, in this case KFold\n",
    "\n",
    "knnr = KNeighborsRegressor()\n",
    "grid_search = GridSearchCV(estimator=knnr, param_grid=p_grid, cv=KFold(n_splits=5), iid=False)\n",
    "grid_search.fit(X, y)"
   ]
  },
  {
   "cell_type": "markdown",
   "metadata": {},
   "source": [
    "returns this grid search cv= allows us to make our code with these parameters "
   ]
  },
  {
   "cell_type": "code",
   "execution_count": 85,
   "metadata": {},
   "outputs": [
    {
     "data": {
      "text/html": [
       "<div>\n",
       "<style scoped>\n",
       "    .dataframe tbody tr th:only-of-type {\n",
       "        vertical-align: middle;\n",
       "    }\n",
       "\n",
       "    .dataframe tbody tr th {\n",
       "        vertical-align: top;\n",
       "    }\n",
       "\n",
       "    .dataframe thead th {\n",
       "        text-align: right;\n",
       "    }\n",
       "</style>\n",
       "<table border=\"1\" class=\"dataframe\">\n",
       "  <thead>\n",
       "    <tr style=\"text-align: right;\">\n",
       "      <th></th>\n",
       "      <th>mean_fit_time</th>\n",
       "      <th>std_fit_time</th>\n",
       "      <th>mean_score_time</th>\n",
       "      <th>std_score_time</th>\n",
       "      <th>param_n_neighbors</th>\n",
       "      <th>params</th>\n",
       "      <th>split0_test_score</th>\n",
       "      <th>split1_test_score</th>\n",
       "      <th>split2_test_score</th>\n",
       "      <th>split3_test_score</th>\n",
       "      <th>...</th>\n",
       "      <th>mean_test_score</th>\n",
       "      <th>std_test_score</th>\n",
       "      <th>rank_test_score</th>\n",
       "      <th>split0_train_score</th>\n",
       "      <th>split1_train_score</th>\n",
       "      <th>split2_train_score</th>\n",
       "      <th>split3_train_score</th>\n",
       "      <th>split4_train_score</th>\n",
       "      <th>mean_train_score</th>\n",
       "      <th>std_train_score</th>\n",
       "    </tr>\n",
       "  </thead>\n",
       "  <tbody>\n",
       "    <tr>\n",
       "      <th>0</th>\n",
       "      <td>0.000503</td>\n",
       "      <td>0.000254</td>\n",
       "      <td>0.000952</td>\n",
       "      <td>0.000117</td>\n",
       "      <td>1</td>\n",
       "      <td>{'n_neighbors': 1}</td>\n",
       "      <td>-2.627907</td>\n",
       "      <td>-0.236199</td>\n",
       "      <td>-0.600097</td>\n",
       "      <td>-0.076035</td>\n",
       "      <td>...</td>\n",
       "      <td>-1.027172</td>\n",
       "      <td>0.958977</td>\n",
       "      <td>5</td>\n",
       "      <td>1.000000</td>\n",
       "      <td>1.000000</td>\n",
       "      <td>1.000000</td>\n",
       "      <td>1.000000</td>\n",
       "      <td>1.000000</td>\n",
       "      <td>1.000000</td>\n",
       "      <td>0.000000</td>\n",
       "    </tr>\n",
       "    <tr>\n",
       "      <th>1</th>\n",
       "      <td>0.000326</td>\n",
       "      <td>0.000015</td>\n",
       "      <td>0.001007</td>\n",
       "      <td>0.000028</td>\n",
       "      <td>3</td>\n",
       "      <td>{'n_neighbors': 3}</td>\n",
       "      <td>-1.310098</td>\n",
       "      <td>0.217386</td>\n",
       "      <td>-0.466775</td>\n",
       "      <td>-0.026002</td>\n",
       "      <td>...</td>\n",
       "      <td>-0.380546</td>\n",
       "      <td>0.521293</td>\n",
       "      <td>4</td>\n",
       "      <td>0.808260</td>\n",
       "      <td>0.798374</td>\n",
       "      <td>0.780439</td>\n",
       "      <td>0.790868</td>\n",
       "      <td>0.742080</td>\n",
       "      <td>0.784004</td>\n",
       "      <td>0.022857</td>\n",
       "    </tr>\n",
       "    <tr>\n",
       "      <th>2</th>\n",
       "      <td>0.000333</td>\n",
       "      <td>0.000009</td>\n",
       "      <td>0.001082</td>\n",
       "      <td>0.000138</td>\n",
       "      <td>5</td>\n",
       "      <td>{'n_neighbors': 5}</td>\n",
       "      <td>-1.109212</td>\n",
       "      <td>0.149350</td>\n",
       "      <td>-0.425920</td>\n",
       "      <td>-0.014744</td>\n",
       "      <td>...</td>\n",
       "      <td>-0.315016</td>\n",
       "      <td>0.440130</td>\n",
       "      <td>3</td>\n",
       "      <td>0.749761</td>\n",
       "      <td>0.710013</td>\n",
       "      <td>0.730012</td>\n",
       "      <td>0.731433</td>\n",
       "      <td>0.652018</td>\n",
       "      <td>0.714647</td>\n",
       "      <td>0.033748</td>\n",
       "    </tr>\n",
       "    <tr>\n",
       "      <th>3</th>\n",
       "      <td>0.000343</td>\n",
       "      <td>0.000006</td>\n",
       "      <td>0.001080</td>\n",
       "      <td>0.000080</td>\n",
       "      <td>7</td>\n",
       "      <td>{'n_neighbors': 7}</td>\n",
       "      <td>-1.008152</td>\n",
       "      <td>0.166533</td>\n",
       "      <td>-0.438516</td>\n",
       "      <td>0.031234</td>\n",
       "      <td>...</td>\n",
       "      <td>-0.305335</td>\n",
       "      <td>0.411919</td>\n",
       "      <td>2</td>\n",
       "      <td>0.698621</td>\n",
       "      <td>0.666551</td>\n",
       "      <td>0.658143</td>\n",
       "      <td>0.695848</td>\n",
       "      <td>0.621603</td>\n",
       "      <td>0.668153</td>\n",
       "      <td>0.028160</td>\n",
       "    </tr>\n",
       "    <tr>\n",
       "      <th>4</th>\n",
       "      <td>0.000358</td>\n",
       "      <td>0.000011</td>\n",
       "      <td>0.001142</td>\n",
       "      <td>0.000121</td>\n",
       "      <td>9</td>\n",
       "      <td>{'n_neighbors': 9}</td>\n",
       "      <td>-1.008267</td>\n",
       "      <td>0.156244</td>\n",
       "      <td>-0.390139</td>\n",
       "      <td>0.039706</td>\n",
       "      <td>...</td>\n",
       "      <td>-0.274295</td>\n",
       "      <td>0.411625</td>\n",
       "      <td>1</td>\n",
       "      <td>0.661207</td>\n",
       "      <td>0.635898</td>\n",
       "      <td>0.611750</td>\n",
       "      <td>0.651373</td>\n",
       "      <td>0.579808</td>\n",
       "      <td>0.628007</td>\n",
       "      <td>0.029319</td>\n",
       "    </tr>\n",
       "  </tbody>\n",
       "</table>\n",
       "<p>5 rows × 21 columns</p>\n",
       "</div>"
      ],
      "text/plain": [
       "   mean_fit_time  std_fit_time  mean_score_time  std_score_time  \\\n",
       "0       0.000503      0.000254         0.000952        0.000117   \n",
       "1       0.000326      0.000015         0.001007        0.000028   \n",
       "2       0.000333      0.000009         0.001082        0.000138   \n",
       "3       0.000343      0.000006         0.001080        0.000080   \n",
       "4       0.000358      0.000011         0.001142        0.000121   \n",
       "\n",
       "  param_n_neighbors              params  split0_test_score  split1_test_score  \\\n",
       "0                 1  {'n_neighbors': 1}          -2.627907          -0.236199   \n",
       "1                 3  {'n_neighbors': 3}          -1.310098           0.217386   \n",
       "2                 5  {'n_neighbors': 5}          -1.109212           0.149350   \n",
       "3                 7  {'n_neighbors': 7}          -1.008152           0.166533   \n",
       "4                 9  {'n_neighbors': 9}          -1.008267           0.156244   \n",
       "\n",
       "   split2_test_score  split3_test_score       ...         mean_test_score  \\\n",
       "0          -0.600097          -0.076035       ...               -1.027172   \n",
       "1          -0.466775          -0.026002       ...               -0.380546   \n",
       "2          -0.425920          -0.014744       ...               -0.315016   \n",
       "3          -0.438516           0.031234       ...               -0.305335   \n",
       "4          -0.390139           0.039706       ...               -0.274295   \n",
       "\n",
       "   std_test_score  rank_test_score  split0_train_score  split1_train_score  \\\n",
       "0        0.958977                5            1.000000            1.000000   \n",
       "1        0.521293                4            0.808260            0.798374   \n",
       "2        0.440130                3            0.749761            0.710013   \n",
       "3        0.411919                2            0.698621            0.666551   \n",
       "4        0.411625                1            0.661207            0.635898   \n",
       "\n",
       "   split2_train_score  split3_train_score  split4_train_score  \\\n",
       "0            1.000000            1.000000            1.000000   \n",
       "1            0.780439            0.790868            0.742080   \n",
       "2            0.730012            0.731433            0.652018   \n",
       "3            0.658143            0.695848            0.621603   \n",
       "4            0.611750            0.651373            0.579808   \n",
       "\n",
       "   mean_train_score  std_train_score  \n",
       "0          1.000000         0.000000  \n",
       "1          0.784004         0.022857  \n",
       "2          0.714647         0.033748  \n",
       "3          0.668153         0.028160  \n",
       "4          0.628007         0.029319  \n",
       "\n",
       "[5 rows x 21 columns]"
      ]
     },
     "execution_count": 85,
     "metadata": {},
     "output_type": "execute_result"
    }
   ],
   "source": [
    "# exploring the results of hyperparameter search using 5-fold cross-validation\n",
    "\n",
    "import warnings\n",
    "\n",
    "with warnings.catch_warnings():\n",
    "    warnings.filterwarnings(\"ignore\",category=FutureWarning)\n",
    "    df_cv_results = pd.DataFrame(grid_search.cv_results_)\n",
    "\n",
    "df_cv_results(headO)"
   ]
  },
  {
   "cell_type": "markdown",
   "metadata": {},
   "source": [
    "nneighbor vs the mean test scoe, we get the mean score for each split "
   ]
  },
  {
   "cell_type": "code",
   "execution_count": 73,
   "metadata": {},
   "outputs": [
    {
     "data": {
      "text/plain": [
       "{'n_neighbors': 9}"
      ]
     },
     "execution_count": 73,
     "metadata": {},
     "output_type": "execute_result"
    }
   ],
   "source": [
    "grid_search.best_params_"
   ]
  },
  {
   "cell_type": "code",
   "execution_count": 75,
   "metadata": {},
   "outputs": [
    {
     "data": {
      "text/plain": [
       "-0.27429538641415063"
      ]
     },
     "execution_count": 75,
     "metadata": {},
     "output_type": "execute_result"
    }
   ],
   "source": [
    "grid_search.best_score_#this is the best mean test score for the scores "
   ]
  },
  {
   "cell_type": "code",
   "execution_count": 76,
   "metadata": {},
   "outputs": [
    {
     "data": {
      "text/plain": [
       "KNeighborsRegressor(algorithm='auto', leaf_size=30, metric='minkowski',\n",
       "          metric_params=None, n_jobs=None, n_neighbors=9, p=2,\n",
       "          weights='uniform')"
      ]
     },
     "execution_count": 76,
     "metadata": {},
     "output_type": "execute_result"
    }
   ],
   "source": [
    "grid_search.best_estimator_#the actual model with the hyoerparameters . "
   ]
  },
  {
   "cell_type": "code",
   "execution_count": 83,
   "metadata": {},
   "outputs": [
    {
     "data": {
      "text/plain": [
       "0    22.333333\n",
       "1    22.088889\n",
       "2    23.122222\n",
       "3    24.600000\n",
       "4    23.922222\n",
       "dtype: float64"
      ]
     },
     "execution_count": 83,
     "metadata": {},
     "output_type": "execute_result"
    }
   ],
   "source": [
    "best_model = grid_search.best_estimator_\n",
    "pd.Series(best_model.predict(X)).head()"
   ]
  },
  {
   "cell_type": "markdown",
   "metadata": {},
   "source": [
    "## Nested GridSearchCV cross-validation"
   ]
  },
  {
   "cell_type": "code",
   "execution_count": 86,
   "metadata": {
    "scrolled": true,
    "slideshow": {
     "slide_type": "slide"
    }
   },
   "outputs": [
    {
     "data": {
      "text/plain": [
       "array([0.56587668, 0.47906321, 0.46745653, 0.67292231, 0.52349235,\n",
       "       0.72262197, 0.68445332, 0.46320908, 0.39704074, 0.37277133])"
      ]
     },
     "execution_count": 86,
     "metadata": {},
     "output_type": "execute_result"
    }
   ],
   "source": [
    "# CV iterators\n",
    "inner_cv_iterator = ShuffleSplit(n_splits=20, random_state=10)\n",
    "outer_cv_iterator = KFold(n_splits=10, shuffle=True, random_state=10)\n",
    "\n",
    "# Hyperparameter optimization:\n",
    "\n",
    "# (Hyper)parameter grid\n",
    "p_grid = {\n",
    "    \"n_neighbors\": [1, 3, 5, 7, 9]\n",
    "}\n",
    "\n",
    "knnr = KNeighborsRegressor()\n",
    "grid_search = GridSearchCV(estimator=knnr, param_grid=p_grid, cv=inner_cv_iterator)\n",
    "\n",
    "cross_val_score(estimator=grid_search, X=X, y=y, cv=outer_cv_iterator)"
   ]
  },
  {
   "cell_type": "markdown",
   "metadata": {},
   "source": [
    "grid search = define the best hyperpaameters \n",
    "\n",
    "after this we need to use the best one dserperate from the hyperparameter search to mke ths process more reliab;e \n",
    "\n",
    "\n",
    "this can ensure there isn't overfitting occuring on the datset and evaluating the model \n",
    "\n",
    "w could be overfitting the split and the cross val score makes this more unbiased "
   ]
  },
  {
   "cell_type": "markdown",
   "metadata": {},
   "source": [
    "lasso= look up lasso python \n",
    "-log of alpha \n",
    "since we look at the negative log of alpha alpha will . e small, the coefficients on the y will be large values, as alpha increases the coefficients are shrunk down and one you get to a penalty wever enough the coefficients are 0 \n",
    "\n",
    "where all of the coefficients =0 we're predicting a consrant->intercept \n",
    "once we get here beta is always 0 regardless of the data\n",
    "this can tell us how important the coefficients actually are \n",
    "\n",
    "-log alpha being 1 - what is tge apha values that minimizes error \n",
    "\n",
    "another way is to use lasso model with shrunken coefficient \n",
    "thus helps us to undertsand the value of the coefficients \n",
    "the ones that remain at the highest values are the strongest variables "
   ]
  },
  {
   "cell_type": "markdown",
   "metadata": {},
   "source": [
    "elastic net-blend of ridge and lasso "
   ]
  }
 ],
 "metadata": {
  "celltoolbar": "Slideshow",
  "kernelspec": {
   "display_name": "Python 3",
   "language": "python",
   "name": "python3"
  },
  "language_info": {
   "codemirror_mode": {
    "name": "ipython",
    "version": 3
   },
   "file_extension": ".py",
   "mimetype": "text/x-python",
   "name": "python",
   "nbconvert_exporter": "python",
   "pygments_lexer": "ipython3",
   "version": "3.7.3"
  },
  "livereveal": {
   "start_slideshow_at": "selected"
  }
 },
 "nbformat": 4,
 "nbformat_minor": 2
}
