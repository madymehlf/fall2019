{
 "cells": [
  {
   "cell_type": "markdown",
   "metadata": {
    "slideshow": {
     "slide_type": "slide"
    }
   },
   "source": [
    "## Supervised Learning Module\n",
    "\n",
    "### Week 4 - Regression"
   ]
  },
  {
   "cell_type": "markdown",
   "metadata": {},
   "source": [
    "### What is learning in Machine Learning?\n",
    "\n",
    "1. Gathering a training dataset\n",
    "2. Building a model based on the training dataset\n",
    "3. Applying the model to new data and making predictions\n",
    "\n",
    "We can distinguish: supervised, semi-supervised, unsupervised, and reinforcement learning."
   ]
  },
  {
   "cell_type": "markdown",
   "metadata": {},
   "source": [
    "### What is Supervised Learning?\n",
    "\n",
    "In supervised learning the examples in the dataset are **labeled**.\n",
    "\n",
    "The dataset $X$ contains $N$ examples.\n",
    "Each example $x_i$ is represented by a feature vector of dimensionality D: $ x^{(j)} $, $j = 1..D$, meaning that there are D features. A feature can be viewed as a variable.\n",
    "\n",
    "The **labeled** dataset has a vector of labels $y$ of dimensionality $N$:  $\\{(x_i, y_i)\\}^{N}_{i=1}$"
   ]
  },
  {
   "cell_type": "markdown",
   "metadata": {},
   "source": [
    "### Formulation of regression problems\n",
    "\n",
    "In regression problems the labels in the dataset are **numeric variables** of type int, float, taking **continuous** values. In other words they are not categoric variables. In statistics labels are called response variables."
   ]
  },
  {
   "cell_type": "code",
   "execution_count": 2,
   "metadata": {},
   "outputs": [
    {
     "name": "stderr",
     "output_type": "stream",
     "text": [
      "/srv/conda/envs/notebook/lib/python3.7/importlib/_bootstrap.py:219: RuntimeWarning: numpy.ufunc size changed, may indicate binary incompatibility. Expected 192 from C header, got 216 from PyObject\n",
      "  return f(*args, **kwds)\n"
     ]
    }
   ],
   "source": [
    "from sklearn.datasets import load_boston\n",
    "\n",
    "boston = load_boston()\n",
    "X = boston.data\n",
    "y = boston.target  # note that the labeles are also called targets"
   ]
  },
  {
   "cell_type": "code",
   "execution_count": 2,
   "metadata": {},
   "outputs": [],
   "source": [
    "# !pip install --upgrade seaborn"
   ]
  },
  {
   "cell_type": "code",
   "execution_count": 3,
   "metadata": {},
   "outputs": [
    {
     "data": {
      "text/plain": [
       "(506, 13)"
      ]
     },
     "execution_count": 3,
     "metadata": {},
     "output_type": "execute_result"
    }
   ],
   "source": [
    "X.shape   # how many examples, how many features in each feature vector?"
   ]
  },
  {
   "cell_type": "code",
   "execution_count": 4,
   "metadata": {},
   "outputs": [
    {
     "data": {
      "text/plain": [
       "array([[6.3200e-03, 1.8000e+01, 2.3100e+00, 0.0000e+00, 5.3800e-01,\n",
       "        6.5750e+00, 6.5200e+01, 4.0900e+00, 1.0000e+00, 2.9600e+02,\n",
       "        1.5300e+01, 3.9690e+02, 4.9800e+00],\n",
       "       [2.7310e-02, 0.0000e+00, 7.0700e+00, 0.0000e+00, 4.6900e-01,\n",
       "        6.4210e+00, 7.8900e+01, 4.9671e+00, 2.0000e+00, 2.4200e+02,\n",
       "        1.7800e+01, 3.9690e+02, 9.1400e+00],\n",
       "       [2.7290e-02, 0.0000e+00, 7.0700e+00, 0.0000e+00, 4.6900e-01,\n",
       "        7.1850e+00, 6.1100e+01, 4.9671e+00, 2.0000e+00, 2.4200e+02,\n",
       "        1.7800e+01, 3.9283e+02, 4.0300e+00]])"
      ]
     },
     "execution_count": 4,
     "metadata": {},
     "output_type": "execute_result"
    }
   ],
   "source": [
    "X[0:3]"
   ]
  },
  {
   "cell_type": "code",
   "execution_count": 5,
   "metadata": {},
   "outputs": [
    {
     "data": {
      "text/plain": [
       "(506,)"
      ]
     },
     "execution_count": 5,
     "metadata": {},
     "output_type": "execute_result"
    }
   ],
   "source": [
    "y.shape   # as many labels as examples"
   ]
  },
  {
   "cell_type": "code",
   "execution_count": 6,
   "metadata": {},
   "outputs": [
    {
     "data": {
      "text/plain": [
       "array([24. , 21.6, 34.7])"
      ]
     },
     "execution_count": 6,
     "metadata": {},
     "output_type": "execute_result"
    }
   ],
   "source": [
    "y[0:3]"
   ]
  },
  {
   "cell_type": "code",
   "execution_count": 4,
   "metadata": {},
   "outputs": [
    {
     "name": "stderr",
     "output_type": "stream",
     "text": [
      "/srv/conda/envs/notebook/lib/python3.7/importlib/_bootstrap.py:219: RuntimeWarning: numpy.ufunc size changed, may indicate binary incompatibility. Expected 192 from C header, got 216 from PyObject\n",
      "  return f(*args, **kwds)\n"
     ]
    },
    {
     "ename": "ModuleNotFoundError",
     "evalue": "No module named 'seaborn'",
     "output_type": "error",
     "traceback": [
      "\u001b[0;31m---------------------------------------------------------------------------\u001b[0m",
      "\u001b[0;31mModuleNotFoundError\u001b[0m                       Traceback (most recent call last)",
      "\u001b[0;32m<ipython-input-4-c437e4077126>\u001b[0m in \u001b[0;36m<module>\u001b[0;34m\u001b[0m\n\u001b[1;32m      2\u001b[0m \u001b[0;34m\u001b[0m\u001b[0m\n\u001b[1;32m      3\u001b[0m \u001b[0;32mimport\u001b[0m \u001b[0mpandas\u001b[0m \u001b[0;32mas\u001b[0m \u001b[0mpd\u001b[0m\u001b[0;34m\u001b[0m\u001b[0;34m\u001b[0m\u001b[0m\n\u001b[0;32m----> 4\u001b[0;31m \u001b[0;32mimport\u001b[0m \u001b[0mseaborn\u001b[0m \u001b[0;32mas\u001b[0m \u001b[0msb\u001b[0m\u001b[0;34m\u001b[0m\u001b[0;34m\u001b[0m\u001b[0m\n\u001b[0m\u001b[1;32m      5\u001b[0m \u001b[0;34m\u001b[0m\u001b[0m\n\u001b[1;32m      6\u001b[0m \u001b[0md\u001b[0m \u001b[0;34m=\u001b[0m \u001b[0mpd\u001b[0m\u001b[0;34m.\u001b[0m\u001b[0mDataFrame\u001b[0m\u001b[0;34m(\u001b[0m\u001b[0mX\u001b[0m\u001b[0;34m)\u001b[0m\u001b[0;34m\u001b[0m\u001b[0;34m\u001b[0m\u001b[0m\n",
      "\u001b[0;31mModuleNotFoundError\u001b[0m: No module named 'seaborn'"
     ]
    }
   ],
   "source": [
    "%matplotlib inline\n",
    "\n",
    "import pandas as pd\n",
    "import seaborn as sb\n",
    "\n",
    "d = pd.DataFrame(X)\n",
    "d['y'] = pd.Series(y)\n",
    "sb.pairplot(d)"
   ]
  },
  {
   "cell_type": "markdown",
   "metadata": {},
   "source": [
    "Note that some features could be categorical variables"
   ]
  },
  {
   "cell_type": "code",
   "execution_count": 8,
   "metadata": {},
   "outputs": [
    {
     "ename": "NameError",
     "evalue": "name 'sb' is not defined",
     "output_type": "error",
     "traceback": [
      "\u001b[0;31m---------------------------------------------------------------------------\u001b[0m",
      "\u001b[0;31mNameError\u001b[0m                                 Traceback (most recent call last)",
      "\u001b[0;32m<ipython-input-8-39f852db7a1f>\u001b[0m in \u001b[0;36m<module>\u001b[0;34m\u001b[0m\n\u001b[0;32m----> 1\u001b[0;31m \u001b[0msb\u001b[0m\u001b[0;34m.\u001b[0m\u001b[0mregplot\u001b[0m\u001b[0;34m(\u001b[0m\u001b[0md\u001b[0m\u001b[0;34m[\u001b[0m\u001b[0;36m12\u001b[0m\u001b[0;34m]\u001b[0m\u001b[0;34m,\u001b[0m \u001b[0;34m\"y\"\u001b[0m\u001b[0;34m,\u001b[0m \u001b[0mdata\u001b[0m\u001b[0;34m=\u001b[0m\u001b[0md\u001b[0m\u001b[0;34m,\u001b[0m \u001b[0mci\u001b[0m\u001b[0;34m=\u001b[0m\u001b[0;32mNone\u001b[0m\u001b[0;34m)\u001b[0m\u001b[0;34m\u001b[0m\u001b[0;34m\u001b[0m\u001b[0m\n\u001b[0m",
      "\u001b[0;31mNameError\u001b[0m: name 'sb' is not defined"
     ]
    }
   ],
   "source": [
    "sb.regplot(d[12], \"y\", data=d, ci=None)"
   ]
  },
  {
   "cell_type": "markdown",
   "metadata": {},
   "source": [
    "### Machine Learning methods to solve regression problems\n",
    "\n",
    "We will consider the following methods in this class:\n",
    "\n",
    "- Linear Regression\n",
    "- Nearest Neighbors\n",
    "- Decision Tree\n",
    "- Random Forest\n",
    "- Gradient Boosting\n",
    "\n",
    "Various regularization techniques for regression: Ridge, LASSO will be considered in the next class.\n",
    "\n",
    "Other methods capable of both regressions and classification we will consider in the classification class.\n",
    "\n",
    "Neural networks will be considered in Deep Learning module."
   ]
  },
  {
   "cell_type": "markdown",
   "metadata": {},
   "source": [
    "### Linear regression and closed form solution\n",
    "\n",
    "We want to build a model $$f_{w, b}(x) = wx + b$$\n",
    "\n",
    "so that it would predict us the label given new data $$y = f_{w,b}(x_{new})$$\n",
    "\n",
    "\n",
    "\n",
    "\n",
    "We can formulate the training process as a linear algebra problem:\n",
    "\n",
    "$$ y=w^TX + b$$\n",
    "\n",
    "$ w $ are the parameters of the model that we are trying to **learn** in the **training** process.\n",
    "\n",
    "For $b=0$, $w$ could be solved with:\n",
    "\n",
    "$$ w = (X^TX)^{-1}X^Ty $$\n",
    "\n",
    "However, that finding the inverse $(X^TX)^{-1}$ matrix may not be always possible."
   ]
  },
  {
   "cell_type": "code",
   "execution_count": 9,
   "metadata": {},
   "outputs": [
    {
     "data": {
      "text/plain": [
       "(13,)"
      ]
     },
     "execution_count": 9,
     "metadata": {},
     "output_type": "execute_result"
    }
   ],
   "source": [
    "import numpy as np\n",
    "# calculate coefficients using closed-form solution\n",
    "w = np.linalg.inv(X.T.dot(X)).dot(X.T).dot(y)\n",
    "\n",
    "w.shape\n",
    "#linear algrebra underlies all of these functions "
   ]
  },
  {
   "cell_type": "code",
   "execution_count": null,
   "metadata": {},
   "outputs": [],
   "source": [
    "import numpy as np\n",
    "# calculate coefficients using closed-form solution\n",
    "w = np.linalg.inv(X.T@X)@X.T@y\n",
    "#this line translates the upper function into code \n",
    "\n",
    "#each variable gets a weight \n",
    "#our challenge is to find which of these weights "
   ]
  },
  {
   "cell_type": "code",
   "execution_count": 10,
   "metadata": {},
   "outputs": [
    {
     "data": {
      "text/plain": [
       "array([-9.28965170e-02,  4.87149552e-02, -4.05997958e-03,  2.85399882e+00,\n",
       "       -2.86843637e+00,  5.92814778e+00, -7.26933458e-03, -9.68514157e-01,\n",
       "        1.71151128e-01, -9.39621540e-03, -3.92190926e-01,  1.49056102e-02,\n",
       "       -4.16304471e-01])"
      ]
     },
     "execution_count": 10,
     "metadata": {},
     "output_type": "execute_result"
    }
   ],
   "source": [
    "w"
   ]
  },
  {
   "cell_type": "markdown",
   "metadata": {},
   "source": [
    "**Loss function** measures how good we predict each example. Squared error is commonly used.\n",
    "\n",
    "$$ SE = (f_{w,b}(x_i)- y_i)^2$$\n",
    "for example $i$."
   ]
  },
  {
   "cell_type": "markdown",
   "metadata": {},
   "source": [
    "outputs are predictions, algotirithms are just functions, this allows us to do supervised learning "
   ]
  },
  {
   "cell_type": "code",
   "execution_count": 113,
   "metadata": {},
   "outputs": [
    {
     "data": {
      "text/plain": [
       "0.46685390150683787"
      ]
     },
     "execution_count": 113,
     "metadata": {},
     "output_type": "execute_result"
    }
   ],
   "source": [
    "i = 80\n",
    "b = 0 \n",
    "se = (w.T.dot(X[i]) + b - y[i])**2\n",
    "se"
   ]
  },
  {
   "cell_type": "markdown",
   "metadata": {},
   "source": [
    "**Cost function** is loss function for all the training examples. We will use Mean Squared Error\n",
    "$$ MSE = \\frac{1}{N}\\sum_{i=1..N}{(f_{w,b}(x_i) - y_i)^2} $$\n",
    "\n",
    "$$ MSE = \\frac{1}{N}\\sum_{i=1..N}{((wx_i + b) - y_i)^2} $$"
   ]
  },
  {
   "cell_type": "markdown",
   "metadata": {},
   "source": [
    "We can find the parameters $w$, $b$ that minimize **cost function** by solving an optimization problem"
   ]
  },
  {
   "cell_type": "markdown",
   "metadata": {},
   "source": [
    "### Gradient descent method\n",
    "Gradient shows direction towards the minimum:\n",
    "$$ \\frac{dMSE}{dw} =  \\frac{1}{N}\\sum_{i=1..N}{-2x_i(y_i - (wx_i + b))} $$\n",
    "\n",
    "$$ \\frac{dMSE}{db} = \\frac{1}{N}\\sum_{i=1..N}{-2(y_i - (wx_i + b))}$$\n",
    "\n",
    "\n",
    "By updating $w$ and  $b$ over multiple iterations we converge to the optimal values.\n",
    "We can control the rate of convergence $\\alpha$\n",
    "\n",
    "$$ w_{updated} = w_{previous} - \\alpha\\frac{dMSE}{dw} $$\n",
    "\n",
    "$$ b_{updated} = b_{previous} - \\alpha\\frac{dMSE}{db} $$"
   ]
  },
  {
   "cell_type": "markdown",
   "metadata": {},
   "source": [
    "update weights and intercepts as we go through iterations of the linear reg, the coefficents set in a wa tht the cost function is minimzed (mimnimized error) "
   ]
  },
  {
   "cell_type": "markdown",
   "metadata": {},
   "source": [
    "You can now implement linear regression with gradient descent. Rate of convergence $\\alpha$ is a hyperparameter.\n",
    "Gradient descent will allow to use any cost function for which we can express its derivative. Think about other cost functions."
   ]
  },
  {
   "cell_type": "markdown",
   "metadata": {},
   "source": [
    "linear regression is one of the few that you dwon't adjust yoir parameters to improve the model "
   ]
  },
  {
   "cell_type": "markdown",
   "metadata": {},
   "source": [
    "Can you identify by looking at the cost function that normalization of data is critical for Linear Regression or not?"
   ]
  },
  {
   "cell_type": "markdown",
   "metadata": {},
   "source": [
    "### Sklearn implemenentation\n",
    "\n"
   ]
  },
  {
   "cell_type": "code",
   "execution_count": 10,
   "metadata": {},
   "outputs": [
    {
     "data": {
      "text/plain": [
       "(array([-9.28965170e-02,  4.87149552e-02, -4.05997958e-03,  2.85399882e+00,\n",
       "        -2.86843637e+00,  5.92814778e+00, -7.26933458e-03, -9.68514157e-01,\n",
       "         1.71151128e-01, -9.39621540e-03, -3.92190926e-01,  1.49056102e-02,\n",
       "        -4.16304471e-01]), 0.0)"
      ]
     },
     "execution_count": 10,
     "metadata": {},
     "output_type": "execute_result"
    }
   ],
   "source": [
    "from sklearn.linear_model import LinearRegression\n",
    "\n",
    "# init\n",
    "lr = LinearRegression(fit_intercept=False) #here we set it to 0 to be the same as numpy \n",
    "\n",
    "# Learning\n",
    "lr.fit(X, y)\n",
    "\n",
    "# Learned model w and b:\n",
    "lr.coef_, lr.intercept_"
   ]
  },
  {
   "cell_type": "code",
   "execution_count": 12,
   "metadata": {},
   "outputs": [
    {
     "data": {
      "text/plain": [
       "<bound method RegressorMixin.score of LinearRegression(copy_X=True, fit_intercept=False, n_jobs=None, normalize=False)>"
      ]
     },
     "execution_count": 12,
     "metadata": {},
     "output_type": "execute_result"
    }
   ],
   "source": [
    "lr.score #metric to evaluate performance "
   ]
  },
  {
   "cell_type": "code",
   "execution_count": 15,
   "metadata": {},
   "outputs": [
    {
     "data": {
      "text/plain": [
       "0.7137381380515404"
      ]
     },
     "execution_count": 15,
     "metadata": {},
     "output_type": "execute_result"
    }
   ],
   "source": [
    "# R^2 - coefficient of determination or proportion of explained variance\n",
    "lr.score(X, y) #shift + tab to see the method that is occuring "
   ]
  },
  {
   "cell_type": "code",
   "execution_count": 11,
   "metadata": {},
   "outputs": [
    {
     "data": {
      "text/plain": [
       "array([ True,  True,  True,  True,  True,  True,  True,  True,  True,\n",
       "        True,  True,  True,  True])"
      ]
     },
     "execution_count": 11,
     "metadata": {},
     "output_type": "execute_result"
    }
   ],
   "source": [
    "np.isclose(w, lr.coef_) #are they close enough to be the same and yes they are"
   ]
  },
  {
   "cell_type": "code",
   "execution_count": null,
   "metadata": {},
   "outputs": [],
   "source": [
    "lr.score"
   ]
  },
  {
   "cell_type": "code",
   "execution_count": 18,
   "metadata": {},
   "outputs": [
    {
     "data": {
      "text/plain": [
       "0.7137381380515404"
      ]
     },
     "execution_count": 18,
     "metadata": {},
     "output_type": "execute_result"
    }
   ],
   "source": [
    "from sklearn.metrics import mean_squared_error\n",
    "from sklearn.metrics import r2_score\n",
    "\n",
    "# \"predictions\" based on the training dataset\n",
    "y_model = lr.predict(X)  # f(x)\n",
    "mean_squared_error(y, y_model)  # MSE, what do you compare this too?\n",
    "r2_score(y, y_model)\n",
    "#allows for the formation of a naive model \n",
    "#predicts the same thing regardless of the predictors \n",
    "#what is the baseline model???????\n",
    "\n"
   ]
  },
  {
   "cell_type": "code",
   "execution_count": 20,
   "metadata": {},
   "outputs": [
    {
     "data": {
      "text/plain": [
       "24.166099330126492"
      ]
     },
     "execution_count": 20,
     "metadata": {},
     "output_type": "execute_result"
    }
   ],
   "source": [
    "mean_squared_error(y,y_model) #mse"
   ]
  },
  {
   "cell_type": "code",
   "execution_count": 21,
   "metadata": {},
   "outputs": [
    {
     "data": {
      "text/plain": [
       "1.0"
      ]
     },
     "execution_count": 21,
     "metadata": {},
     "output_type": "execute_result"
    }
   ],
   "source": [
    "r2_score(y, y) #mse "
   ]
  },
  {
   "cell_type": "code",
   "execution_count": 8,
   "metadata": {},
   "outputs": [
    {
     "data": {
      "text/plain": [
       "{'n_neighbors': 2}"
      ]
     },
     "execution_count": 8,
     "metadata": {},
     "output_type": "execute_result"
    }
   ],
   "source": [
    "gscv.best_params_"
   ]
  },
  {
   "cell_type": "code",
   "execution_count": 26,
   "metadata": {},
   "outputs": [
    {
     "data": {
      "text/plain": [
       "0.7137381380515404"
      ]
     },
     "execution_count": 26,
     "metadata": {},
     "output_type": "execute_result"
    }
   ],
   "source": [
    "r2_score(y, y_model) #mse"
   ]
  },
  {
   "cell_type": "code",
   "execution_count": 27,
   "metadata": {},
   "outputs": [
    {
     "data": {
      "text/plain": [
       "0.0"
      ]
     },
     "execution_count": 27,
     "metadata": {},
     "output_type": "execute_result"
    }
   ],
   "source": [
    "r2_score(y, y_avg) #mse, allows us to test the validity of our model "
   ]
  },
  {
   "cell_type": "markdown",
   "metadata": {},
   "source": [
    "this works ok but not always the best predictor, the mean isn't always the best way to go but it is usually good cause its within the range, the median is also a good gauge "
   ]
  },
  {
   "cell_type": "code",
   "execution_count": 23,
   "metadata": {},
   "outputs": [],
   "source": [
    "#activity \n",
    "# we want something to compare to without any previous data \n",
    "\n",
    "y_avg=[np.average(y)] *len(y)\n",
    "\n"
   ]
  },
  {
   "cell_type": "code",
   "execution_count": 24,
   "metadata": {},
   "outputs": [
    {
     "data": {
      "text/plain": [
       "84.41955615616556"
      ]
     },
     "execution_count": 24,
     "metadata": {},
     "output_type": "execute_result"
    }
   ],
   "source": [
    "#asses the base model\n",
    "\n",
    "mean_squared_error(y, y_avg) #MSE"
   ]
  },
  {
   "cell_type": "code",
   "execution_count": 25,
   "metadata": {},
   "outputs": [
    {
     "data": {
      "text/plain": [
       "9.188011545278203"
      ]
     },
     "execution_count": 25,
     "metadata": {},
     "output_type": "execute_result"
    }
   ],
   "source": [
    "np.sqrt(mean_squared_error(y, y_avg)) #root mean squared "
   ]
  },
  {
   "cell_type": "code",
   "execution_count": null,
   "metadata": {},
   "outputs": [],
   "source": [
    "np.sqrt(mean_squared_error(y, y_model))#root mean squared"
   ]
  },
  {
   "cell_type": "markdown",
   "metadata": {},
   "source": [
    "### Making predictions on new data"
   ]
  },
  {
   "cell_type": "code",
   "execution_count": null,
   "metadata": {},
   "outputs": [],
   "source": []
  },
  {
   "cell_type": "code",
   "execution_count": 120,
   "metadata": {},
   "outputs": [
    {
     "name": "stdout",
     "output_type": "stream",
     "text": [
      "[0.01 0.01 0.01 0.01 0.01 0.01 0.01 0.01 0.01 0.01 0.01 0.01 0.01]\n"
     ]
    },
    {
     "data": {
      "text/plain": [
       "0.042578503213361665"
      ]
     },
     "execution_count": 120,
     "metadata": {},
     "output_type": "execute_result"
    }
   ],
   "source": [
    "# x_new = X[100] * 0.01*np.random.random()  # new example\n",
    "\n",
    "x_new = np.array([0.01]*13)\n",
    "print(x_new)\n",
    "\n",
    "w = lr.coef_\n",
    "b = lr.intercept_\n",
    "y_new = np.dot(w, x_new) + b\n",
    "y_new"
   ]
  },
  {
   "cell_type": "code",
   "execution_count": 125,
   "metadata": {},
   "outputs": [
    {
     "data": {
      "text/plain": [
       "array([0.0425785])"
      ]
     },
     "execution_count": 125,
     "metadata": {},
     "output_type": "execute_result"
    }
   ],
   "source": [
    "# or simply: the sci kit learn tool kit \n",
    "# lr.predict(x_new.reshape(1, -1))\n",
    "lr.predict([x_new, ])"
   ]
  },
  {
   "cell_type": "markdown",
   "metadata": {},
   "source": [
    "its the same result regardless"
   ]
  },
  {
   "cell_type": "markdown",
   "metadata": {},
   "source": [
    "### How data normalization effects linear regression"
   ]
  },
  {
   "cell_type": "code",
   "execution_count": 29,
   "metadata": {},
   "outputs": [],
   "source": [
    "x=5 \n"
   ]
  },
  {
   "cell_type": "code",
   "execution_count": 30,
   "metadata": {},
   "outputs": [
    {
     "data": {
      "text/plain": [
       "25"
      ]
     },
     "execution_count": 30,
     "metadata": {},
     "output_type": "execute_result"
    }
   ],
   "source": [
    "x *=5; x #take x mult by x and mult by 5 then reassign to itself "
   ]
  },
  {
   "cell_type": "code",
   "execution_count": 33,
   "metadata": {},
   "outputs": [
    {
     "data": {
      "text/plain": [
       "3125"
      ]
     },
     "execution_count": 33,
     "metadata": {},
     "output_type": "execute_result"
    }
   ],
   "source": [
    "x= x *5; x"
   ]
  },
  {
   "cell_type": "code",
   "execution_count": null,
   "metadata": {},
   "outputs": [],
   "source": [
    "from sklearn import mean_abolute_error \n",
    "from sklearn import median_absolute_error"
   ]
  },
  {
   "cell_type": "code",
   "execution_count": null,
   "metadata": {},
   "outputs": [],
   "source": []
  },
  {
   "cell_type": "code",
   "execution_count": 34,
   "metadata": {},
   "outputs": [
    {
     "data": {
      "text/plain": [
       "109.6863509956637"
      ]
     },
     "execution_count": 34,
     "metadata": {},
     "output_type": "execute_result"
    }
   ],
   "source": [
    "from sklearn.preprocessing import normalize\n",
    "\n",
    "X_copy = X.copy() #copies the value\n",
    "X_copy[5] *= 1000000 #mult by 1000000\n",
    "X_copy[4] *= 0.000001 #re-assigns to the value \n",
    "X_copy[12] *= 0.0001\n",
    "y_model = LinearRegression(fit_intercept=False).fit(X_copy, y).predict(X_copy)\n",
    "mean_squared_error(y, y_model)"
   ]
  },
  {
   "cell_type": "markdown",
   "metadata": {},
   "source": [
    "scale matter for linear regression "
   ]
  },
  {
   "cell_type": "code",
   "execution_count": 35,
   "metadata": {},
   "outputs": [
    {
     "data": {
      "text/plain": [
       "21.6410630103583"
      ]
     },
     "execution_count": 35,
     "metadata": {},
     "output_type": "execute_result"
    }
   ],
   "source": [
    "X_norm = normalize(X_copy)\n",
    "y_model = LinearRegression(fit_intercept=False).fit(X_norm, y).predict(X_norm)\n",
    "mean_squared_error(y, y_model)"
   ]
  },
  {
   "cell_type": "code",
   "execution_count": null,
   "metadata": {},
   "outputs": [],
   "source": [
    "mean_absolute_error(y, y_model)#this methods provide a mechanism to compare these diff models and understand how they're performing "
   ]
  },
  {
   "cell_type": "markdown",
   "metadata": {},
   "source": [
    "how the base model \n",
    "\n",
    "higher-mean squared error means that its bad compared to what \n",
    "\n",
    "\n",
    "these sre all diff cost functionsq, how mucsh loss withbeach model \n",
    "\n",
    "for score the higher the score the better \n",
    "\n",
    "0 error would be a perfect model \n",
    "the base model is what we use to measure, gives us the point of relativity \n",
    "\n",
    "a baseline model for classification use MODE - the most frequent observation \n",
    "\n",
    "here mode does not make sense for these floating point data \n",
    "\n",
    "you have model \n",
    "base model - higher \n",
    "model just guessing and \n",
    "a perfect model "
   ]
  },
  {
   "cell_type": "markdown",
   "metadata": {},
   "source": [
    "### How outliers affect linear regression?"
   ]
  },
  {
   "cell_type": "markdown",
   "metadata": {},
   "source": [
    "### Regression with Nearest Neighbors\n",
    "How do we find nearest neighbor?\n",
    "\n",
    "How many nearest neighbors?\n",
    "\n",
    "![](https://upload.wikimedia.org/wikipedia/commons/thumb/e/e7/KnnClassification.svg/500px-KnnClassification.svg.png)"
   ]
  },
  {
   "cell_type": "code",
   "execution_count": 2,
   "metadata": {},
   "outputs": [
    {
     "ename": "NameError",
     "evalue": "name 'X' is not defined",
     "output_type": "error",
     "traceback": [
      "\u001b[0;31m---------------------------------------------------------------------------\u001b[0m",
      "\u001b[0;31mNameError\u001b[0m                                 Traceback (most recent call last)",
      "\u001b[0;32m<ipython-input-2-bc5f1a0adac8>\u001b[0m in \u001b[0;36m<module>\u001b[0;34m\u001b[0m\n\u001b[0;32m----> 1\u001b[0;31m \u001b[0mX\u001b[0m\u001b[0;34m.\u001b[0m\u001b[0mshape\u001b[0m\u001b[0;34m\u001b[0m\u001b[0;34m\u001b[0m\u001b[0m\n\u001b[0m",
      "\u001b[0;31mNameError\u001b[0m: name 'X' is not defined"
     ]
    }
   ],
   "source": [
    "X.shape"
   ]
  },
  {
   "cell_type": "markdown",
   "metadata": {},
   "source": [
    "for a pount it sees for the firsr time looks back on data it was trained on and say what are the 2 closest points \n",
    "\n",
    "the 2 red triangles in the center are closet \n",
    "for regression take an average od whatevr their y's are \n",
    "\n",
    "we dont know green but we know red, so we average these values and say this must be what the green circle is \n",
    "\n",
    "if we say 3 then the nearest three things -\n",
    "\n",
    "clasification predict the continous outcome\n",
    "\n",
    "take these 3 and average their y's \n",
    "\n",
    "this is a simpel model but has some disdvantages is that the algorithm must crry all the trainign data and look up those values, requires mode or mean = prediction \n",
    "carries a numoy and the array to which it was trained to look up the answer each time "
   ]
  },
  {
   "cell_type": "markdown",
   "metadata": {},
   "source": [
    "run linear regression with nothing to tune, we have a hyper parneter to set  whichbis K (the solid line) tke rhe mde for cloasswification or mean for prediction \n",
    "\n",
    "how do we know what to set k as? hyper training to pick the right k - there will be a logical stopping points \n",
    "if k is set to the # of datapoints- predicting median for model,this is our baseline model \n",
    "\n",
    "\n",
    "this is when you use elbow, optimal k is the inflection point because between loss and gain - this is determined by training data"
   ]
  },
  {
   "cell_type": "markdown",
   "metadata": {},
   "source": [
    "eucledian distance= if we talk about points on a number line \n",
    "\n",
    "manhattan distance- between 1 pt and another straight line \n",
    "\n",
    "in 2d we need a new rule run/rise then add togherhe manhattan \n",
    "\n",
    "pythagorean theorm (eucledian distsnce) \n",
    "\n",
    "which one = eucledian distance "
   ]
  },
  {
   "cell_type": "code",
   "execution_count": null,
   "metadata": {},
   "outputs": [],
   "source": [
    "from scipy.spatial.distance import euclidean\n",
    "\n",
    "euclidean(X[0], X[1])"
   ]
  },
  {
   "cell_type": "code",
   "execution_count": 3,
   "metadata": {},
   "outputs": [
    {
     "ename": "NameError",
     "evalue": "name 'X' is not defined",
     "output_type": "error",
     "traceback": [
      "\u001b[0;31m---------------------------------------------------------------------------\u001b[0m",
      "\u001b[0;31mNameError\u001b[0m                                 Traceback (most recent call last)",
      "\u001b[0;32m<ipython-input-3-17e39c0c8757>\u001b[0m in \u001b[0;36m<module>\u001b[0;34m\u001b[0m\n\u001b[1;32m      1\u001b[0m \u001b[0;32mfrom\u001b[0m \u001b[0msklearn\u001b[0m\u001b[0;34m.\u001b[0m\u001b[0mneighbors\u001b[0m \u001b[0;32mimport\u001b[0m \u001b[0mNearestNeighbors\u001b[0m\u001b[0;34m\u001b[0m\u001b[0;34m\u001b[0m\u001b[0m\n\u001b[0;32m----> 2\u001b[0;31m \u001b[0mnbrs\u001b[0m \u001b[0;34m=\u001b[0m \u001b[0mNearestNeighbors\u001b[0m\u001b[0;34m(\u001b[0m\u001b[0mn_neighbors\u001b[0m\u001b[0;34m=\u001b[0m\u001b[0;36m3\u001b[0m\u001b[0;34m,\u001b[0m \u001b[0malgorithm\u001b[0m\u001b[0;34m=\u001b[0m\u001b[0;34m'ball_tree'\u001b[0m\u001b[0;34m)\u001b[0m\u001b[0;34m.\u001b[0m\u001b[0mfit\u001b[0m\u001b[0;34m(\u001b[0m\u001b[0mX\u001b[0m\u001b[0;34m)\u001b[0m \u001b[0;31m#fit the model to x then indicies\u001b[0m\u001b[0;34m\u001b[0m\u001b[0;34m\u001b[0m\u001b[0m\n\u001b[0m\u001b[1;32m      3\u001b[0m \u001b[0mdistances\u001b[0m\u001b[0;34m,\u001b[0m \u001b[0mindices\u001b[0m \u001b[0;34m=\u001b[0m \u001b[0mnbrs\u001b[0m\u001b[0;34m.\u001b[0m\u001b[0mkneighbors\u001b[0m\u001b[0;34m(\u001b[0m\u001b[0mX\u001b[0m\u001b[0;34m)\u001b[0m\u001b[0;34m\u001b[0m\u001b[0;34m\u001b[0m\u001b[0m\n",
      "\u001b[0;31mNameError\u001b[0m: name 'X' is not defined"
     ]
    }
   ],
   "source": [
    "from sklearn.neighbors import NearestNeighbors\n",
    "nbrs = NearestNeighbors(n_neighbors=3, algorithm='ball_tree').fit(X) #fit the model to x then indicies \n",
    "distances, indices = nbrs.kneighbors(X)"
   ]
  },
  {
   "cell_type": "code",
   "execution_count": null,
   "metadata": {},
   "outputs": [],
   "source": [
    "nbrs"
   ]
  },
  {
   "cell_type": "code",
   "execution_count": 169,
   "metadata": {},
   "outputs": [
    {
     "data": {
      "text/plain": [
       "array([[ 0.        , 16.0970999 , 16.99995447],\n",
       "       [ 0.        , 15.39261599, 18.97631935],\n",
       "       [ 0.        ,  8.07879279,  8.89317332],\n",
       "       ...,\n",
       "       [ 0.        ,  3.94748354,  9.40019876],\n",
       "       [ 0.        ,  3.94748354,  8.83081803],\n",
       "       [ 0.        ,  4.2784823 ,  9.31201061]])"
      ]
     },
     "execution_count": 169,
     "metadata": {},
     "output_type": "execute_result"
    }
   ],
   "source": [
    "# distances to 3 closest neighbors\n",
    "distances"
   ]
  },
  {
   "cell_type": "code",
   "execution_count": 171,
   "metadata": {},
   "outputs": [
    {
     "data": {
      "text/plain": [
       "array([[  0, 241,  62],\n",
       "       [  1,  47,   2],\n",
       "       [  2,  85,  87],\n",
       "       ...,\n",
       "       [503, 504, 219],\n",
       "       [504, 503, 219],\n",
       "       [505, 502, 504]])"
      ]
     },
     "execution_count": 171,
     "metadata": {},
     "output_type": "execute_result"
    }
   ],
   "source": [
    "# indices of 3 closest neighbors\n",
    "indices"
   ]
  },
  {
   "cell_type": "markdown",
   "metadata": {},
   "source": [
    "Because the query set matches the training set, the nearest neighbor of each point is the point itself, at a distance of zero.\n",
    "It is also possible to efficiently produce a sparse graph showing the connections between neighboring points:"
   ]
  },
  {
   "cell_type": "code",
   "execution_count": 40,
   "metadata": {},
   "outputs": [
    {
     "data": {
      "text/plain": [
       "array([[1., 0., 0., ..., 0., 0., 0.],\n",
       "       [0., 1., 1., ..., 0., 0., 0.],\n",
       "       [0., 0., 1., ..., 0., 0., 0.],\n",
       "       ...,\n",
       "       [0., 0., 0., ..., 1., 1., 1.],\n",
       "       [0., 0., 0., ..., 1., 1., 1.],\n",
       "       [0., 0., 0., ..., 1., 1., 1.]])"
      ]
     },
     "execution_count": 40,
     "metadata": {},
     "output_type": "execute_result"
    }
   ],
   "source": [
    "nbrs.kneighbors_graph(X).toarray()"
   ]
  },
  {
   "cell_type": "code",
   "execution_count": 4,
   "metadata": {},
   "outputs": [
    {
     "ename": "NameError",
     "evalue": "name 'X' is not defined",
     "output_type": "error",
     "traceback": [
      "\u001b[0;31m---------------------------------------------------------------------------\u001b[0m",
      "\u001b[0;31mNameError\u001b[0m                                 Traceback (most recent call last)",
      "\u001b[0;32m<ipython-input-4-0066100b0505>\u001b[0m in \u001b[0;36m<module>\u001b[0;34m\u001b[0m\n\u001b[1;32m      2\u001b[0m \u001b[0;34m\u001b[0m\u001b[0m\n\u001b[1;32m      3\u001b[0m \u001b[0mnnr\u001b[0m \u001b[0;34m=\u001b[0m \u001b[0mKNeighborsRegressor\u001b[0m\u001b[0;34m(\u001b[0m\u001b[0mn_neighbors\u001b[0m\u001b[0;34m=\u001b[0m\u001b[0;36m3\u001b[0m\u001b[0;34m)\u001b[0m\u001b[0;34m\u001b[0m\u001b[0;34m\u001b[0m\u001b[0m\n\u001b[0;32m----> 4\u001b[0;31m \u001b[0mnnr\u001b[0m\u001b[0;34m.\u001b[0m\u001b[0mfit\u001b[0m\u001b[0;34m(\u001b[0m\u001b[0mX\u001b[0m\u001b[0;34m,\u001b[0m \u001b[0my\u001b[0m\u001b[0;34m)\u001b[0m\u001b[0;34m\u001b[0m\u001b[0;34m\u001b[0m\u001b[0m\n\u001b[0m",
      "\u001b[0;31mNameError\u001b[0m: name 'X' is not defined"
     ]
    }
   ],
   "source": [
    "from sklearn.neighbors import KNeighborsRegressor\n",
    "\n",
    "nnr = KNeighborsRegressor(n_neighbors=3) #if we change this to 1 the blue and orange are right on top of each other \n",
    "nnr.fit(X, y)"
   ]
  },
  {
   "cell_type": "code",
   "execution_count": null,
   "metadata": {},
   "outputs": [],
   "source": [
    "nnr.score(X, y) #having a k of 1 is usually not really the best way to asses this model "
   ]
  },
  {
   "cell_type": "markdown",
   "metadata": {},
   "source": [
    "What is the model in case of Nearest Neighbors?"
   ]
  },
  {
   "cell_type": "code",
   "execution_count": 174,
   "metadata": {},
   "outputs": [],
   "source": [
    "y_pred_nn = nnr.predict(X)"
   ]
  },
  {
   "cell_type": "code",
   "execution_count": 7,
   "metadata": {},
   "outputs": [
    {
     "data": {
      "image/png": "[encoded data removed]",
      "text/plain": [
       "<Figure size 432x288 with 1 Axes>"
      ]
     },
     "metadata": {
      "needs_background": "light"
     },
     "output_type": "display_data"
    }
   ],
   "source": [
    "from sklearn.model_selection import KFold, GridSearchCV\n",
    "from sklearn.neighbors import KNeighborsRegressor\n",
    "from sklearn.preprocessing import StandardScaler\n",
    "\n",
    "# Scaling\n",
    "sc = StandardScaler()\n",
    "X_scaled = sc.fit_transform(X)\n",
    "# Create kf instance \n",
    "kf = KFold(n_splits=5, shuffle=True, random_state=42)\n",
    "# Create knn instance \n",
    "knn = KNeighborsRegressor()\n",
    "# Create grid search instance \n",
    "gscv = GridSearchCV(knn, {\"n_neighbors\": range(1, 9)}, cv=kf, n_jobs=-1)\n",
    "gscv.fit(X_scaled, y)\n",
    "# Get cross-validation data\n",
    "cv_df = pd.DataFrame(gscv.cv_results_)\n",
    "# Get k values versus mean_test_scores\n",
    "cv_df.plot.line(x=\"param_n_neighbors\", y=\"mean_test_score\");"
   ]
  },
  {
   "cell_type": "code",
   "execution_count": null,
   "metadata": {},
   "outputs": [],
   "source": [
    "varname = d.columns[12]"
   ]
  },
  {
   "cell_type": "code",
   "execution_count": 9,
   "metadata": {},
   "outputs": [
    {
     "data": {
      "text/plain": [
       "{'n_neighbors': 2}"
      ]
     },
     "execution_count": 9,
     "metadata": {},
     "output_type": "execute_result"
    }
   ],
   "source": [
    "gscv.best_params_"
   ]
  },
  {
   "cell_type": "markdown",
   "metadata": {},
   "source": [
    "x will be the values for the lsat "
   ]
  },
  {
   "cell_type": "code",
   "execution_count": 5,
   "metadata": {},
   "outputs": [
    {
     "ename": "NameError",
     "evalue": "name 'd' is not defined",
     "output_type": "error",
     "traceback": [
      "\u001b[0;31m---------------------------------------------------------------------------\u001b[0m",
      "\u001b[0;31mNameError\u001b[0m                                 Traceback (most recent call last)",
      "\u001b[0;32m<ipython-input-5-ae86df7f278f>\u001b[0m in \u001b[0;36m<module>\u001b[0;34m\u001b[0m\n\u001b[0;32m----> 1\u001b[0;31m \u001b[0md\u001b[0m\u001b[0;34m.\u001b[0m\u001b[0mcolumns\u001b[0m\u001b[0;34m[\u001b[0m\u001b[0;36m12\u001b[0m\u001b[0;34m]\u001b[0m\u001b[0;34m\u001b[0m\u001b[0;34m\u001b[0m\u001b[0m\n\u001b[0m",
      "\u001b[0;31mNameError\u001b[0m: name 'd' is not defined"
     ]
    }
   ],
   "source": [
    "d.columns[12]"
   ]
  },
  {
   "cell_type": "code",
   "execution_count": 175,
   "metadata": {},
   "outputs": [
    {
     "data": {
      "text/plain": [
       "<matplotlib.axes._subplots.AxesSubplot at 0x1a3c8aad68>"
      ]
     },
     "execution_count": 175,
     "metadata": {},
     "output_type": "execute_result"
    },
    {
     "data": {
      "image/png": "[encoded data removed]",
      "text/plain": [
       "<Figure size 432x288 with 1 Axes>"
      ]
     },
     "metadata": {},
     "output_type": "display_data"
    }
   ],
   "source": [
    "sb.scatterplot(d[12], y)\n",
    "sb.scatterplot(d[12], y_pred_nn)"
   ]
  },
  {
   "cell_type": "markdown",
   "metadata": {},
   "source": [
    "when the dots are on top of each other it is working well "
   ]
  },
  {
   "cell_type": "markdown",
   "metadata": {},
   "source": [
    "# Notice how KNN handles nonlinearity!\n",
    "\n",
    "Also, what does NNR(n_neighbors=1) mean?"
   ]
  },
  {
   "cell_type": "code",
   "execution_count": 176,
   "metadata": {},
   "outputs": [],
   "source": [
    "indices = np.random.randint(2, size=X.shape[0]).astype(bool)\n",
    "# indices"
   ]
  },
  {
   "cell_type": "code",
   "execution_count": 177,
   "metadata": {},
   "outputs": [],
   "source": [
    "#np.logical_not(indices)"
   ]
  },
  {
   "cell_type": "code",
   "execution_count": 178,
   "metadata": {},
   "outputs": [
    {
     "data": {
      "text/plain": [
       "55.813115468409585"
      ]
     },
     "execution_count": 178,
     "metadata": {},
     "output_type": "execute_result"
    },
    {
     "data": {
      "image/png": "[encoded data removed]",
      "text/plain": [
       "<Figure size 432x288 with 1 Axes>"
      ]
     },
     "metadata": {},
     "output_type": "display_data"
    }
   ],
   "source": [
    "X_train = X[indices]\n",
    "X_test = X[np.logical_not(indices)]\n",
    "y_train = y[indices]\n",
    "y_test = y[np.logical_not(indices)]\n",
    "\n",
    "nnr = KNeighborsRegressor(n_neighbors=3)\n",
    "nnr.fit(X_train, y_train)\n",
    "y_pred_nn = nnr.predict(X_test)\n",
    "\n",
    "sb.scatterplot(X_test[...,12], y_test)\n",
    "sb.scatterplot(X_test[...,12], y_pred_nn)\n",
    "\n",
    "mean_squared_error(y_test, y_pred_nn)"
   ]
  },
  {
   "cell_type": "code",
   "execution_count": null,
   "metadata": {},
   "outputs": [],
   "source": [
    "sb.scatterplot(X_train[...,12], y_train)\n",
    "y_pred_nn_train = nnr.predict(X_train)\n",
    "sb.scatterplot(X_train[...,12], y_pred_nn_train)"
   ]
  },
  {
   "cell_type": "markdown",
   "metadata": {},
   "source": [
    "What are the main hyperparameters of KNN Regressor?\n",
    "- distance metric\n",
    "- K"
   ]
  },
  {
   "cell_type": "markdown",
   "metadata": {},
   "source": [
    "### Rule-based model:\n",
    "Regression with decision tree\n",
    "\n",
    "How a tree is built?\n",
    "\n",
    "Hyperparameters: tree depth, cutoff\n",
    "\n",
    "![](http://res.cloudinary.com/dyd911kmh/image/upload/f_auto,q_auto:best/v1528907338/regression-tree_g8zxq5.png)"
   ]
  },
  {
   "cell_type": "code",
   "execution_count": 14,
   "metadata": {},
   "outputs": [
    {
     "data": {
      "text/plain": [
       "(506, 13)"
      ]
     },
     "execution_count": 14,
     "metadata": {},
     "output_type": "execute_result"
    }
   ],
   "source": [
    "X.shape"
   ]
  },
  {
   "cell_type": "code",
   "execution_count": 17,
   "metadata": {},
   "outputs": [
    {
     "data": {
      "image/png": "[encoded data removed]",
      "text/plain": [
       "<Figure size 432x288 with 1 Axes>"
      ]
     },
     "metadata": {
      "needs_background": "light"
     },
     "output_type": "display_data"
    }
   ],
   "source": [
    "from sklearn.model_selection import KFold, GridSearchCV\n",
    "from sklearn.tree import DecisionTreeRegressor\n",
    "from sklearn.preprocessing import StandardScaler\n",
    "\n",
    "# Scaling\n",
    "sc = StandardScaler()\n",
    "X_scaled = sc.fit_transform(X)\n",
    "# Create kf instance \n",
    "kf = KFold(n_splits=5, shuffle=True, random_state=42)\n",
    "# Create dt instance \n",
    "dt = DecisionTreeRegressor()\n",
    "# Create grid search instance \n",
    "#gscv = GridSearchCV(dt, {\"max_depth\": range(1, 200)}, cv=kf, n_jobs=-1)#we don't wanna grow the tree this much \n",
    "gscv = GridSearchCV(dt, {\"max_depth\": range(1, 20)}, cv=kf, n_jobs=-1)\n",
    "gscv.fit(X_scaled, y)\n",
    "# Get cross-validation data\n",
    "cv_df = pd.DataFrame(gscv.cv_results_)\n",
    "# Get k values versus mean_test_scores\n",
    "cv_df.plot.line(x=\"param_max_depth\", y=\"mean_test_score\");"
   ]
  },
  {
   "cell_type": "code",
   "execution_count": 18,
   "metadata": {},
   "outputs": [
    {
     "data": {
      "text/plain": [
       "{'max_depth': 7}"
      ]
     },
     "execution_count": 18,
     "metadata": {},
     "output_type": "execute_result"
    }
   ],
   "source": [
    "#find out the depths of the tree \n",
    "#gscv.cv.get_n_splits\n",
    "gscv.best_params_"
   ]
  },
  {
   "cell_type": "markdown",
   "metadata": {},
   "source": [
    "if its true we go to the left if false we go to the right "
   ]
  },
  {
   "cell_type": "code",
   "execution_count": 19,
   "metadata": {},
   "outputs": [
    {
     "data": {
      "text/plain": [
       "DecisionTreeRegressor(criterion='mse', max_depth=7, max_features=None,\n",
       "                      max_leaf_nodes=None, min_impurity_decrease=0.0,\n",
       "                      min_impurity_split=None, min_samples_leaf=1,\n",
       "                      min_samples_split=2, min_weight_fraction_leaf=0.0,\n",
       "                      presort=False, random_state=None, splitter='best')"
      ]
     },
     "execution_count": 19,
     "metadata": {},
     "output_type": "execute_result"
    }
   ],
   "source": [
    "gscv.best_estimator_ #make predictions on the new values "
   ]
  },
  {
   "cell_type": "code",
   "execution_count": 20,
   "metadata": {},
   "outputs": [
    {
     "data": {
      "text/html": [
       "<div>\n",
       "<style scoped>\n",
       "    .dataframe tbody tr th:only-of-type {\n",
       "        vertical-align: middle;\n",
       "    }\n",
       "\n",
       "    .dataframe tbody tr th {\n",
       "        vertical-align: top;\n",
       "    }\n",
       "\n",
       "    .dataframe thead th {\n",
       "        text-align: right;\n",
       "    }\n",
       "</style>\n",
       "<table border=\"1\" class=\"dataframe\">\n",
       "  <thead>\n",
       "    <tr style=\"text-align: right;\">\n",
       "      <th></th>\n",
       "      <th>mean_fit_time</th>\n",
       "      <th>std_fit_time</th>\n",
       "      <th>mean_score_time</th>\n",
       "      <th>std_score_time</th>\n",
       "      <th>param_max_depth</th>\n",
       "      <th>params</th>\n",
       "      <th>split0_test_score</th>\n",
       "      <th>split1_test_score</th>\n",
       "      <th>split2_test_score</th>\n",
       "      <th>split3_test_score</th>\n",
       "      <th>split4_test_score</th>\n",
       "      <th>mean_test_score</th>\n",
       "      <th>std_test_score</th>\n",
       "      <th>rank_test_score</th>\n",
       "    </tr>\n",
       "  </thead>\n",
       "  <tbody>\n",
       "    <tr>\n",
       "      <th>0</th>\n",
       "      <td>0.000630</td>\n",
       "      <td>0.000150</td>\n",
       "      <td>0.000494</td>\n",
       "      <td>0.000063</td>\n",
       "      <td>1</td>\n",
       "      <td>{'max_depth': 1}</td>\n",
       "      <td>0.360216</td>\n",
       "      <td>0.370128</td>\n",
       "      <td>0.389422</td>\n",
       "      <td>0.453142</td>\n",
       "      <td>0.377518</td>\n",
       "      <td>0.390026</td>\n",
       "      <td>0.032934</td>\n",
       "      <td>19</td>\n",
       "    </tr>\n",
       "    <tr>\n",
       "      <th>1</th>\n",
       "      <td>0.000838</td>\n",
       "      <td>0.000017</td>\n",
       "      <td>0.000480</td>\n",
       "      <td>0.000018</td>\n",
       "      <td>2</td>\n",
       "      <td>{'max_depth': 2}</td>\n",
       "      <td>0.645550</td>\n",
       "      <td>0.620976</td>\n",
       "      <td>0.609406</td>\n",
       "      <td>0.747016</td>\n",
       "      <td>0.623256</td>\n",
       "      <td>0.649233</td>\n",
       "      <td>0.050219</td>\n",
       "      <td>18</td>\n",
       "    </tr>\n",
       "    <tr>\n",
       "      <th>2</th>\n",
       "      <td>0.001080</td>\n",
       "      <td>0.000041</td>\n",
       "      <td>0.000493</td>\n",
       "      <td>0.000036</td>\n",
       "      <td>3</td>\n",
       "      <td>{'max_depth': 3}</td>\n",
       "      <td>0.771366</td>\n",
       "      <td>0.716098</td>\n",
       "      <td>0.601952</td>\n",
       "      <td>0.853655</td>\n",
       "      <td>0.621642</td>\n",
       "      <td>0.713058</td>\n",
       "      <td>0.093621</td>\n",
       "      <td>16</td>\n",
       "    </tr>\n",
       "    <tr>\n",
       "      <th>3</th>\n",
       "      <td>0.001405</td>\n",
       "      <td>0.000057</td>\n",
       "      <td>0.000506</td>\n",
       "      <td>0.000064</td>\n",
       "      <td>4</td>\n",
       "      <td>{'max_depth': 4}</td>\n",
       "      <td>0.853448</td>\n",
       "      <td>0.786184</td>\n",
       "      <td>0.599987</td>\n",
       "      <td>0.846817</td>\n",
       "      <td>0.774396</td>\n",
       "      <td>0.772327</td>\n",
       "      <td>0.091661</td>\n",
       "      <td>5</td>\n",
       "    </tr>\n",
       "    <tr>\n",
       "      <th>4</th>\n",
       "      <td>0.001727</td>\n",
       "      <td>0.000031</td>\n",
       "      <td>0.000513</td>\n",
       "      <td>0.000027</td>\n",
       "      <td>5</td>\n",
       "      <td>{'max_depth': 5}</td>\n",
       "      <td>0.722416</td>\n",
       "      <td>0.829302</td>\n",
       "      <td>0.690285</td>\n",
       "      <td>0.792041</td>\n",
       "      <td>0.787800</td>\n",
       "      <td>0.764286</td>\n",
       "      <td>0.050540</td>\n",
       "      <td>7</td>\n",
       "    </tr>\n",
       "    <tr>\n",
       "      <th>5</th>\n",
       "      <td>0.001924</td>\n",
       "      <td>0.000056</td>\n",
       "      <td>0.000488</td>\n",
       "      <td>0.000020</td>\n",
       "      <td>6</td>\n",
       "      <td>{'max_depth': 6}</td>\n",
       "      <td>0.719003</td>\n",
       "      <td>0.827736</td>\n",
       "      <td>0.638608</td>\n",
       "      <td>0.808286</td>\n",
       "      <td>0.664960</td>\n",
       "      <td>0.731693</td>\n",
       "      <td>0.075254</td>\n",
       "      <td>14</td>\n",
       "    </tr>\n",
       "    <tr>\n",
       "      <th>6</th>\n",
       "      <td>0.002320</td>\n",
       "      <td>0.000234</td>\n",
       "      <td>0.000582</td>\n",
       "      <td>0.000151</td>\n",
       "      <td>7</td>\n",
       "      <td>{'max_depth': 7}</td>\n",
       "      <td>0.870232</td>\n",
       "      <td>0.795946</td>\n",
       "      <td>0.684901</td>\n",
       "      <td>0.840804</td>\n",
       "      <td>0.835326</td>\n",
       "      <td>0.805570</td>\n",
       "      <td>0.064748</td>\n",
       "      <td>1</td>\n",
       "    </tr>\n",
       "    <tr>\n",
       "      <th>7</th>\n",
       "      <td>0.002485</td>\n",
       "      <td>0.000097</td>\n",
       "      <td>0.000579</td>\n",
       "      <td>0.000060</td>\n",
       "      <td>8</td>\n",
       "      <td>{'max_depth': 8}</td>\n",
       "      <td>0.872766</td>\n",
       "      <td>0.780609</td>\n",
       "      <td>0.547525</td>\n",
       "      <td>0.822301</td>\n",
       "      <td>0.757801</td>\n",
       "      <td>0.756431</td>\n",
       "      <td>0.111456</td>\n",
       "      <td>8</td>\n",
       "    </tr>\n",
       "    <tr>\n",
       "      <th>8</th>\n",
       "      <td>0.002598</td>\n",
       "      <td>0.000041</td>\n",
       "      <td>0.000522</td>\n",
       "      <td>0.000041</td>\n",
       "      <td>9</td>\n",
       "      <td>{'max_depth': 9}</td>\n",
       "      <td>0.874963</td>\n",
       "      <td>0.777492</td>\n",
       "      <td>0.461662</td>\n",
       "      <td>0.826042</td>\n",
       "      <td>0.807665</td>\n",
       "      <td>0.749813</td>\n",
       "      <td>0.147348</td>\n",
       "      <td>10</td>\n",
       "    </tr>\n",
       "    <tr>\n",
       "      <th>9</th>\n",
       "      <td>0.002725</td>\n",
       "      <td>0.000047</td>\n",
       "      <td>0.000531</td>\n",
       "      <td>0.000058</td>\n",
       "      <td>10</td>\n",
       "      <td>{'max_depth': 10}</td>\n",
       "      <td>0.874459</td>\n",
       "      <td>0.776955</td>\n",
       "      <td>0.674749</td>\n",
       "      <td>0.784692</td>\n",
       "      <td>0.792530</td>\n",
       "      <td>0.780862</td>\n",
       "      <td>0.063613</td>\n",
       "      <td>2</td>\n",
       "    </tr>\n",
       "    <tr>\n",
       "      <th>10</th>\n",
       "      <td>0.002902</td>\n",
       "      <td>0.000052</td>\n",
       "      <td>0.000532</td>\n",
       "      <td>0.000044</td>\n",
       "      <td>11</td>\n",
       "      <td>{'max_depth': 11}</td>\n",
       "      <td>0.876018</td>\n",
       "      <td>0.802634</td>\n",
       "      <td>0.621313</td>\n",
       "      <td>0.786376</td>\n",
       "      <td>0.748152</td>\n",
       "      <td>0.767114</td>\n",
       "      <td>0.083855</td>\n",
       "      <td>6</td>\n",
       "    </tr>\n",
       "    <tr>\n",
       "      <th>11</th>\n",
       "      <td>0.003029</td>\n",
       "      <td>0.000041</td>\n",
       "      <td>0.000491</td>\n",
       "      <td>0.000022</td>\n",
       "      <td>12</td>\n",
       "      <td>{'max_depth': 12}</td>\n",
       "      <td>0.856885</td>\n",
       "      <td>0.789837</td>\n",
       "      <td>0.509561</td>\n",
       "      <td>0.838383</td>\n",
       "      <td>0.745139</td>\n",
       "      <td>0.748176</td>\n",
       "      <td>0.125378</td>\n",
       "      <td>11</td>\n",
       "    </tr>\n",
       "    <tr>\n",
       "      <th>12</th>\n",
       "      <td>0.003186</td>\n",
       "      <td>0.000066</td>\n",
       "      <td>0.000523</td>\n",
       "      <td>0.000046</td>\n",
       "      <td>13</td>\n",
       "      <td>{'max_depth': 13}</td>\n",
       "      <td>0.700314</td>\n",
       "      <td>0.786684</td>\n",
       "      <td>0.528704</td>\n",
       "      <td>0.780091</td>\n",
       "      <td>0.778738</td>\n",
       "      <td>0.714878</td>\n",
       "      <td>0.098251</td>\n",
       "      <td>15</td>\n",
       "    </tr>\n",
       "    <tr>\n",
       "      <th>13</th>\n",
       "      <td>0.003349</td>\n",
       "      <td>0.000164</td>\n",
       "      <td>0.000540</td>\n",
       "      <td>0.000030</td>\n",
       "      <td>14</td>\n",
       "      <td>{'max_depth': 14}</td>\n",
       "      <td>0.865343</td>\n",
       "      <td>0.757479</td>\n",
       "      <td>0.506860</td>\n",
       "      <td>0.793237</td>\n",
       "      <td>0.758142</td>\n",
       "      <td>0.736467</td>\n",
       "      <td>0.121228</td>\n",
       "      <td>13</td>\n",
       "    </tr>\n",
       "    <tr>\n",
       "      <th>14</th>\n",
       "      <td>0.003350</td>\n",
       "      <td>0.000086</td>\n",
       "      <td>0.000542</td>\n",
       "      <td>0.000017</td>\n",
       "      <td>15</td>\n",
       "      <td>{'max_depth': 15}</td>\n",
       "      <td>0.867291</td>\n",
       "      <td>0.780725</td>\n",
       "      <td>0.639759</td>\n",
       "      <td>0.814463</td>\n",
       "      <td>0.584866</td>\n",
       "      <td>0.737677</td>\n",
       "      <td>0.107276</td>\n",
       "      <td>12</td>\n",
       "    </tr>\n",
       "    <tr>\n",
       "      <th>15</th>\n",
       "      <td>0.003496</td>\n",
       "      <td>0.000088</td>\n",
       "      <td>0.000540</td>\n",
       "      <td>0.000053</td>\n",
       "      <td>16</td>\n",
       "      <td>{'max_depth': 16}</td>\n",
       "      <td>0.848249</td>\n",
       "      <td>0.780636</td>\n",
       "      <td>0.680303</td>\n",
       "      <td>0.825290</td>\n",
       "      <td>0.748385</td>\n",
       "      <td>0.776714</td>\n",
       "      <td>0.059339</td>\n",
       "      <td>4</td>\n",
       "    </tr>\n",
       "    <tr>\n",
       "      <th>16</th>\n",
       "      <td>0.003330</td>\n",
       "      <td>0.000126</td>\n",
       "      <td>0.000639</td>\n",
       "      <td>0.000082</td>\n",
       "      <td>17</td>\n",
       "      <td>{'max_depth': 17}</td>\n",
       "      <td>0.688153</td>\n",
       "      <td>0.737196</td>\n",
       "      <td>0.549751</td>\n",
       "      <td>0.822826</td>\n",
       "      <td>0.749762</td>\n",
       "      <td>0.709496</td>\n",
       "      <td>0.090697</td>\n",
       "      <td>17</td>\n",
       "    </tr>\n",
       "    <tr>\n",
       "      <th>17</th>\n",
       "      <td>0.003383</td>\n",
       "      <td>0.000156</td>\n",
       "      <td>0.000543</td>\n",
       "      <td>0.000062</td>\n",
       "      <td>18</td>\n",
       "      <td>{'max_depth': 18}</td>\n",
       "      <td>0.856572</td>\n",
       "      <td>0.782752</td>\n",
       "      <td>0.513513</td>\n",
       "      <td>0.829058</td>\n",
       "      <td>0.774472</td>\n",
       "      <td>0.751481</td>\n",
       "      <td>0.122603</td>\n",
       "      <td>9</td>\n",
       "    </tr>\n",
       "    <tr>\n",
       "      <th>18</th>\n",
       "      <td>0.003302</td>\n",
       "      <td>0.000099</td>\n",
       "      <td>0.000493</td>\n",
       "      <td>0.000019</td>\n",
       "      <td>19</td>\n",
       "      <td>{'max_depth': 19}</td>\n",
       "      <td>0.845391</td>\n",
       "      <td>0.797659</td>\n",
       "      <td>0.615545</td>\n",
       "      <td>0.833084</td>\n",
       "      <td>0.799815</td>\n",
       "      <td>0.778432</td>\n",
       "      <td>0.083432</td>\n",
       "      <td>3</td>\n",
       "    </tr>\n",
       "  </tbody>\n",
       "</table>\n",
       "</div>"
      ],
      "text/plain": [
       "    mean_fit_time  std_fit_time  mean_score_time  std_score_time  \\\n",
       "0        0.000630      0.000150         0.000494        0.000063   \n",
       "1        0.000838      0.000017         0.000480        0.000018   \n",
       "2        0.001080      0.000041         0.000493        0.000036   \n",
       "3        0.001405      0.000057         0.000506        0.000064   \n",
       "4        0.001727      0.000031         0.000513        0.000027   \n",
       "5        0.001924      0.000056         0.000488        0.000020   \n",
       "6        0.002320      0.000234         0.000582        0.000151   \n",
       "7        0.002485      0.000097         0.000579        0.000060   \n",
       "8        0.002598      0.000041         0.000522        0.000041   \n",
       "9        0.002725      0.000047         0.000531        0.000058   \n",
       "10       0.002902      0.000052         0.000532        0.000044   \n",
       "11       0.003029      0.000041         0.000491        0.000022   \n",
       "12       0.003186      0.000066         0.000523        0.000046   \n",
       "13       0.003349      0.000164         0.000540        0.000030   \n",
       "14       0.003350      0.000086         0.000542        0.000017   \n",
       "15       0.003496      0.000088         0.000540        0.000053   \n",
       "16       0.003330      0.000126         0.000639        0.000082   \n",
       "17       0.003383      0.000156         0.000543        0.000062   \n",
       "18       0.003302      0.000099         0.000493        0.000019   \n",
       "\n",
       "   param_max_depth             params  split0_test_score  split1_test_score  \\\n",
       "0                1   {'max_depth': 1}           0.360216           0.370128   \n",
       "1                2   {'max_depth': 2}           0.645550           0.620976   \n",
       "2                3   {'max_depth': 3}           0.771366           0.716098   \n",
       "3                4   {'max_depth': 4}           0.853448           0.786184   \n",
       "4                5   {'max_depth': 5}           0.722416           0.829302   \n",
       "5                6   {'max_depth': 6}           0.719003           0.827736   \n",
       "6                7   {'max_depth': 7}           0.870232           0.795946   \n",
       "7                8   {'max_depth': 8}           0.872766           0.780609   \n",
       "8                9   {'max_depth': 9}           0.874963           0.777492   \n",
       "9               10  {'max_depth': 10}           0.874459           0.776955   \n",
       "10              11  {'max_depth': 11}           0.876018           0.802634   \n",
       "11              12  {'max_depth': 12}           0.856885           0.789837   \n",
       "12              13  {'max_depth': 13}           0.700314           0.786684   \n",
       "13              14  {'max_depth': 14}           0.865343           0.757479   \n",
       "14              15  {'max_depth': 15}           0.867291           0.780725   \n",
       "15              16  {'max_depth': 16}           0.848249           0.780636   \n",
       "16              17  {'max_depth': 17}           0.688153           0.737196   \n",
       "17              18  {'max_depth': 18}           0.856572           0.782752   \n",
       "18              19  {'max_depth': 19}           0.845391           0.797659   \n",
       "\n",
       "    split2_test_score  split3_test_score  split4_test_score  mean_test_score  \\\n",
       "0            0.389422           0.453142           0.377518         0.390026   \n",
       "1            0.609406           0.747016           0.623256         0.649233   \n",
       "2            0.601952           0.853655           0.621642         0.713058   \n",
       "3            0.599987           0.846817           0.774396         0.772327   \n",
       "4            0.690285           0.792041           0.787800         0.764286   \n",
       "5            0.638608           0.808286           0.664960         0.731693   \n",
       "6            0.684901           0.840804           0.835326         0.805570   \n",
       "7            0.547525           0.822301           0.757801         0.756431   \n",
       "8            0.461662           0.826042           0.807665         0.749813   \n",
       "9            0.674749           0.784692           0.792530         0.780862   \n",
       "10           0.621313           0.786376           0.748152         0.767114   \n",
       "11           0.509561           0.838383           0.745139         0.748176   \n",
       "12           0.528704           0.780091           0.778738         0.714878   \n",
       "13           0.506860           0.793237           0.758142         0.736467   \n",
       "14           0.639759           0.814463           0.584866         0.737677   \n",
       "15           0.680303           0.825290           0.748385         0.776714   \n",
       "16           0.549751           0.822826           0.749762         0.709496   \n",
       "17           0.513513           0.829058           0.774472         0.751481   \n",
       "18           0.615545           0.833084           0.799815         0.778432   \n",
       "\n",
       "    std_test_score  rank_test_score  \n",
       "0         0.032934               19  \n",
       "1         0.050219               18  \n",
       "2         0.093621               16  \n",
       "3         0.091661                5  \n",
       "4         0.050540                7  \n",
       "5         0.075254               14  \n",
       "6         0.064748                1  \n",
       "7         0.111456                8  \n",
       "8         0.147348               10  \n",
       "9         0.063613                2  \n",
       "10        0.083855                6  \n",
       "11        0.125378               11  \n",
       "12        0.098251               15  \n",
       "13        0.121228               13  \n",
       "14        0.107276               12  \n",
       "15        0.059339                4  \n",
       "16        0.090697               17  \n",
       "17        0.122603                9  \n",
       "18        0.083432                3  "
      ]
     },
     "execution_count": 20,
     "metadata": {},
     "output_type": "execute_result"
    }
   ],
   "source": [
    "cv_df"
   ]
  },
  {
   "cell_type": "code",
   "execution_count": 22,
   "metadata": {},
   "outputs": [
    {
     "data": {
      "text/html": [
       "<div>\n",
       "<style scoped>\n",
       "    .dataframe tbody tr th:only-of-type {\n",
       "        vertical-align: middle;\n",
       "    }\n",
       "\n",
       "    .dataframe tbody tr th {\n",
       "        vertical-align: top;\n",
       "    }\n",
       "\n",
       "    .dataframe thead th {\n",
       "        text-align: right;\n",
       "    }\n",
       "</style>\n",
       "<table border=\"1\" class=\"dataframe\">\n",
       "  <thead>\n",
       "    <tr style=\"text-align: right;\">\n",
       "      <th></th>\n",
       "      <th>mean_fit_time</th>\n",
       "      <th>std_fit_time</th>\n",
       "      <th>mean_score_time</th>\n",
       "      <th>std_score_time</th>\n",
       "      <th>param_max_depth</th>\n",
       "      <th>params</th>\n",
       "      <th>split0_test_score</th>\n",
       "      <th>split1_test_score</th>\n",
       "      <th>split2_test_score</th>\n",
       "      <th>split3_test_score</th>\n",
       "      <th>split4_test_score</th>\n",
       "      <th>mean_test_score</th>\n",
       "      <th>std_test_score</th>\n",
       "      <th>rank_test_score</th>\n",
       "    </tr>\n",
       "  </thead>\n",
       "  <tbody>\n",
       "    <tr>\n",
       "      <th>6</th>\n",
       "      <td>0.002320</td>\n",
       "      <td>0.000234</td>\n",
       "      <td>0.000582</td>\n",
       "      <td>0.000151</td>\n",
       "      <td>7</td>\n",
       "      <td>{'max_depth': 7}</td>\n",
       "      <td>0.870232</td>\n",
       "      <td>0.795946</td>\n",
       "      <td>0.684901</td>\n",
       "      <td>0.840804</td>\n",
       "      <td>0.835326</td>\n",
       "      <td>0.805570</td>\n",
       "      <td>0.064748</td>\n",
       "      <td>1</td>\n",
       "    </tr>\n",
       "    <tr>\n",
       "      <th>9</th>\n",
       "      <td>0.002725</td>\n",
       "      <td>0.000047</td>\n",
       "      <td>0.000531</td>\n",
       "      <td>0.000058</td>\n",
       "      <td>10</td>\n",
       "      <td>{'max_depth': 10}</td>\n",
       "      <td>0.874459</td>\n",
       "      <td>0.776955</td>\n",
       "      <td>0.674749</td>\n",
       "      <td>0.784692</td>\n",
       "      <td>0.792530</td>\n",
       "      <td>0.780862</td>\n",
       "      <td>0.063613</td>\n",
       "      <td>2</td>\n",
       "    </tr>\n",
       "    <tr>\n",
       "      <th>18</th>\n",
       "      <td>0.003302</td>\n",
       "      <td>0.000099</td>\n",
       "      <td>0.000493</td>\n",
       "      <td>0.000019</td>\n",
       "      <td>19</td>\n",
       "      <td>{'max_depth': 19}</td>\n",
       "      <td>0.845391</td>\n",
       "      <td>0.797659</td>\n",
       "      <td>0.615545</td>\n",
       "      <td>0.833084</td>\n",
       "      <td>0.799815</td>\n",
       "      <td>0.778432</td>\n",
       "      <td>0.083432</td>\n",
       "      <td>3</td>\n",
       "    </tr>\n",
       "    <tr>\n",
       "      <th>15</th>\n",
       "      <td>0.003496</td>\n",
       "      <td>0.000088</td>\n",
       "      <td>0.000540</td>\n",
       "      <td>0.000053</td>\n",
       "      <td>16</td>\n",
       "      <td>{'max_depth': 16}</td>\n",
       "      <td>0.848249</td>\n",
       "      <td>0.780636</td>\n",
       "      <td>0.680303</td>\n",
       "      <td>0.825290</td>\n",
       "      <td>0.748385</td>\n",
       "      <td>0.776714</td>\n",
       "      <td>0.059339</td>\n",
       "      <td>4</td>\n",
       "    </tr>\n",
       "    <tr>\n",
       "      <th>3</th>\n",
       "      <td>0.001405</td>\n",
       "      <td>0.000057</td>\n",
       "      <td>0.000506</td>\n",
       "      <td>0.000064</td>\n",
       "      <td>4</td>\n",
       "      <td>{'max_depth': 4}</td>\n",
       "      <td>0.853448</td>\n",
       "      <td>0.786184</td>\n",
       "      <td>0.599987</td>\n",
       "      <td>0.846817</td>\n",
       "      <td>0.774396</td>\n",
       "      <td>0.772327</td>\n",
       "      <td>0.091661</td>\n",
       "      <td>5</td>\n",
       "    </tr>\n",
       "    <tr>\n",
       "      <th>10</th>\n",
       "      <td>0.002902</td>\n",
       "      <td>0.000052</td>\n",
       "      <td>0.000532</td>\n",
       "      <td>0.000044</td>\n",
       "      <td>11</td>\n",
       "      <td>{'max_depth': 11}</td>\n",
       "      <td>0.876018</td>\n",
       "      <td>0.802634</td>\n",
       "      <td>0.621313</td>\n",
       "      <td>0.786376</td>\n",
       "      <td>0.748152</td>\n",
       "      <td>0.767114</td>\n",
       "      <td>0.083855</td>\n",
       "      <td>6</td>\n",
       "    </tr>\n",
       "    <tr>\n",
       "      <th>4</th>\n",
       "      <td>0.001727</td>\n",
       "      <td>0.000031</td>\n",
       "      <td>0.000513</td>\n",
       "      <td>0.000027</td>\n",
       "      <td>5</td>\n",
       "      <td>{'max_depth': 5}</td>\n",
       "      <td>0.722416</td>\n",
       "      <td>0.829302</td>\n",
       "      <td>0.690285</td>\n",
       "      <td>0.792041</td>\n",
       "      <td>0.787800</td>\n",
       "      <td>0.764286</td>\n",
       "      <td>0.050540</td>\n",
       "      <td>7</td>\n",
       "    </tr>\n",
       "    <tr>\n",
       "      <th>7</th>\n",
       "      <td>0.002485</td>\n",
       "      <td>0.000097</td>\n",
       "      <td>0.000579</td>\n",
       "      <td>0.000060</td>\n",
       "      <td>8</td>\n",
       "      <td>{'max_depth': 8}</td>\n",
       "      <td>0.872766</td>\n",
       "      <td>0.780609</td>\n",
       "      <td>0.547525</td>\n",
       "      <td>0.822301</td>\n",
       "      <td>0.757801</td>\n",
       "      <td>0.756431</td>\n",
       "      <td>0.111456</td>\n",
       "      <td>8</td>\n",
       "    </tr>\n",
       "    <tr>\n",
       "      <th>17</th>\n",
       "      <td>0.003383</td>\n",
       "      <td>0.000156</td>\n",
       "      <td>0.000543</td>\n",
       "      <td>0.000062</td>\n",
       "      <td>18</td>\n",
       "      <td>{'max_depth': 18}</td>\n",
       "      <td>0.856572</td>\n",
       "      <td>0.782752</td>\n",
       "      <td>0.513513</td>\n",
       "      <td>0.829058</td>\n",
       "      <td>0.774472</td>\n",
       "      <td>0.751481</td>\n",
       "      <td>0.122603</td>\n",
       "      <td>9</td>\n",
       "    </tr>\n",
       "    <tr>\n",
       "      <th>8</th>\n",
       "      <td>0.002598</td>\n",
       "      <td>0.000041</td>\n",
       "      <td>0.000522</td>\n",
       "      <td>0.000041</td>\n",
       "      <td>9</td>\n",
       "      <td>{'max_depth': 9}</td>\n",
       "      <td>0.874963</td>\n",
       "      <td>0.777492</td>\n",
       "      <td>0.461662</td>\n",
       "      <td>0.826042</td>\n",
       "      <td>0.807665</td>\n",
       "      <td>0.749813</td>\n",
       "      <td>0.147348</td>\n",
       "      <td>10</td>\n",
       "    </tr>\n",
       "    <tr>\n",
       "      <th>11</th>\n",
       "      <td>0.003029</td>\n",
       "      <td>0.000041</td>\n",
       "      <td>0.000491</td>\n",
       "      <td>0.000022</td>\n",
       "      <td>12</td>\n",
       "      <td>{'max_depth': 12}</td>\n",
       "      <td>0.856885</td>\n",
       "      <td>0.789837</td>\n",
       "      <td>0.509561</td>\n",
       "      <td>0.838383</td>\n",
       "      <td>0.745139</td>\n",
       "      <td>0.748176</td>\n",
       "      <td>0.125378</td>\n",
       "      <td>11</td>\n",
       "    </tr>\n",
       "    <tr>\n",
       "      <th>14</th>\n",
       "      <td>0.003350</td>\n",
       "      <td>0.000086</td>\n",
       "      <td>0.000542</td>\n",
       "      <td>0.000017</td>\n",
       "      <td>15</td>\n",
       "      <td>{'max_depth': 15}</td>\n",
       "      <td>0.867291</td>\n",
       "      <td>0.780725</td>\n",
       "      <td>0.639759</td>\n",
       "      <td>0.814463</td>\n",
       "      <td>0.584866</td>\n",
       "      <td>0.737677</td>\n",
       "      <td>0.107276</td>\n",
       "      <td>12</td>\n",
       "    </tr>\n",
       "    <tr>\n",
       "      <th>13</th>\n",
       "      <td>0.003349</td>\n",
       "      <td>0.000164</td>\n",
       "      <td>0.000540</td>\n",
       "      <td>0.000030</td>\n",
       "      <td>14</td>\n",
       "      <td>{'max_depth': 14}</td>\n",
       "      <td>0.865343</td>\n",
       "      <td>0.757479</td>\n",
       "      <td>0.506860</td>\n",
       "      <td>0.793237</td>\n",
       "      <td>0.758142</td>\n",
       "      <td>0.736467</td>\n",
       "      <td>0.121228</td>\n",
       "      <td>13</td>\n",
       "    </tr>\n",
       "    <tr>\n",
       "      <th>5</th>\n",
       "      <td>0.001924</td>\n",
       "      <td>0.000056</td>\n",
       "      <td>0.000488</td>\n",
       "      <td>0.000020</td>\n",
       "      <td>6</td>\n",
       "      <td>{'max_depth': 6}</td>\n",
       "      <td>0.719003</td>\n",
       "      <td>0.827736</td>\n",
       "      <td>0.638608</td>\n",
       "      <td>0.808286</td>\n",
       "      <td>0.664960</td>\n",
       "      <td>0.731693</td>\n",
       "      <td>0.075254</td>\n",
       "      <td>14</td>\n",
       "    </tr>\n",
       "    <tr>\n",
       "      <th>12</th>\n",
       "      <td>0.003186</td>\n",
       "      <td>0.000066</td>\n",
       "      <td>0.000523</td>\n",
       "      <td>0.000046</td>\n",
       "      <td>13</td>\n",
       "      <td>{'max_depth': 13}</td>\n",
       "      <td>0.700314</td>\n",
       "      <td>0.786684</td>\n",
       "      <td>0.528704</td>\n",
       "      <td>0.780091</td>\n",
       "      <td>0.778738</td>\n",
       "      <td>0.714878</td>\n",
       "      <td>0.098251</td>\n",
       "      <td>15</td>\n",
       "    </tr>\n",
       "    <tr>\n",
       "      <th>2</th>\n",
       "      <td>0.001080</td>\n",
       "      <td>0.000041</td>\n",
       "      <td>0.000493</td>\n",
       "      <td>0.000036</td>\n",
       "      <td>3</td>\n",
       "      <td>{'max_depth': 3}</td>\n",
       "      <td>0.771366</td>\n",
       "      <td>0.716098</td>\n",
       "      <td>0.601952</td>\n",
       "      <td>0.853655</td>\n",
       "      <td>0.621642</td>\n",
       "      <td>0.713058</td>\n",
       "      <td>0.093621</td>\n",
       "      <td>16</td>\n",
       "    </tr>\n",
       "    <tr>\n",
       "      <th>16</th>\n",
       "      <td>0.003330</td>\n",
       "      <td>0.000126</td>\n",
       "      <td>0.000639</td>\n",
       "      <td>0.000082</td>\n",
       "      <td>17</td>\n",
       "      <td>{'max_depth': 17}</td>\n",
       "      <td>0.688153</td>\n",
       "      <td>0.737196</td>\n",
       "      <td>0.549751</td>\n",
       "      <td>0.822826</td>\n",
       "      <td>0.749762</td>\n",
       "      <td>0.709496</td>\n",
       "      <td>0.090697</td>\n",
       "      <td>17</td>\n",
       "    </tr>\n",
       "    <tr>\n",
       "      <th>1</th>\n",
       "      <td>0.000838</td>\n",
       "      <td>0.000017</td>\n",
       "      <td>0.000480</td>\n",
       "      <td>0.000018</td>\n",
       "      <td>2</td>\n",
       "      <td>{'max_depth': 2}</td>\n",
       "      <td>0.645550</td>\n",
       "      <td>0.620976</td>\n",
       "      <td>0.609406</td>\n",
       "      <td>0.747016</td>\n",
       "      <td>0.623256</td>\n",
       "      <td>0.649233</td>\n",
       "      <td>0.050219</td>\n",
       "      <td>18</td>\n",
       "    </tr>\n",
       "    <tr>\n",
       "      <th>0</th>\n",
       "      <td>0.000630</td>\n",
       "      <td>0.000150</td>\n",
       "      <td>0.000494</td>\n",
       "      <td>0.000063</td>\n",
       "      <td>1</td>\n",
       "      <td>{'max_depth': 1}</td>\n",
       "      <td>0.360216</td>\n",
       "      <td>0.370128</td>\n",
       "      <td>0.389422</td>\n",
       "      <td>0.453142</td>\n",
       "      <td>0.377518</td>\n",
       "      <td>0.390026</td>\n",
       "      <td>0.032934</td>\n",
       "      <td>19</td>\n",
       "    </tr>\n",
       "  </tbody>\n",
       "</table>\n",
       "</div>"
      ],
      "text/plain": [
       "    mean_fit_time  std_fit_time  mean_score_time  std_score_time  \\\n",
       "6        0.002320      0.000234         0.000582        0.000151   \n",
       "9        0.002725      0.000047         0.000531        0.000058   \n",
       "18       0.003302      0.000099         0.000493        0.000019   \n",
       "15       0.003496      0.000088         0.000540        0.000053   \n",
       "3        0.001405      0.000057         0.000506        0.000064   \n",
       "10       0.002902      0.000052         0.000532        0.000044   \n",
       "4        0.001727      0.000031         0.000513        0.000027   \n",
       "7        0.002485      0.000097         0.000579        0.000060   \n",
       "17       0.003383      0.000156         0.000543        0.000062   \n",
       "8        0.002598      0.000041         0.000522        0.000041   \n",
       "11       0.003029      0.000041         0.000491        0.000022   \n",
       "14       0.003350      0.000086         0.000542        0.000017   \n",
       "13       0.003349      0.000164         0.000540        0.000030   \n",
       "5        0.001924      0.000056         0.000488        0.000020   \n",
       "12       0.003186      0.000066         0.000523        0.000046   \n",
       "2        0.001080      0.000041         0.000493        0.000036   \n",
       "16       0.003330      0.000126         0.000639        0.000082   \n",
       "1        0.000838      0.000017         0.000480        0.000018   \n",
       "0        0.000630      0.000150         0.000494        0.000063   \n",
       "\n",
       "   param_max_depth             params  split0_test_score  split1_test_score  \\\n",
       "6                7   {'max_depth': 7}           0.870232           0.795946   \n",
       "9               10  {'max_depth': 10}           0.874459           0.776955   \n",
       "18              19  {'max_depth': 19}           0.845391           0.797659   \n",
       "15              16  {'max_depth': 16}           0.848249           0.780636   \n",
       "3                4   {'max_depth': 4}           0.853448           0.786184   \n",
       "10              11  {'max_depth': 11}           0.876018           0.802634   \n",
       "4                5   {'max_depth': 5}           0.722416           0.829302   \n",
       "7                8   {'max_depth': 8}           0.872766           0.780609   \n",
       "17              18  {'max_depth': 18}           0.856572           0.782752   \n",
       "8                9   {'max_depth': 9}           0.874963           0.777492   \n",
       "11              12  {'max_depth': 12}           0.856885           0.789837   \n",
       "14              15  {'max_depth': 15}           0.867291           0.780725   \n",
       "13              14  {'max_depth': 14}           0.865343           0.757479   \n",
       "5                6   {'max_depth': 6}           0.719003           0.827736   \n",
       "12              13  {'max_depth': 13}           0.700314           0.786684   \n",
       "2                3   {'max_depth': 3}           0.771366           0.716098   \n",
       "16              17  {'max_depth': 17}           0.688153           0.737196   \n",
       "1                2   {'max_depth': 2}           0.645550           0.620976   \n",
       "0                1   {'max_depth': 1}           0.360216           0.370128   \n",
       "\n",
       "    split2_test_score  split3_test_score  split4_test_score  mean_test_score  \\\n",
       "6            0.684901           0.840804           0.835326         0.805570   \n",
       "9            0.674749           0.784692           0.792530         0.780862   \n",
       "18           0.615545           0.833084           0.799815         0.778432   \n",
       "15           0.680303           0.825290           0.748385         0.776714   \n",
       "3            0.599987           0.846817           0.774396         0.772327   \n",
       "10           0.621313           0.786376           0.748152         0.767114   \n",
       "4            0.690285           0.792041           0.787800         0.764286   \n",
       "7            0.547525           0.822301           0.757801         0.756431   \n",
       "17           0.513513           0.829058           0.774472         0.751481   \n",
       "8            0.461662           0.826042           0.807665         0.749813   \n",
       "11           0.509561           0.838383           0.745139         0.748176   \n",
       "14           0.639759           0.814463           0.584866         0.737677   \n",
       "13           0.506860           0.793237           0.758142         0.736467   \n",
       "5            0.638608           0.808286           0.664960         0.731693   \n",
       "12           0.528704           0.780091           0.778738         0.714878   \n",
       "2            0.601952           0.853655           0.621642         0.713058   \n",
       "16           0.549751           0.822826           0.749762         0.709496   \n",
       "1            0.609406           0.747016           0.623256         0.649233   \n",
       "0            0.389422           0.453142           0.377518         0.390026   \n",
       "\n",
       "    std_test_score  rank_test_score  \n",
       "6         0.064748                1  \n",
       "9         0.063613                2  \n",
       "18        0.083432                3  \n",
       "15        0.059339                4  \n",
       "3         0.091661                5  \n",
       "10        0.083855                6  \n",
       "4         0.050540                7  \n",
       "7         0.111456                8  \n",
       "17        0.122603                9  \n",
       "8         0.147348               10  \n",
       "11        0.125378               11  \n",
       "14        0.107276               12  \n",
       "13        0.121228               13  \n",
       "5         0.075254               14  \n",
       "12        0.098251               15  \n",
       "2         0.093621               16  \n",
       "16        0.090697               17  \n",
       "1         0.050219               18  \n",
       "0         0.032934               19  "
      ]
     },
     "execution_count": 22,
     "metadata": {},
     "output_type": "execute_result"
    }
   ],
   "source": [
    "cv_df.sort_values(\"rank_test_score\", ascending=True)"
   ]
  },
  {
   "cell_type": "code",
   "execution_count": 28,
   "metadata": {},
   "outputs": [],
   "source": [
    "import joblib "
   ]
  },
  {
   "cell_type": "code",
   "execution_count": 33,
   "metadata": {},
   "outputs": [
    {
     "name": "stdout",
     "output_type": "stream",
     "text": [
      "Python 3.7.3\n"
     ]
    }
   ],
   "source": [
    "joblib.__version__\n",
    "!python --version"
   ]
  },
  {
   "cell_type": "code",
   "execution_count": 34,
   "metadata": {},
   "outputs": [
    {
     "ename": "TypeError",
     "evalue": "file must have a 'write' attribute",
     "output_type": "error",
     "traceback": [
      "\u001b[0;31m---------------------------------------------------------------------------\u001b[0m",
      "\u001b[0;31mTypeError\u001b[0m                                 Traceback (most recent call last)",
      "\u001b[0;32m<ipython-input-34-744c8bc9b58f>\u001b[0m in \u001b[0;36m<module>\u001b[0;34m\u001b[0m\n\u001b[1;32m      1\u001b[0m \u001b[0;32mimport\u001b[0m \u001b[0mpickle\u001b[0m\u001b[0;34m\u001b[0m\u001b[0;34m\u001b[0m\u001b[0m\n\u001b[0;32m----> 2\u001b[0;31m \u001b[0mpickle\u001b[0m\u001b[0;34m.\u001b[0m\u001b[0mdump\u001b[0m\u001b[0;34m(\u001b[0m\u001b[0mgscv\u001b[0m\u001b[0;34m,\u001b[0m \u001b[0;34m\"2019-11-06_dt-gscv_py3-7-4_joblib0-13-2.pickle\"\u001b[0m\u001b[0;34m)\u001b[0m \u001b[0;31m#.joblib also works to with\u001b[0m\u001b[0;34m\u001b[0m\u001b[0;34m\u001b[0m\u001b[0m\n\u001b[0m\u001b[1;32m      3\u001b[0m \u001b[0;34m\u001b[0m\u001b[0m\n\u001b[1;32m      4\u001b[0m \u001b[0;31m#gets a ser3ialized file has to be read in\u001b[0m\u001b[0;34m\u001b[0m\u001b[0;34m\u001b[0m\u001b[0;34m\u001b[0m\u001b[0m\n",
      "\u001b[0;31mTypeError\u001b[0m: file must have a 'write' attribute"
     ]
    }
   ],
   "source": [
    "import pickle \n",
    "pickle.dump(gscv, \"2019-11-06_dt-gscv_py3-7-4_joblib0-13-2.pickle\") #.joblib also works to with \n",
    "\n",
    "#gets a ser3ialized file has to be read in "
   ]
  },
  {
   "cell_type": "code",
   "execution_count": 35,
   "metadata": {},
   "outputs": [
    {
     "data": {
      "text/plain": [
       "['2019-11-06_dt-gscv.pickle']"
      ]
     },
     "execution_count": 35,
     "metadata": {},
     "output_type": "execute_result"
    }
   ],
   "source": [
    "joblib.dump(gscv, \"2019-11-06_dt-gscv.pickle\")#save training models, allows you to save a scikit learn object\n",
    "#the scikitlearn data frames they store the data they were trained on \n",
    "#for ex knn, "
   ]
  },
  {
   "cell_type": "code",
   "execution_count": 37,
   "metadata": {},
   "outputs": [],
   "source": [
    "gscv= joblib.load(\"2019-11-06_dt-gscv.pickle\") #read in the model "
   ]
  },
  {
   "cell_type": "code",
   "execution_count": null,
   "metadata": {},
   "outputs": [],
   "source": [
    "cv_df.to"
   ]
  },
  {
   "cell_type": "code",
   "execution_count": 11,
   "metadata": {},
   "outputs": [
    {
     "data": {
      "text/plain": [
       "KNeighborsRegressor(algorithm='auto', leaf_size=30, metric='minkowski',\n",
       "                    metric_params=None, n_jobs=None, n_neighbors=2, p=2,\n",
       "                    weights='uniform')"
      ]
     },
     "execution_count": 11,
     "metadata": {},
     "output_type": "execute_result"
    }
   ],
   "source": [
    "gscv.best_estimator_"
   ]
  },
  {
   "cell_type": "markdown",
   "metadata": {},
   "source": [
    "searching for the optimal k \n"
   ]
  },
  {
   "cell_type": "code",
   "execution_count": null,
   "metadata": {},
   "outputs": [],
   "source": [
    "\n",
    "from sklearn.model_selection import KFold, GridSearchCV\n",
    "from sklearn.neighbors import KNeighborsRegressor\n",
    "from sklearn.preprocessing import StandardScaler\n",
    "\n",
    "# Scaling\n",
    "sc = StandardScaler()\n",
    "X_scaled = sc.fit_transform(X)\n",
    "# Create kf instance \n",
    "kf = KFold(n_splits=5, shuffle=True, random_state=42)\n",
    "# Create knn instance \n",
    "knn = KNeighborsClassifier()\n",
    "# Create grid search instance \n",
    "gscv = GridSearchCV(knn, {\"n_neighbors\": range(1, 52)}, cv=kf, n_jobs=-1)\n",
    "gscv.fit(X_scaled, y)\n",
    "# Get cross-validation data\n",
    "cv_df = pd.DataFrame(gscv.cv_results_)\n",
    "# Get plot data\n",
    "plot_df = cv_df.loc[:, [\"param_n_neighbors\", \"mean_test_score\"]]# score across all 5folds \n",
    "# Get k values versus mean_test_scores, plot the line that's like ane lbow plot, we want the highest score \n",
    "plot_df.plot.line(x=\"param_n_neighbors\", y=\"mean_test_score\");"
   ]
  },
  {
   "cell_type": "markdown",
   "metadata": {},
   "source": [
    "cross validation - trai test split multiple times \n",
    "\n",
    "we can take a portion of our data for training and the rest is for testing \n",
    "\n",
    "5 fold cross validation (k fold cross validation) \n",
    "\n",
    "leave 1 out cross validation - train on all but 1 observation and use observation to test \n",
    "having the number of folds =n # of observations \n",
    "\n",
    "5 is usually sufficient \n",
    "\n",
    "eval how well they're perfoming \n",
    "\n",
    "grid search allows you to check a lot of parameters \n",
    "\n",
    "ig you have a lot of hyper parameters means more to test \n",
    "\n",
    "grid search -tests each single combo of hyper parameters "
   ]
  },
  {
   "cell_type": "code",
   "execution_count": 156,
   "metadata": {},
   "outputs": [
    {
     "data": {
      "text/plain": [
       "25.001178022067204"
      ]
     },
     "execution_count": 156,
     "metadata": {},
     "output_type": "execute_result"
    }
   ],
   "source": [
    "from sklearn.tree import DecisionTreeRegressor\n",
    "\n",
    "# Fit regression model\n",
    "dtr = DecisionTreeRegressor(max_depth=5)\n",
    "\n",
    "# Fit\n",
    "dtr.fit(X_train, y_train)\n",
    "\n",
    "# Predict\n",
    "y_predicted = dtr.predict(X_test)\n",
    "\n",
    "# Test\n",
    "mean_squared_error(y_test, y_predicted)"
   ]
  },
  {
   "cell_type": "markdown",
   "metadata": {},
   "source": [
    "how deep we wanna grow our tree \n",
    "\n",
    "basically draws until classification have the majortity class in a diff class be the partition \n",
    "\n",
    "regression - looks in partion and average all samples within that partition  \n",
    "\n",
    "the # of splits is the depth, how deep we grow our tree \n",
    "roots on top, termial nodes are the leaves \n",
    "we take the average of the pointd (.87) and this is the prediction, when these 2 rules are fulfilled \n",
    "\n",
    "the split that gives us the best averages with the least error \n",
    "\n",
    "looks at all splits for the parameters and see what splits results in the lowest loss\n",
    "then cont making steps until we tell it to stop \n",
    "\n",
    "for ex 5 max= 5 splits and thats it otherwise makes splits untikl eqchb observation has its onw node - fully grown tree this would be overfitting the datav "
   ]
  },
  {
   "cell_type": "markdown",
   "metadata": {},
   "source": [
    "### Ensemble methods\n",
    "\n",
    "collection of weak (poor performing) models makes a strong and robust model"
   ]
  },
  {
   "cell_type": "markdown",
   "metadata": {},
   "source": [
    "### Ensemble methods: bagging - Random Forest\n",
    "\n",
    "![](https://dsc-spidal.github.io/harp/img/4-5-1.png)\n",
    "\n",
    "Features:\n",
    "    - sampling of training examples with replacement\n",
    "    - subsampling the features\n",
    "    - shallow trees"
   ]
  },
  {
   "cell_type": "code",
   "execution_count": null,
   "metadata": {},
   "outputs": [],
   "source": [
    "from sklearn.model_selection import KFold, GridSearchCV\n",
    "from sklearn.ensemble import RandomForestRegressor\n",
    "from sklearn.preprocessing import StandardScaler\n",
    "\n",
    "# Scaling\n",
    "sc = StandardScaler()\n",
    "X_scaled = sc.fit_transform(X)\n",
    "# Create kf instance \n",
    "kf = KFold(n_splits=5, shuffle=True, random_state=42)\n",
    "# Create rf instance \n",
    "rf = RandomForestRegressor()\n",
    "# Create grid search instance \n",
    "#gscv = GridSearchCV(dt, {\"max_depth\": range(1, 200)}, cv=kf, n_jobs=-1)#we don't wanna grow the tree this much \n",
    "gscv = GridSearchCV(rt, \n",
    "                    {\"max_depth\": range(1, 20), \"n_estimators\": range(2,20)},\n",
    "                    cv=kf, n_jobs=-1)\n",
    "gscv.fit(X_scaled, y)\n",
    "# Get cross-validation data\n",
    "cv_df = pd.DataFrame(gscv.cv_results_)\n",
    "# Get k values versus mean_test_scores\n",
    "cv_df.plot.line(x=\"param_max_depth\", y=\"mean_test_score\");"
   ]
  },
  {
   "cell_type": "markdown",
   "metadata": {},
   "source": [
    "a whole bunch of decisionm trees\n",
    "\n",
    "the random- each tree gets a random subset of data and features\n",
    "\n",
    "in the end we put them togethet to give a final answer \n",
    "\n",
    "bootstrapping- sampling with replacement - a bag of marbles diff colors, pull them out then put them back and replace then repeat \n",
    "a parallel between this and cross validation \n",
    "\n",
    "each decsion tre gets sample of all observations with replacement \n",
    "the features are samples that are picked \n",
    "we generally use pretty shallow trees "
   ]
  },
  {
   "cell_type": "code",
   "execution_count": 160,
   "metadata": {},
   "outputs": [
    {
     "name": "stderr",
     "output_type": "stream",
     "text": [
      "/Users/agoncear/anaconda/envs/jupyter/lib/python3.7/site-packages/sklearn/ensemble/forest.py:248: FutureWarning: The default value of n_estimators will change from 10 in version 0.20 to 100 in 0.22.\n",
      "  \"10 in version 0.20 to 100 in 0.22.\", FutureWarning)\n"
     ]
    },
    {
     "data": {
      "text/plain": [
       "17.918512295081968"
      ]
     },
     "execution_count": 160,
     "metadata": {},
     "output_type": "execute_result"
    }
   ],
   "source": [
    "from sklearn.ensemble import RandomForestRegressor\n",
    "DecisionTreeRegressor\n",
    "KNeighborsRegressor \n",
    "rf = RandomForestRegressor()\n",
    "\n",
    "# Fit \n",
    "rf.fit(X_train, y_train)\n",
    "\n",
    "# Predictions \n",
    "y_predicted = rf.predict(X_test)\n",
    "\n",
    "# Test these predictions \n",
    "mean_squared_error(y_test, y_predicted)\n",
    "\n",
    "np.sqrt(mean_squared_error)(y_test, y_predicted)"
   ]
  },
  {
   "cell_type": "markdown",
   "metadata": {},
   "source": [
    "10 decision trees are best to test "
   ]
  },
  {
   "cell_type": "code",
   "execution_count": null,
   "metadata": {},
   "outputs": [],
   "source": [
    "from sklearn.tree import DecisionTreeRegressor\n"
   ]
  },
  {
   "cell_type": "markdown",
   "metadata": {},
   "source": [
    "### Ensemble methods: boosting - Gradient Boosting\n",
    "Sequential improvement of models by training on their errors\n",
    "\n",
    "![](https://littleml.files.wordpress.com/2017/03/boosted-trees-process.png?w=992)\n",
    "\n",
    "See also: http://arogozhnikov.github.io/2016/07/05/gradient_boosting_playground.html\n"
   ]
  },
  {
   "cell_type": "code",
   "execution_count": 161,
   "metadata": {},
   "outputs": [
    {
     "data": {
      "text/plain": [
       "12.666934741997123"
      ]
     },
     "execution_count": 161,
     "metadata": {},
     "output_type": "execute_result"
    }
   ],
   "source": [
    "from sklearn.ensemble import GradientBoostingRegressor\n",
    "\n",
    "gbr = GradientBoostingRegressor()\n",
    "\n",
    "# Fit \n",
    "gbr.fit(X_train, y_train)\n",
    "\n",
    "# Predict\n",
    "y_predicted = gbr.predict(X_test)\n",
    "\n",
    "# Test\n",
    "mean_squared_error(y_test, y_predicted)"
   ]
  },
  {
   "cell_type": "markdown",
   "metadata": {},
   "source": [
    "### Homework assignment"
   ]
  }
 ],
 "metadata": {
  "celltoolbar": "Slideshow",
  "kernelspec": {
   "display_name": "Python 3",
   "language": "python",
   "name": "python3"
  },
  "language_info": {
   "codemirror_mode": {
    "name": "ipython",
    "version": 3
   },
   "file_extension": ".py",
   "mimetype": "text/x-python",
   "name": "python",
   "nbconvert_exporter": "python",
   "pygments_lexer": "ipython3",
   "version": "3.7.3"
  },
  "livereveal": {
   "start_slideshow_at": "selected"
  }
 },
 "nbformat": 4,
 "nbformat_minor": 2
}
